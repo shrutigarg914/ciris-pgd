{
 "cells": [
  {
   "cell_type": "code",
   "execution_count": 1,
   "id": "47244e91",
   "metadata": {},
   "outputs": [],
   "source": [
    "%load_ext autoreload"
   ]
  },
  {
   "cell_type": "code",
   "execution_count": 2,
   "id": "0ae7f6bb",
   "metadata": {},
   "outputs": [],
   "source": [
    "from pydrake.multibody.plant import AddMultibodyPlantSceneGraph\n",
    "from pydrake.systems.framework import DiagramBuilder\n",
    "from pydrake.multibody.parsing import Parser\n",
    "import os\n",
    "from pydrake.all import (\n",
    "    LoadModelDirectives, ProcessModelDirectives, RevoluteJoint, \n",
    "    RationalForwardKinematics, CspaceFreePolytope, SeparatingPlaneOrder,\n",
    "    RigidTransform, RotationMatrix, Rgba\n",
    ")\n",
    "import numpy as np\n",
    "# from pydrake.geometry.optimization_dev import (CspaceFreePolytope, SeparatingPlaneOrder)\n",
    "from iris_plant_visualizer import IrisPlantVisualizer\n",
    "from pydrake.geometry import Role\n",
    "from pydrake.geometry.optimization import IrisOptions, HPolyhedron, Hyperellipsoid, IrisInRationalConfigurationSpace\n",
    "from pydrake.solvers import MosekSolver, CommonSolverOption, SolverOptions, ScsSolver\n",
    "import time"
   ]
  },
  {
   "cell_type": "code",
   "execution_count": 3,
   "id": "fddde847",
   "metadata": {},
   "outputs": [
    {
     "name": "stderr",
     "output_type": "stream",
     "text": [
      "WARNING:drake:/home/sgrg/rlg/SUPERUROP/ciris/models/assets/oneDOF_iiwa7_with_box_collision.sdf:425: warning: Ignoring unsupported SDFormat element in model: plugin\n",
      "WARNING:drake:/home/sgrg/rlg/SUPERUROP/ciris/models/assets/oneDOF_iiwa7_with_box_collision.sdf:37: warning: Ignoring unsupported SDFormat element in link: self_collide\n",
      "WARNING:drake:/home/sgrg/rlg/SUPERUROP/ciris/models/assets/oneDOF_iiwa7_with_box_collision.sdf:73: warning: Ignoring unsupported SDFormat element in link: self_collide\n",
      "WARNING:drake:/home/sgrg/rlg/SUPERUROP/ciris/models/assets/oneDOF_iiwa7_with_box_collision.sdf:128: warning: Ignoring unsupported SDFormat element in link: self_collide\n",
      "WARNING:drake:/home/sgrg/rlg/SUPERUROP/ciris/models/assets/oneDOF_iiwa7_with_box_collision.sdf:183: warning: Ignoring unsupported SDFormat element in link: self_collide\n",
      "WARNING:drake:/home/sgrg/rlg/SUPERUROP/ciris/models/assets/oneDOF_iiwa7_with_box_collision.sdf:238: warning: Ignoring unsupported SDFormat element in link: self_collide\n",
      "WARNING:drake:/home/sgrg/rlg/SUPERUROP/ciris/models/assets/oneDOF_iiwa7_with_box_collision.sdf:293: warning: Ignoring unsupported SDFormat element in link: self_collide\n",
      "WARNING:drake:/home/sgrg/rlg/SUPERUROP/ciris/models/assets/oneDOF_iiwa7_with_box_collision.sdf:348: warning: Ignoring unsupported SDFormat element in link: self_collide\n",
      "WARNING:drake:/home/sgrg/rlg/SUPERUROP/ciris/models/assets/oneDOF_iiwa7_with_box_collision.sdf:403: warning: Ignoring unsupported SDFormat element in link: self_collide\n",
      "WARNING:drake:/home/sgrg/rlg/SUPERUROP/ciris/models/assets/oneDOF_iiwa7_with_box_collision.sdf:425: warning: Ignoring unsupported SDFormat element in model: plugin\n",
      "WARNING:drake:/home/sgrg/rlg/SUPERUROP/ciris/models/assets/oneDOF_iiwa7_with_box_collision.sdf:37: warning: Ignoring unsupported SDFormat element in link: self_collide\n",
      "WARNING:drake:/home/sgrg/rlg/SUPERUROP/ciris/models/assets/oneDOF_iiwa7_with_box_collision.sdf:73: warning: Ignoring unsupported SDFormat element in link: self_collide\n",
      "WARNING:drake:/home/sgrg/rlg/SUPERUROP/ciris/models/assets/oneDOF_iiwa7_with_box_collision.sdf:128: warning: Ignoring unsupported SDFormat element in link: self_collide\n",
      "WARNING:drake:/home/sgrg/rlg/SUPERUROP/ciris/models/assets/oneDOF_iiwa7_with_box_collision.sdf:183: warning: Ignoring unsupported SDFormat element in link: self_collide\n",
      "WARNING:drake:/home/sgrg/rlg/SUPERUROP/ciris/models/assets/oneDOF_iiwa7_with_box_collision.sdf:238: warning: Ignoring unsupported SDFormat element in link: self_collide\n",
      "WARNING:drake:/home/sgrg/rlg/SUPERUROP/ciris/models/assets/oneDOF_iiwa7_with_box_collision.sdf:293: warning: Ignoring unsupported SDFormat element in link: self_collide\n",
      "WARNING:drake:/home/sgrg/rlg/SUPERUROP/ciris/models/assets/oneDOF_iiwa7_with_box_collision.sdf:348: warning: Ignoring unsupported SDFormat element in link: self_collide\n",
      "WARNING:drake:/home/sgrg/rlg/SUPERUROP/ciris/models/assets/oneDOF_iiwa7_with_box_collision.sdf:403: warning: Ignoring unsupported SDFormat element in link: self_collide\n"
     ]
    }
   ],
   "source": [
    "#construct our robot\n",
    "builder = DiagramBuilder()\n",
    "plant, scene_graph = AddMultibodyPlantSceneGraph(builder, time_step=0.001)\n",
    "parser = Parser(plant)\n",
    "\n",
    "parser.package_map().Add(\"ciris_pgd\", os.path.abspath(''))\n",
    "\n",
    "directives_file = \"/home/sgrg/rlg/SUPERUROP/ciris/models/bimanual_two_DOF.yaml\"\n",
    "directives = LoadModelDirectives(directives_file)\n",
    "models = ProcessModelDirectives(directives, plant, parser)\n",
    "\n",
    "\n",
    "# oneDOF_iiwa_file = \"/home/sgrg/rlg/SUPERUROP/ciris/assets/oneDOF_iiwa7_with_box_collision.sdf\"\n",
    "# with open(oneDOF_iiwa_file, 'r') as f:\n",
    "#     oneDOF_iiwa_string = f.read()\n",
    "# box_asset_file = \"/home/sgrg/rlg/SUPERUROP/ciris/assets/box_small.urdf\"\n",
    "# with open(box_asset_file, 'r') as f:\n",
    "#     box_asset_string = f.read()"
   ]
  },
  {
   "cell_type": "code",
   "execution_count": 4,
   "id": "d910e01f",
   "metadata": {},
   "outputs": [],
   "source": [
    "plant.Finalize()"
   ]
  },
  {
   "cell_type": "code",
   "execution_count": 5,
   "id": "bf863013",
   "metadata": {},
   "outputs": [
    {
     "name": "stdout",
     "output_type": "stream",
     "text": [
      "joint index:  JointIndex(6) joint name:  iiwa_joint_2 IDX 0\n",
      "joint index:  JointIndex(14) joint name:  iiwa_joint_2 IDX 1\n"
     ]
    }
   ],
   "source": [
    "idx = 0\n",
    "q0 = [0.0, 0.0]\n",
    "val = 1.7\n",
    "q_low  = np.array([-val, -val])\n",
    "q_high = np.array([val, val])\n",
    "# set the joint limits of the plant\n",
    "# for model in models:\n",
    "for joint_index in plant.GetJointIndices():\n",
    "    joint = plant.get_mutable_joint(joint_index)\n",
    "    if isinstance(joint, RevoluteJoint):\n",
    "        print(\"joint index: \", joint_index, \"joint name: \", joint.name(), \"IDX\", idx)\n",
    "        joint.set_default_angle(q0[idx])\n",
    "        joint.set_position_limits(lower_limits= np.array([q_low[idx]]), upper_limits= np.array([q_high[idx]]))\n",
    "        idx += 1"
   ]
  },
  {
   "cell_type": "code",
   "execution_count": 6,
   "id": "f6ecc869",
   "metadata": {},
   "outputs": [],
   "source": [
    "Ratfk = RationalForwardKinematics(plant)\n",
    "\n",
    "# the point about which we will take the stereographic projections\n",
    "q_star = np.zeros(plant.num_positions())\n",
    "\n",
    "do_viz = True\n",
    "\n",
    "# The object we will use to perform our certification.\n",
    "cspace_free_polytope = CspaceFreePolytope(plant, scene_graph, SeparatingPlaneOrder.kAffine, q_star)"
   ]
  },
  {
   "cell_type": "code",
   "execution_count": 7,
   "id": "a7eeb7d8",
   "metadata": {},
   "outputs": [
    {
     "name": "stderr",
     "output_type": "stream",
     "text": [
      "INFO:drake:Meshcat listening for connections at http://localhost:7000\n",
      "INFO:drake:Meshcat listening for connections at http://localhost:7001\n",
      "INFO:drake:Meshcat listening for connections at http://localhost:7002\n"
     ]
    }
   ],
   "source": [
    "# This line builds the visualization. Change the viz_role to Role.kIllustration if you\n",
    "# want to see the plant with its illustrated geometry or to Role.kProximity if you want\n",
    "# to see the plant with the collision geometries.\n",
    "visualizer = IrisPlantVisualizer(plant, builder, scene_graph, cspace_free_polytope, rational_forward_kin=Ratfk ,viz_role=Role.kProximity)\n",
    "visualizer.visualize_collision_constraint(factor = 1.2, num_points = 100)\n",
    "visualizer.meshcat_cspace.Set2dRenderMode(RigidTransform(RotationMatrix.MakeZRotation(0), np.array([0,0,1])))\n",
    "visualizer.meshcat_task_space.Set2dRenderMode(RigidTransform(RotationMatrix.MakeZRotation(0), np.array([1,0,0])))\n",
    "visualizer.meshcat_nontc.Set2dRenderMode(RigidTransform(RotationMatrix.MakeZRotation(0), np.array([0,0,1])))"
   ]
  },
  {
   "cell_type": "code",
   "execution_count": 8,
   "id": "3d3a4b21",
   "metadata": {
    "scrolled": true
   },
   "outputs": [
    {
     "data": {
      "application/vnd.jupyter.widget-view+json": {
       "model_id": "d4fa924c72844f9da3268295de716365",
       "version_major": 2,
       "version_minor": 0
      },
      "text/plain": [
       "FloatSlider(value=0.0, description='q0', max=1.7, min=-1.7)"
      ]
     },
     "metadata": {},
     "output_type": "display_data"
    },
    {
     "data": {
      "application/vnd.jupyter.widget-view+json": {
       "model_id": "6fb46894e3e24a309b2bc9d20494264b",
       "version_major": 2,
       "version_minor": 0
      },
      "text/plain": [
       "FloatSlider(value=0.0, description='q1', max=1.7, min=-1.7)"
      ]
     },
     "metadata": {},
     "output_type": "display_data"
    }
   ],
   "source": [
    "import ipywidgets as widgets\n",
    "from functools import partial\n",
    "\n",
    "sliders = []\n",
    "sliders.append(widgets.FloatSlider(min=q_low[0], max=q_high[0], value=0, description='q0'))\n",
    "sliders.append(widgets.FloatSlider(min=q_low[1], max=q_high[1], value=0, description='q1'))\n",
    "\n",
    "q = q0.copy()\n",
    "def handle_slider_change(change, idx):\n",
    "    q[idx] = change['new']\n",
    "    visualizer.show_res_q(q)\n",
    "    \n",
    "idx = 0\n",
    "for slider in sliders:\n",
    "    slider.observe(partial(handle_slider_change, idx = idx), names='value')\n",
    "    idx+=1\n",
    "\n",
    "for slider in sliders:\n",
    "    display(slider)\n"
   ]
  },
  {
   "cell_type": "code",
   "execution_count": 9,
   "id": "30ac4007",
   "metadata": {},
   "outputs": [],
   "source": [
    "# Some seedpoints\n",
    "seed_points_q = np.array([   \n",
    "                              [0.0, 0],\n",
    "                              [0.4, 0.4],\n",
    "                              [-0.5, 0.5],\n",
    "                              [0.5,1.08],\n",
    "                              [1.06, -0.48]\n",
    "                              ])\n",
    "\n",
    "seed_points = np.array([Ratfk.ComputeSValue(seed_points_q[idx], np.zeros((2,)))\\\n",
    "                        for idx in range(seed_points_q.shape[0])])\n",
    "start = seed_points[0]\n",
    "end = seed_points[-1]\n",
    "\n",
    "visualizer.plot_cspace_points(seed_points, \"/iris_seed_points\", radius = 0.02)\n",
    "visualizer.plot_nontc_points(seed_points_q, \"/iris_seed_points_q\", radius = 0.02)"
   ]
  },
  {
   "cell_type": "code",
   "execution_count": 10,
   "id": "54b50264",
   "metadata": {},
   "outputs": [
    {
     "name": "stdout",
     "output_type": "stream",
     "text": [
      "<pydrake.geometry.optimization.HPolyhedron object at 0x7bd25a4f4d30>\n",
      "<pydrake.geometry.optimization.HPolyhedron object at 0x7bd25a4f4df0>\n",
      "<pydrake.geometry.optimization.HPolyhedron object at 0x7bd25a4f4e70>\n",
      "<pydrake.geometry.optimization.HPolyhedron object at 0x7bd25a4f4ef0>\n",
      "<pydrake.geometry.optimization.HPolyhedron object at 0x7bd25a4f4f70>\n"
     ]
    }
   ],
   "source": [
    "default_scale = 1e-2\n",
    "L1_ball = HPolyhedron.MakeL1Ball(2)\n",
    "Linf_ball = HPolyhedron.MakeBox(-np.ones(2), np.ones(2))\n",
    "\n",
    "template_C = np.vstack([L1_ball.A(), Linf_ball.A()])\n",
    "template_d = np.hstack([default_scale*L1_ball.b(), default_scale/np.sqrt(2)*Linf_ball.b()])\n",
    "\n",
    "\n",
    "def make_default_polytope_at_point(seed_point):\n",
    "    return HPolyhedron(template_C, template_d + template_C @ seed_point)\n",
    "\n",
    "\n",
    "# colors to plot the region.\n",
    "default_alpha = 0.2\n",
    "colors_dict = {\n",
    "    0: Rgba(0.565, 0.565, 0.565, default_alpha), # gray\n",
    "    1: Rgba(0.118, 0.533, 0.898, default_alpha), # bluish\n",
    "    2: Rgba(1,     0.757, 0.027, default_alpha), # gold\n",
    "    3: Rgba(0,     0.549, 0.024, default_alpha), # green   \n",
    "    4: Rgba(0.055, 0.914, 0.929, default_alpha), # teal \n",
    "}\n",
    "\n",
    "initial_regions = [(make_default_polytope_at_point(s), colors_dict[i]) for i, s in enumerate(seed_points)]\n",
    "visualizer.add_group_of_regions_to_visualization(initial_regions, \"initial_regions\",\n",
    "                            wireframe = False,\n",
    "                           opacity = default_alpha)\n",
    "visualizer.show_res_q(q_star)"
   ]
  },
  {
   "cell_type": "code",
   "execution_count": 11,
   "id": "bb389103",
   "metadata": {},
   "outputs": [
    {
     "data": {
      "text/plain": [
       "array([0., 0.])"
      ]
     },
     "execution_count": 11,
     "metadata": {},
     "output_type": "execute_result"
    }
   ],
   "source": [
    "q_star"
   ]
  },
  {
   "cell_type": "code",
   "execution_count": 12,
   "id": "1c1daedb",
   "metadata": {},
   "outputs": [
    {
     "name": "stdout",
     "output_type": "stream",
     "text": [
      "True\n"
     ]
    }
   ],
   "source": [
    "# set up the certifier and the options for different search techniques\n",
    "solver_options = SolverOptions()\n",
    "# set this to 1 if you would like to see the solver output in terminal.\n",
    "solver_options.SetOption(CommonSolverOption.kPrintToConsole, 0)\n",
    "\n",
    "os.environ[\"MOSEKLM_LICENSE_FILE\"] = \"/home/sgrg/mosek.lic\"\n",
    "with open(os.environ[\"MOSEKLM_LICENSE_FILE\"], 'r') as f:\n",
    "    contents = f.read()\n",
    "    mosek_file_not_empty = contents != ''\n",
    "print(mosek_file_not_empty)\n",
    "\n",
    "solver_id = MosekSolver.id() if MosekSolver().available() and mosek_file_not_empty else ScsSolver.id()\n",
    "\n",
    "\n",
    "solver_id = MosekSolver.id() if MosekSolver().available() else ScsSolver.id()"
   ]
  },
  {
   "cell_type": "code",
   "execution_count": 13,
   "id": "0103116c",
   "metadata": {},
   "outputs": [],
   "source": [
    "# The options for when we search for a new polytope given positivity certificates.\n",
    "find_polytope_given_lagrangian_option = CspaceFreePolytope.FindPolytopeGivenLagrangianOptions()\n",
    "find_polytope_given_lagrangian_option.solver_options = solver_options\n",
    "find_polytope_given_lagrangian_option.ellipsoid_margin_cost = CspaceFreePolytope.EllipsoidMarginCost.kGeometricMean\n",
    "find_polytope_given_lagrangian_option.search_s_bounds_lagrangians = True\n",
    "find_polytope_given_lagrangian_option.ellipsoid_margin_epsilon = 1e-8\n",
    "find_polytope_given_lagrangian_option.solver_id = solver_id"
   ]
  },
  {
   "cell_type": "code",
   "execution_count": 14,
   "id": "07f856ba",
   "metadata": {},
   "outputs": [],
   "source": [
    "bilinear_alternation_options = CspaceFreePolytope.BilinearAlternationOptions()\n",
    "bilinear_alternation_options.max_iter = 20 # Setting this to a high number will lead to more fill\n",
    "bilinear_alternation_options.convergence_tol = 1e-3\n",
    "bilinear_alternation_options.find_polytope_options = find_polytope_given_lagrangian_option\n",
    "\n",
    "# The options for when we search for new planes and positivity certificates given the polytopes\n",
    "# find_separation_certificate_given_polytope_options = CspaceFreePolytope.FindSeparationCertificateGivenPolytopeOptions()\n",
    "# find_separation_certificate_given_polytope_options.num_threads = -1\n",
    "# Parallelism \tparallelism {Parallelism::Max()}\n",
    "bilinear_alternation_options.find_lagrangian_options.verbose = True\n",
    "bilinear_alternation_options.find_lagrangian_options.solver_options = solver_options\n",
    "bilinear_alternation_options.find_lagrangian_options.ignore_redundant_C = False\n",
    "bilinear_alternation_options.find_lagrangian_options.solver_id = solver_id"
   ]
  },
  {
   "cell_type": "code",
   "execution_count": 15,
   "id": "e83e89ba",
   "metadata": {},
   "outputs": [],
   "source": [
    "binary_search_options = CspaceFreePolytope.BinarySearchOptions()\n",
    "binary_search_options.scale_min = 1\n",
    "binary_search_options.scale_max = 50\n",
    "binary_search_options.max_iter = 100\n",
    "binary_search_options.find_lagrangian_options.verbose = True\n",
    "binary_search_options.find_lagrangian_options.solver_options = solver_options\n",
    "binary_search_options.find_lagrangian_options.ignore_redundant_C = False\n",
    "binary_search_options.find_lagrangian_options.solver_id = solver_id\n",
    "# binary_search_options.find_lagrangian_options = find_separation_certificate_given_polytope_options"
   ]
  },
  {
   "cell_type": "code",
   "execution_count": 16,
   "id": "fdf9888c",
   "metadata": {},
   "outputs": [],
   "source": [
    "from time import perf_counter"
   ]
  },
  {
   "cell_type": "code",
   "execution_count": 17,
   "id": "d511eb85",
   "metadata": {},
   "outputs": [],
   "source": [
    "bilinear_alternation_results_by_seed_point = dict.fromkeys([tuple(s) for s in seed_points])\n",
    "times_per_region = []"
   ]
  },
  {
   "cell_type": "code",
   "execution_count": null,
   "id": "276f0e5b",
   "metadata": {},
   "outputs": [],
   "source": [
    "# We grow certified regions around each seedpoint using bilinear alternation.\n",
    "for i, (s, (initial_region, color)) in enumerate(zip(seed_points, initial_regions)):\n",
    "    print(f\"starting seedpoint {i+1}/{len(initial_regions)}\")\n",
    "    bilinear_alternation_options.find_polytope_options.s_inner_pts = s\n",
    "    t_start = time.perf_counter()\n",
    "    result = cspace_free_polytope.SearchWithBilinearAlternation(set(), initial_region.A(),\n",
    "                                                                initial_region.b(),\n",
    "                                                                bilinear_alternation_options)\n",
    "    t_end = time.perf_counter()\n",
    "    times_per_region.append(t_end - t_start)\n",
    "    bilinear_alternation_results_by_seed_point[tuple(s)] = [(cert.certified_polytope(),\n",
    "                                                             cert, color) for cert in result]"
   ]
  },
  {
   "cell_type": "code",
   "execution_count": null,
   "id": "8344c50b",
   "metadata": {},
   "outputs": [],
   "source": [
    "# visualize the regions and corresponding certificates\n",
    "for i, result in enumerate(bilinear_alternation_results_by_seed_point.values()):\n",
    "    group_name = f\"/bil_alt/seed_point_{i}\"\n",
    "    visualizer.add_group_of_regions_and_certs_to_visualization(result, group_name, \n",
    "                                                               wireframe = False, opacity = 0.2)"
   ]
  },
  {
   "cell_type": "code",
   "execution_count": null,
   "id": "4a575a08",
   "metadata": {},
   "outputs": [],
   "source": [
    "# We grow certified regions around each seedpoint using binary search.\n",
    "binary_search_results_by_seed_point = dict.fromkeys([tuple(s) for s in seed_points])\n",
    "for i, (s, (initial_region, color)) in enumerate(zip(seed_points, initial_regions)):\n",
    "    print(f\"starting seedpoint {i+1}/{len(initial_regions)}\")\n",
    "    time.sleep(0.2)\n",
    "#     print(initial_region.A(), initial_region.b())\n",
    "    cert = cspace_free_polytope.BinarySearch(set(),initial_region.A(),\n",
    "                                               initial_region.b(),s,binary_search_options)\n",
    "    print(cert)\n",
    "    binary_search_results_by_seed_point[tuple(s)] = [(cert.certified_polytope(), cert, color)]                            "
   ]
  },
  {
   "cell_type": "code",
   "execution_count": null,
   "id": "aff98821",
   "metadata": {},
   "outputs": [],
   "source": [
    "# visualize the regions and corresponding certificates\n",
    "for i, result in enumerate(binary_search_results_by_seed_point.values()):\n",
    "    if result[0][0] is None:\n",
    "        print(result)\n",
    "    else:\n",
    "        group_name = f\"/bin_search/seed_point_{i}\"\n",
    "        visualizer.add_group_of_regions_and_certs_to_visualization(result, group_name, \n",
    "                                                                   wireframe = False, opacity = 0.2)"
   ]
  },
  {
   "cell_type": "code",
   "execution_count": null,
   "id": "4568231d",
   "metadata": {},
   "outputs": [],
   "source": [
    "# some of my results were None because the seed points are already in collision"
   ]
  },
  {
   "cell_type": "code",
   "execution_count": null,
   "id": "7dceb98f",
   "metadata": {},
   "outputs": [],
   "source": [
    "# we use this to back off a bit from the binary search results for numerical reasons\n",
    "def scale_polytope_about_point(hpoly, s, scale):\n",
    "    if not hpoly.PointInSet(s):\n",
    "        raise ValueError(f\"The point s must be in the HPolyhedron\")\n",
    "    b_scaled = scale * hpoly.b() + (1 - scale) * hpoly.A() @ s\n",
    "    return HPolyhedron(hpoly.A(), b_scaled)"
   ]
  },
  {
   "cell_type": "code",
   "execution_count": null,
   "id": "77af91a4",
   "metadata": {},
   "outputs": [],
   "source": [
    "# Now we grow certified regions around each seedpoint using bilinear alternation \n",
    "# starting from the binary certified regions.\n",
    "\n",
    "binary_and_bilinear_certified_regions = binary_search_results_by_seed_point.copy()\n",
    "for i, (s, val) in enumerate(binary_and_bilinear_certified_regions.items()):\n",
    "    (initial_region, cert, color) = val[0]\n",
    "    print(f\"starting seedpoint {i+1}/{len(initial_regions)}\")\n",
    "    time.sleep(0.2)\n",
    "    cur_s = np.array(s)\n",
    "    bilinear_alternation_options.find_polytope_options.s_inner_pts = cur_s\n",
    "    \n",
    "    # We back off a little bit from the binary search solution so that we don't encounter numerical issues.\n",
    "    initial_region = scale_polytope_about_point(initial_region, cur_s, 0.90)\n",
    "    certificates = cspace_free_polytope.SearchWithBilinearAlternation(set(),\n",
    "                                                                      initial_region.A(),\n",
    "                                                                      initial_region.b(), \n",
    "                                                                      bilinear_alternation_options)\n",
    "    binary_and_bilinear_certified_regions[s] += [(result.certified_polytope(), result, color) for result in certificates]"
   ]
  },
  {
   "cell_type": "code",
   "execution_count": 23,
   "id": "17c0a3fc",
   "metadata": {},
   "outputs": [
    {
     "name": "stdout",
     "output_type": "stream",
     "text": [
      "<pydrake.geometry.optimization.HPolyhedron object at 0x74f20979f4f0>\n",
      "<pydrake.geometry.optimization.HPolyhedron object at 0x74f2097be470>\n",
      "<pydrake.geometry.optimization.HPolyhedron object at 0x74f2097bc2f0>\n",
      "<pydrake.geometry.optimization.HPolyhedron object at 0x74f2097bca30>\n",
      "<pydrake.geometry.optimization.HPolyhedron object at 0x74f2097be3b0>\n",
      "<pydrake.geometry.optimization.HPolyhedron object at 0x74f2097bdd70>\n",
      "<pydrake.geometry.optimization.HPolyhedron object at 0x74f2097bceb0>\n",
      "<pydrake.geometry.optimization.HPolyhedron object at 0x74f2097bcaf0>\n",
      "<pydrake.geometry.optimization.HPolyhedron object at 0x74f2097bec30>\n",
      "<pydrake.geometry.optimization.HPolyhedron object at 0x74f2097bd430>\n",
      "<pydrake.geometry.optimization.HPolyhedron object at 0x74f2097bf0f0>\n",
      "<pydrake.geometry.optimization.HPolyhedron object at 0x74f2097be7b0>\n",
      "<pydrake.geometry.optimization.HPolyhedron object at 0x74f2097bee30>\n",
      "<pydrake.geometry.optimization.HPolyhedron object at 0x74f2099160f0>\n",
      "<pydrake.geometry.optimization.HPolyhedron object at 0x74f2097bd730>\n",
      "<pydrake.geometry.optimization.HPolyhedron object at 0x74f2097bf5f0>\n",
      "<pydrake.geometry.optimization.HPolyhedron object at 0x74f2097bc9b0>\n",
      "<pydrake.geometry.optimization.HPolyhedron object at 0x74f2097bd4b0>\n",
      "<pydrake.geometry.optimization.HPolyhedron object at 0x74f209915230>\n",
      "<pydrake.geometry.optimization.HPolyhedron object at 0x74f2097bddf0>\n",
      "<pydrake.geometry.optimization.HPolyhedron object at 0x74f2097be3f0>\n",
      "<pydrake.geometry.optimization.HPolyhedron object at 0x74f2097be3f0>\n",
      "<pydrake.geometry.optimization.HPolyhedron object at 0x74f20979c830>\n",
      "<pydrake.geometry.optimization.HPolyhedron object at 0x74f2098fcff0>\n",
      "<pydrake.geometry.optimization.HPolyhedron object at 0x74f2098fdd30>\n",
      "<pydrake.geometry.optimization.HPolyhedron object at 0x74f2098ffaf0>\n",
      "<pydrake.geometry.optimization.HPolyhedron object at 0x74f2098ffdf0>\n",
      "<pydrake.geometry.optimization.HPolyhedron object at 0x74f2098fc0b0>\n",
      "<pydrake.geometry.optimization.HPolyhedron object at 0x74f2098fc770>\n",
      "<pydrake.geometry.optimization.HPolyhedron object at 0x74f2098fcab0>\n",
      "<pydrake.geometry.optimization.HPolyhedron object at 0x74f2098fd270>\n",
      "<pydrake.geometry.optimization.HPolyhedron object at 0x74f2098fd4b0>\n",
      "<pydrake.geometry.optimization.HPolyhedron object at 0x74f2098fc3f0>\n",
      "<pydrake.geometry.optimization.HPolyhedron object at 0x74f2098fce70>\n",
      "<pydrake.geometry.optimization.HPolyhedron object at 0x74f2098fc2b0>\n",
      "<pydrake.geometry.optimization.HPolyhedron object at 0x74f2098fe330>\n",
      "<pydrake.geometry.optimization.HPolyhedron object at 0x74f2098fe0b0>\n",
      "<pydrake.geometry.optimization.HPolyhedron object at 0x74f2098fc9f0>\n",
      "<pydrake.geometry.optimization.HPolyhedron object at 0x74f2098fc6b0>\n",
      "<pydrake.geometry.optimization.HPolyhedron object at 0x74f2098fe7f0>\n",
      "<pydrake.geometry.optimization.HPolyhedron object at 0x74f2098ff5b0>\n",
      "<pydrake.geometry.optimization.HPolyhedron object at 0x74f2098ffbf0>\n",
      "<pydrake.geometry.optimization.HPolyhedron object at 0x74f2098fe1b0>\n",
      "<pydrake.geometry.optimization.HPolyhedron object at 0x74f2098fe1b0>\n",
      "<pydrake.geometry.optimization.HPolyhedron object at 0x74f20979ec30>\n",
      "<pydrake.geometry.optimization.HPolyhedron object at 0x74f2098fcf30>\n",
      "<pydrake.geometry.optimization.HPolyhedron object at 0x74f2098fe6f0>\n",
      "<pydrake.geometry.optimization.HPolyhedron object at 0x74f2098ff3f0>\n",
      "<pydrake.geometry.optimization.HPolyhedron object at 0x74f2098ff970>\n",
      "<pydrake.geometry.optimization.HPolyhedron object at 0x74f2098ffab0>\n",
      "<pydrake.geometry.optimization.HPolyhedron object at 0x74f2098fe530>\n",
      "<pydrake.geometry.optimization.HPolyhedron object at 0x74f2098fccf0>\n",
      "<pydrake.geometry.optimization.HPolyhedron object at 0x74f2098fdcf0>\n",
      "<pydrake.geometry.optimization.HPolyhedron object at 0x74f2098fcbf0>\n",
      "<pydrake.geometry.optimization.HPolyhedron object at 0x74f2098ff030>\n",
      "<pydrake.geometry.optimization.HPolyhedron object at 0x74f2098ff730>\n",
      "<pydrake.geometry.optimization.HPolyhedron object at 0x74f2098fd7f0>\n",
      "<pydrake.geometry.optimization.HPolyhedron object at 0x74f2098fddb0>\n",
      "<pydrake.geometry.optimization.HPolyhedron object at 0x74f2098ff1f0>\n",
      "<pydrake.geometry.optimization.HPolyhedron object at 0x74f2098fcb70>\n",
      "<pydrake.geometry.optimization.HPolyhedron object at 0x74f2098fd030>\n",
      "<pydrake.geometry.optimization.HPolyhedron object at 0x74f2098fc1b0>\n",
      "<pydrake.geometry.optimization.HPolyhedron object at 0x74f2098ff6f0>\n",
      "<pydrake.geometry.optimization.HPolyhedron object at 0x74f2098fdf30>\n",
      "<pydrake.geometry.optimization.HPolyhedron object at 0x74f2098fca70>\n",
      "<pydrake.geometry.optimization.HPolyhedron object at 0x74f2098fca70>\n",
      "<pydrake.geometry.optimization.HPolyhedron object at 0x74f20979c670>\n",
      "<pydrake.geometry.optimization.HPolyhedron object at 0x74f2098fd8f0>\n",
      "<pydrake.geometry.optimization.HPolyhedron object at 0x74f2098fe3b0>\n",
      "<pydrake.geometry.optimization.HPolyhedron object at 0x74f2098eed30>\n",
      "<pydrake.geometry.optimization.HPolyhedron object at 0x74f2098ee5b0>\n",
      "<pydrake.geometry.optimization.HPolyhedron object at 0x74f2098ee1f0>\n",
      "<pydrake.geometry.optimization.HPolyhedron object at 0x74f2098ef3b0>\n",
      "<pydrake.geometry.optimization.HPolyhedron object at 0x74f2098ee2b0>\n",
      "<pydrake.geometry.optimization.HPolyhedron object at 0x74f2098edb30>\n",
      "<pydrake.geometry.optimization.HPolyhedron object at 0x74f2098ed770>\n",
      "<pydrake.geometry.optimization.HPolyhedron object at 0x74f2098efa30>\n",
      "<pydrake.geometry.optimization.HPolyhedron object at 0x74f2098ef7b0>\n",
      "<pydrake.geometry.optimization.HPolyhedron object at 0x74f2098ee130>\n",
      "<pydrake.geometry.optimization.HPolyhedron object at 0x74f2098ee8f0>\n",
      "<pydrake.geometry.optimization.HPolyhedron object at 0x74f2098ef530>\n",
      "<pydrake.geometry.optimization.HPolyhedron object at 0x74f2098ee4b0>\n",
      "<pydrake.geometry.optimization.HPolyhedron object at 0x74f2098ec6b0>\n",
      "<pydrake.geometry.optimization.HPolyhedron object at 0x74f2098edb70>\n",
      "<pydrake.geometry.optimization.HPolyhedron object at 0x74f2098eecf0>\n",
      "<pydrake.geometry.optimization.HPolyhedron object at 0x74f2098efb70>\n",
      "<pydrake.geometry.optimization.HPolyhedron object at 0x74f2098ee730>\n",
      "<pydrake.geometry.optimization.HPolyhedron object at 0x74f2098ee730>\n",
      "<pydrake.geometry.optimization.HPolyhedron object at 0x74f2097adaf0>\n",
      "<pydrake.geometry.optimization.HPolyhedron object at 0x74f2098fc4b0>\n",
      "<pydrake.geometry.optimization.HPolyhedron object at 0x74f2098ee070>\n",
      "<pydrake.geometry.optimization.HPolyhedron object at 0x74f2098ef070>\n",
      "<pydrake.geometry.optimization.HPolyhedron object at 0x74f209956ab0>\n",
      "<pydrake.geometry.optimization.HPolyhedron object at 0x74f209957630>\n",
      "<pydrake.geometry.optimization.HPolyhedron object at 0x74f2099562b0>\n",
      "<pydrake.geometry.optimization.HPolyhedron object at 0x74f209954cb0>\n",
      "<pydrake.geometry.optimization.HPolyhedron object at 0x74f209956c70>\n",
      "<pydrake.geometry.optimization.HPolyhedron object at 0x74f2099578b0>\n",
      "<pydrake.geometry.optimization.HPolyhedron object at 0x74f2099540f0>\n",
      "<pydrake.geometry.optimization.HPolyhedron object at 0x74f209956bf0>\n",
      "<pydrake.geometry.optimization.HPolyhedron object at 0x74f2099553b0>\n",
      "<pydrake.geometry.optimization.HPolyhedron object at 0x74f209955d30>\n",
      "<pydrake.geometry.optimization.HPolyhedron object at 0x74f2099553f0>\n",
      "<pydrake.geometry.optimization.HPolyhedron object at 0x74f209956db0>\n",
      "<pydrake.geometry.optimization.HPolyhedron object at 0x74f2099545b0>\n",
      "<pydrake.geometry.optimization.HPolyhedron object at 0x74f209957830>\n",
      "<pydrake.geometry.optimization.HPolyhedron object at 0x74f209957ef0>\n",
      "<pydrake.geometry.optimization.HPolyhedron object at 0x74f209955fb0>\n",
      "<pydrake.geometry.optimization.HPolyhedron object at 0x74f2099576f0>\n",
      "<pydrake.geometry.optimization.HPolyhedron object at 0x74f2099576f0>\n"
     ]
    }
   ],
   "source": [
    "# visualize the regions and corresponding certificates\n",
    "for i, result in enumerate(binary_and_bilinear_certified_regions.values()):\n",
    "    group_name = f\"/bin_then_bil/seed_point_{i}/\"\n",
    "    visualizer.add_group_of_regions_and_certs_to_visualization(result, group_name, \n",
    "                                                               wireframe = False, opacity = 0.2,\n",
    "                                                               fill = False)\n",
    "    visualizer.add_group_of_regions_and_certs_to_visualization([result[-1]], group_name+\"/final\" , \n",
    "                                                               wireframe = False, opacity = 0.2,\n",
    "                                                               line_width = 1)"
   ]
  },
  {
   "cell_type": "code",
   "execution_count": 16,
   "id": "75a248b2",
   "metadata": {},
   "outputs": [
    {
     "name": "stderr",
     "output_type": "stream",
     "text": [
      "INFO:drake:IrisInConfigurationSpace iteration 0\n",
      "INFO:drake:IrisInConfigurationSpace iteration 1\n",
      "INFO:drake:IrisInConfigurationSpace: Terminating because the hyperellipsoid volume change 0.0012264641869944026 is below the threshold 0.02.\n",
      "INFO:drake:IrisInConfigurationSpace iteration 0\n",
      "INFO:drake:IrisInConfigurationSpace iteration 1\n",
      "INFO:drake:IrisInConfigurationSpace iteration 2\n",
      "INFO:drake:IrisInConfigurationSpace iteration 3\n",
      "INFO:drake:IrisInConfigurationSpace: Terminating because the hyperellipsoid volume change 0.0014710271781924744 is below the threshold 0.02.\n",
      "INFO:drake:IrisInConfigurationSpace iteration 0\n",
      "INFO:drake:IrisInConfigurationSpace iteration 1\n",
      "INFO:drake:IrisInConfigurationSpace: terminating iterations because the seed point is no longer in the region.\n",
      "INFO:drake:IrisInConfigurationSpace iteration 0\n",
      "INFO:drake:IrisInConfigurationSpace iteration 1\n",
      "INFO:drake:IrisInConfigurationSpace iteration 2\n",
      "INFO:drake:IrisInConfigurationSpace: Terminating because the hyperellipsoid volume change 0.0009442604271124866 is below the threshold 0.02.\n",
      "INFO:drake:IrisInConfigurationSpace iteration 0\n",
      "INFO:drake:IrisInConfigurationSpace iteration 1\n",
      "INFO:drake:IrisInConfigurationSpace: terminating iterations because the seed point is no longer in the region.\n"
     ]
    }
   ],
   "source": [
    "iris_regions = []\n",
    "iris_ellipses = []\n",
    "\n",
    "iris_options = IrisOptions()\n",
    "iris_options.require_sample_point_is_contained = True\n",
    "iris_options.configuration_space_margin = 1e-3\n",
    "iris_options.relative_termination_threshold = 0.001\n",
    "\n",
    "context_for_iris = visualizer.task_space_diagram_context\n",
    "for i, s in enumerate(seed_points):\n",
    "    q = Ratfk.ComputeQValue(s, np.zeros((2,)))\n",
    "    plant.SetPositions(plant.GetMyMutableContextFromRoot(context_for_iris), q)\n",
    "    r = IrisInRationalConfigurationSpace(plant, \n",
    "                                         plant.GetMyContextFromRoot(context_for_iris),\n",
    "                                         q_star, iris_options)\n",
    "    iris_regions.append((r, colors_dict[i]))\n",
    "    iris_ellipses.append(r.MaximumVolumeInscribedEllipsoid())"
   ]
  },
  {
   "cell_type": "code",
   "execution_count": 17,
   "id": "aa5ee19e",
   "metadata": {},
   "outputs": [
    {
     "name": "stdout",
     "output_type": "stream",
     "text": [
      "<pydrake.geometry.optimization.HPolyhedron object at 0x7ca780349330>\n",
      "<pydrake.geometry.optimization.HPolyhedron object at 0x7ca74b110130>\n",
      "<pydrake.geometry.optimization.HPolyhedron object at 0x7ca74b1129b0>\n",
      "<pydrake.geometry.optimization.HPolyhedron object at 0x7ca74b14a2b0>\n",
      "<pydrake.geometry.optimization.HPolyhedron object at 0x7ca74b14b9f0>\n"
     ]
    }
   ],
   "source": [
    "visualizer.add_group_of_regions_to_visualization(iris_regions, \"/uncertified-iris\", \n",
    "                                                            wireframe = False, opacity = 0.2)"
   ]
  },
  {
   "cell_type": "code",
   "execution_count": 18,
   "id": "2d66d676",
   "metadata": {},
   "outputs": [
    {
     "name": "stdout",
     "output_type": "stream",
     "text": [
      "starting seedpoint 1/5\n",
      "starting seedpoint 2/5\n",
      "starting seedpoint 3/5\n",
      "starting seedpoint 4/5\n",
      "starting seedpoint 5/5\n"
     ]
    }
   ],
   "source": [
    "binary_search_region_certificates_for_iris = dict.fromkeys([tuple(s) for s in seed_points])\n",
    "for i, (s, (initial_region, color)) in enumerate(zip(seed_points, iris_regions)):\n",
    "    print(f\"starting seedpoint {i+1}/{len(iris_regions)}\")\n",
    "    time.sleep(0.2)    \n",
    "    cert = cspace_free_polytope.BinarySearch(set(),\n",
    "                                                    initial_region.A(),\n",
    "                                                    initial_region.b(), \n",
    "                                                    initial_region.MaximumVolumeInscribedEllipsoid().center(), \n",
    "                                                    binary_search_options)\n",
    "    binary_search_region_certificates_for_iris[tuple(s)] = [(cert.certified_polytope(), cert, color)]"
   ]
  },
  {
   "cell_type": "code",
   "execution_count": 19,
   "id": "95b8dfe2",
   "metadata": {},
   "outputs": [
    {
     "name": "stdout",
     "output_type": "stream",
     "text": [
      "<pydrake.geometry.optimization.HPolyhedron object at 0x7ca74b156970>\n",
      "<pydrake.geometry.optimization.HPolyhedron object at 0x7ca74b154cb0>\n",
      "<pydrake.geometry.optimization.HPolyhedron object at 0x7ca7b5b20570>\n",
      "<pydrake.geometry.optimization.HPolyhedron object at 0x7ca74b14f530>\n",
      "<pydrake.geometry.optimization.HPolyhedron object at 0x7ca74b1484b0>\n"
     ]
    }
   ],
   "source": [
    "for i, result in enumerate(binary_search_region_certificates_for_iris.values()):\n",
    "    group_name = f\"/certified-iris-bin_seed_point_{i}\"\n",
    "    visualizer.add_group_of_regions_and_certs_to_visualization(result, group_name, \n",
    "                                                            wireframe = False, opacity = 0.2)"
   ]
  },
  {
   "cell_type": "code",
   "execution_count": 20,
   "id": "b30fe01c",
   "metadata": {
    "scrolled": true
   },
   "outputs": [
    {
     "name": "stdout",
     "output_type": "stream",
     "text": [
      "{Variable('s[0]', Continuous): 0.5859170125984708, Variable('s[1]', Continuous): -0.24471670271446497}\n"
     ]
    },
    {
     "ename": "RuntimeError",
     "evalue": "Monomial s[1] cannot be evaluated with the given environment which does not provide an entry for variable = s[1].",
     "output_type": "error",
     "traceback": [
      "\u001b[0;31m---------------------------------------------------------------------------\u001b[0m",
      "\u001b[0;31mRuntimeError\u001b[0m                              Traceback (most recent call last)",
      "\u001b[0;32m/tmp/ipykernel_171929/2867228407.py\u001b[0m in \u001b[0;36m<module>\u001b[0;34m\u001b[0m\n\u001b[1;32m      1\u001b[0m \u001b[0;31m# This plane certifies that the two tips of the flippers don't |intersect\u001b[0m\u001b[0;34m\u001b[0m\u001b[0;34m\u001b[0m\u001b[0m\n\u001b[0;32m----> 2\u001b[0;31m \u001b[0mvisualizer\u001b[0m\u001b[0;34m.\u001b[0m\u001b[0madd_plane_indices_of_interest\u001b[0m\u001b[0;34m(\u001b[0m\u001b[0;36m118\u001b[0m\u001b[0;34m)\u001b[0m\u001b[0;34m\u001b[0m\u001b[0;34m\u001b[0m\u001b[0m\n\u001b[0m\u001b[1;32m      3\u001b[0m \u001b[0;34m\u001b[0m\u001b[0m\n\u001b[1;32m      4\u001b[0m \u001b[0;31m# re-display the sliders for convenience\u001b[0m\u001b[0;34m\u001b[0m\u001b[0;34m\u001b[0m\u001b[0m\n\u001b[1;32m      5\u001b[0m \u001b[0;32mfor\u001b[0m \u001b[0mslider\u001b[0m \u001b[0;32min\u001b[0m \u001b[0msliders\u001b[0m\u001b[0;34m:\u001b[0m\u001b[0;34m\u001b[0m\u001b[0;34m\u001b[0m\u001b[0m\n",
      "\u001b[0;32m~/rlg/SUPERUROP/ciris/iris_plant_visualizer.py\u001b[0m in \u001b[0;36madd_plane_indices_of_interest\u001b[0;34m(self, *elts)\u001b[0m\n\u001b[1;32m    114\u001b[0m                 \u001b[0mself\u001b[0m\u001b[0;34m.\u001b[0m\u001b[0m_plane_indices_of_interest\u001b[0m\u001b[0;34m.\u001b[0m\u001b[0mappend\u001b[0m\u001b[0;34m(\u001b[0m\u001b[0me\u001b[0m\u001b[0;34m)\u001b[0m\u001b[0;34m\u001b[0m\u001b[0;34m\u001b[0m\u001b[0m\n\u001b[1;32m    115\u001b[0m         \u001b[0mcur_q\u001b[0m \u001b[0;34m=\u001b[0m \u001b[0mself\u001b[0m\u001b[0;34m.\u001b[0m\u001b[0mplant\u001b[0m\u001b[0;34m.\u001b[0m\u001b[0mGetPositions\u001b[0m\u001b[0;34m(\u001b[0m\u001b[0mself\u001b[0m\u001b[0;34m.\u001b[0m\u001b[0mplant_context\u001b[0m\u001b[0;34m)\u001b[0m\u001b[0;34m\u001b[0m\u001b[0;34m\u001b[0m\u001b[0m\n\u001b[0;32m--> 116\u001b[0;31m         \u001b[0mself\u001b[0m\u001b[0;34m.\u001b[0m\u001b[0mshow_res_q\u001b[0m\u001b[0;34m(\u001b[0m\u001b[0mcur_q\u001b[0m\u001b[0;34m)\u001b[0m\u001b[0;34m\u001b[0m\u001b[0;34m\u001b[0m\u001b[0m\n\u001b[0m\u001b[1;32m    117\u001b[0m \u001b[0;34m\u001b[0m\u001b[0m\n\u001b[1;32m    118\u001b[0m     \u001b[0;32mdef\u001b[0m \u001b[0mremove_plane_indices_of_interest\u001b[0m\u001b[0;34m(\u001b[0m\u001b[0mself\u001b[0m\u001b[0;34m,\u001b[0m \u001b[0;34m*\u001b[0m\u001b[0melts\u001b[0m\u001b[0;34m)\u001b[0m\u001b[0;34m:\u001b[0m\u001b[0;34m\u001b[0m\u001b[0;34m\u001b[0m\u001b[0m\n",
      "\u001b[0;32m~/rlg/SUPERUROP/ciris/iris_plant_visualizer.py\u001b[0m in \u001b[0;36mshow_res_q\u001b[0;34m(self, q)\u001b[0m\n\u001b[1;32m    134\u001b[0m         \u001b[0mself\u001b[0m\u001b[0;34m.\u001b[0m\u001b[0mplot_cspace_points\u001b[0m\u001b[0;34m(\u001b[0m\u001b[0ms\u001b[0m\u001b[0;34m,\u001b[0m \u001b[0mname\u001b[0m\u001b[0;34m=\u001b[0m\u001b[0;34m'/s'\u001b[0m\u001b[0;34m,\u001b[0m \u001b[0mcolor\u001b[0m\u001b[0;34m=\u001b[0m\u001b[0mcolor\u001b[0m\u001b[0;34m,\u001b[0m \u001b[0mradius\u001b[0m\u001b[0;34m=\u001b[0m\u001b[0;36m0.05\u001b[0m\u001b[0;34m)\u001b[0m\u001b[0;34m\u001b[0m\u001b[0;34m\u001b[0m\u001b[0m\n\u001b[1;32m    135\u001b[0m \u001b[0;34m\u001b[0m\u001b[0m\n\u001b[0;32m--> 136\u001b[0;31m         \u001b[0mself\u001b[0m\u001b[0;34m.\u001b[0m\u001b[0mupdate_certificates\u001b[0m\u001b[0;34m(\u001b[0m\u001b[0ms\u001b[0m\u001b[0;34m)\u001b[0m\u001b[0;34m\u001b[0m\u001b[0;34m\u001b[0m\u001b[0m\n\u001b[0m\u001b[1;32m    137\u001b[0m \u001b[0;34m\u001b[0m\u001b[0m\n\u001b[1;32m    138\u001b[0m     \u001b[0;32mdef\u001b[0m \u001b[0mshow_res_s\u001b[0m\u001b[0;34m(\u001b[0m\u001b[0mself\u001b[0m\u001b[0;34m,\u001b[0m \u001b[0ms\u001b[0m\u001b[0;34m)\u001b[0m\u001b[0;34m:\u001b[0m\u001b[0;34m\u001b[0m\u001b[0;34m\u001b[0m\u001b[0m\n",
      "\u001b[0;32m~/rlg/SUPERUROP/ciris/iris_plant_visualizer.py\u001b[0m in \u001b[0;36mupdate_certificates\u001b[0;34m(self, s)\u001b[0m\n\u001b[1;32m    324\u001b[0m                     \u001b[0;32mfor\u001b[0m \u001b[0mplane_index\u001b[0m \u001b[0;32min\u001b[0m \u001b[0mself\u001b[0m\u001b[0;34m.\u001b[0m\u001b[0mplane_indices\u001b[0m\u001b[0;34m:\u001b[0m\u001b[0;34m\u001b[0m\u001b[0;34m\u001b[0m\u001b[0m\n\u001b[1;32m    325\u001b[0m                         \u001b[0;32mif\u001b[0m \u001b[0mplane_index\u001b[0m \u001b[0;32min\u001b[0m \u001b[0mself\u001b[0m\u001b[0;34m.\u001b[0m\u001b[0m_plane_indices_of_interest\u001b[0m\u001b[0;34m:\u001b[0m\u001b[0;34m\u001b[0m\u001b[0;34m\u001b[0m\u001b[0m\n\u001b[0;32m--> 326\u001b[0;31m                             self.plot_plane_by_index_at_s(\n\u001b[0m\u001b[1;32m    327\u001b[0m                                 s, plane_index, search_result, plane_color, name_prefix=name_prefix)\n\u001b[1;32m    328\u001b[0m                         \u001b[0;32melse\u001b[0m\u001b[0;34m:\u001b[0m\u001b[0;34m\u001b[0m\u001b[0;34m\u001b[0m\u001b[0m\n",
      "\u001b[0;32m~/rlg/SUPERUROP/ciris/iris_plant_visualizer.py\u001b[0m in \u001b[0;36mplot_plane_by_index_at_s\u001b[0;34m(self, s, plane_index, search_result, color, name_prefix)\u001b[0m\n\u001b[1;32m    289\u001b[0m         \u001b[0mprint\u001b[0m\u001b[0;34m(\u001b[0m\u001b[0menv\u001b[0m\u001b[0;34m)\u001b[0m\u001b[0;34m\u001b[0m\u001b[0;34m\u001b[0m\u001b[0m\n\u001b[1;32m    290\u001b[0m \u001b[0;34m\u001b[0m\u001b[0m\n\u001b[0;32m--> 291\u001b[0;31m         a = np.array([a_poly.Evaluate(env)\n\u001b[0m\u001b[1;32m    292\u001b[0m                      for a_poly in search_result.a()[plane_index]])\n\u001b[1;32m    293\u001b[0m         \u001b[0mb\u001b[0m \u001b[0;34m=\u001b[0m \u001b[0msearch_result\u001b[0m\u001b[0;34m.\u001b[0m\u001b[0mb\u001b[0m\u001b[0;34m(\u001b[0m\u001b[0;34m)\u001b[0m\u001b[0;34m[\u001b[0m\u001b[0mplane_index\u001b[0m\u001b[0;34m]\u001b[0m\u001b[0;34m.\u001b[0m\u001b[0mEvaluate\u001b[0m\u001b[0;34m(\u001b[0m\u001b[0menv\u001b[0m\u001b[0;34m)\u001b[0m\u001b[0;34m\u001b[0m\u001b[0;34m\u001b[0m\u001b[0m\n",
      "\u001b[0;32m~/rlg/SUPERUROP/ciris/iris_plant_visualizer.py\u001b[0m in \u001b[0;36m<listcomp>\u001b[0;34m(.0)\u001b[0m\n\u001b[1;32m    289\u001b[0m         \u001b[0mprint\u001b[0m\u001b[0;34m(\u001b[0m\u001b[0menv\u001b[0m\u001b[0;34m)\u001b[0m\u001b[0;34m\u001b[0m\u001b[0;34m\u001b[0m\u001b[0m\n\u001b[1;32m    290\u001b[0m \u001b[0;34m\u001b[0m\u001b[0m\n\u001b[0;32m--> 291\u001b[0;31m         a = np.array([a_poly.Evaluate(env)\n\u001b[0m\u001b[1;32m    292\u001b[0m                      for a_poly in search_result.a()[plane_index]])\n\u001b[1;32m    293\u001b[0m         \u001b[0mb\u001b[0m \u001b[0;34m=\u001b[0m \u001b[0msearch_result\u001b[0m\u001b[0;34m.\u001b[0m\u001b[0mb\u001b[0m\u001b[0;34m(\u001b[0m\u001b[0;34m)\u001b[0m\u001b[0;34m[\u001b[0m\u001b[0mplane_index\u001b[0m\u001b[0;34m]\u001b[0m\u001b[0;34m.\u001b[0m\u001b[0mEvaluate\u001b[0m\u001b[0;34m(\u001b[0m\u001b[0menv\u001b[0m\u001b[0;34m)\u001b[0m\u001b[0;34m\u001b[0m\u001b[0;34m\u001b[0m\u001b[0m\n",
      "\u001b[0;31mRuntimeError\u001b[0m: Monomial s[1] cannot be evaluated with the given environment which does not provide an entry for variable = s[1]."
     ]
    }
   ],
   "source": [
    "# This plane certifies that the two tips of the flippers don't |intersect\n",
    "visualizer.add_plane_indices_of_interest(118)\n",
    "\n",
    "# re-display the sliders for convenience\n",
    "for slider in sliders:\n",
    "    display(slider)"
   ]
  },
  {
   "cell_type": "code",
   "execution_count": 26,
   "id": "881fccb7",
   "metadata": {
    "scrolled": false
   },
   "outputs": [
    {
     "name": "stdout",
     "output_type": "stream",
     "text": [
      "current plane index = 0\n"
     ]
    },
    {
     "ename": "KeyboardInterrupt",
     "evalue": "Interrupted by user",
     "output_type": "error",
     "traceback": [
      "\u001b[0;31m---------------------------------------------------------------------------\u001b[0m",
      "\u001b[0;31mKeyboardInterrupt\u001b[0m                         Traceback (most recent call last)",
      "\u001b[0;32m/tmp/ipykernel_152675/1682795532.py\u001b[0m in \u001b[0;36m<module>\u001b[0;34m\u001b[0m\n\u001b[1;32m     11\u001b[0m     \u001b[0mvalid_key_pressed\u001b[0m \u001b[0;34m=\u001b[0m \u001b[0;32mFalse\u001b[0m\u001b[0;34m\u001b[0m\u001b[0;34m\u001b[0m\u001b[0m\n\u001b[1;32m     12\u001b[0m     \u001b[0;32mwhile\u001b[0m \u001b[0;32mnot\u001b[0m \u001b[0mvalid_key_pressed\u001b[0m\u001b[0;34m:\u001b[0m\u001b[0;34m\u001b[0m\u001b[0;34m\u001b[0m\u001b[0m\n\u001b[0;32m---> 13\u001b[0;31m         \u001b[0mkey_press\u001b[0m \u001b[0;34m=\u001b[0m \u001b[0minput\u001b[0m\u001b[0;34m(\u001b[0m\u001b[0;34m\"Enter d to increase plane_count, a to decrease, and e to exit...\"\u001b[0m\u001b[0;34m)\u001b[0m\u001b[0;34m\u001b[0m\u001b[0;34m\u001b[0m\u001b[0m\n\u001b[0m\u001b[1;32m     14\u001b[0m         \u001b[0;32mif\u001b[0m \u001b[0mkey_press\u001b[0m \u001b[0;32min\u001b[0m \u001b[0;34m[\u001b[0m\u001b[0;34m\"a\"\u001b[0m\u001b[0;34m,\u001b[0m \u001b[0;34m\"d\"\u001b[0m\u001b[0;34m,\u001b[0m \u001b[0;34m\"e\"\u001b[0m\u001b[0;34m]\u001b[0m\u001b[0;34m:\u001b[0m\u001b[0;34m\u001b[0m\u001b[0;34m\u001b[0m\u001b[0m\n\u001b[1;32m     15\u001b[0m             \u001b[0mvalid_key_pressed\u001b[0m \u001b[0;34m=\u001b[0m \u001b[0;32mTrue\u001b[0m\u001b[0;34m\u001b[0m\u001b[0;34m\u001b[0m\u001b[0m\n",
      "\u001b[0;32m~/.local/lib/python3.10/site-packages/ipykernel/kernelbase.py\u001b[0m in \u001b[0;36mraw_input\u001b[0;34m(self, prompt)\u001b[0m\n\u001b[1;32m   1268\u001b[0m             \u001b[0mmsg\u001b[0m \u001b[0;34m=\u001b[0m \u001b[0;34m\"raw_input was called, but this frontend does not support input requests.\"\u001b[0m\u001b[0;34m\u001b[0m\u001b[0;34m\u001b[0m\u001b[0m\n\u001b[1;32m   1269\u001b[0m             \u001b[0;32mraise\u001b[0m \u001b[0mStdinNotImplementedError\u001b[0m\u001b[0;34m(\u001b[0m\u001b[0mmsg\u001b[0m\u001b[0;34m)\u001b[0m\u001b[0;34m\u001b[0m\u001b[0;34m\u001b[0m\u001b[0m\n\u001b[0;32m-> 1270\u001b[0;31m         return self._input_request(\n\u001b[0m\u001b[1;32m   1271\u001b[0m             \u001b[0mstr\u001b[0m\u001b[0;34m(\u001b[0m\u001b[0mprompt\u001b[0m\u001b[0;34m)\u001b[0m\u001b[0;34m,\u001b[0m\u001b[0;34m\u001b[0m\u001b[0;34m\u001b[0m\u001b[0m\n\u001b[1;32m   1272\u001b[0m             \u001b[0mself\u001b[0m\u001b[0;34m.\u001b[0m\u001b[0m_parent_ident\u001b[0m\u001b[0;34m[\u001b[0m\u001b[0;34m\"shell\"\u001b[0m\u001b[0;34m]\u001b[0m\u001b[0;34m,\u001b[0m\u001b[0;34m\u001b[0m\u001b[0;34m\u001b[0m\u001b[0m\n",
      "\u001b[0;32m~/.local/lib/python3.10/site-packages/ipykernel/kernelbase.py\u001b[0m in \u001b[0;36m_input_request\u001b[0;34m(self, prompt, ident, parent, password)\u001b[0m\n\u001b[1;32m   1311\u001b[0m                 \u001b[0;31m# re-raise KeyboardInterrupt, to truncate traceback\u001b[0m\u001b[0;34m\u001b[0m\u001b[0;34m\u001b[0m\u001b[0m\n\u001b[1;32m   1312\u001b[0m                 \u001b[0mmsg\u001b[0m \u001b[0;34m=\u001b[0m \u001b[0;34m\"Interrupted by user\"\u001b[0m\u001b[0;34m\u001b[0m\u001b[0;34m\u001b[0m\u001b[0m\n\u001b[0;32m-> 1313\u001b[0;31m                 \u001b[0;32mraise\u001b[0m \u001b[0mKeyboardInterrupt\u001b[0m\u001b[0;34m(\u001b[0m\u001b[0mmsg\u001b[0m\u001b[0;34m)\u001b[0m \u001b[0;32mfrom\u001b[0m \u001b[0;32mNone\u001b[0m\u001b[0;34m\u001b[0m\u001b[0;34m\u001b[0m\u001b[0m\n\u001b[0m\u001b[1;32m   1314\u001b[0m             \u001b[0;32mexcept\u001b[0m \u001b[0mException\u001b[0m\u001b[0;34m:\u001b[0m\u001b[0;34m\u001b[0m\u001b[0;34m\u001b[0m\u001b[0m\n\u001b[1;32m   1315\u001b[0m                 \u001b[0mself\u001b[0m\u001b[0;34m.\u001b[0m\u001b[0mlog\u001b[0m\u001b[0;34m.\u001b[0m\u001b[0mwarning\u001b[0m\u001b[0;34m(\u001b[0m\u001b[0;34m\"Invalid Message:\"\u001b[0m\u001b[0;34m,\u001b[0m \u001b[0mexc_info\u001b[0m\u001b[0;34m=\u001b[0m\u001b[0;32mTrue\u001b[0m\u001b[0;34m)\u001b[0m\u001b[0;34m\u001b[0m\u001b[0;34m\u001b[0m\u001b[0m\n",
      "\u001b[0;31mKeyboardInterrupt\u001b[0m: Interrupted by user"
     ]
    }
   ],
   "source": [
    "plane_indices = np.arange(0, len(cspace_free_polytope.separating_planes()))\n",
    "last_plane_index = 0\n",
    "cur_plane_index = 0\n",
    "plane_indices_to_geometries = {v: k for k,v in cspace_free_polytope.map_geometries_to_separating_planes().items()}\n",
    "\n",
    "visualizer.clear_plane_indices_of_interest()\n",
    "while True:\n",
    "    print(f\"current plane index = {cur_plane_index}\")\n",
    "    \n",
    "    last_plane_index = cur_plane_index\n",
    "    valid_key_pressed = False\n",
    "    while not valid_key_pressed:\n",
    "        key_press = input(\"Enter d to increase plane_count, a to decrease, and e to exit...\")\n",
    "        if key_press in [\"a\", \"d\", \"e\"]:\n",
    "            valid_key_pressed = True\n",
    "    if key_press == \"a\":\n",
    "        cur_plane_index = max(cur_plane_index - 1, min(plane_indices))\n",
    "    elif key_press == \"d\":\n",
    "        cur_plane_index = min(cur_plane_index + 1, max(plane_indices))\n",
    "    elif key_press == \"e\":\n",
    "        break\n",
    "    visualizer.remove_plane_indices_of_interest(last_plane_index)\n",
    "    visualizer.add_plane_indices_of_interest(cur_plane_index)\n",
    "    cur_q = visualizer.plant.GetPositions(visualizer.plant_context)\n",
    "    visualizer.show_res_q(cur_q)\n",
    "    print()"
   ]
  },
  {
   "cell_type": "code",
   "execution_count": 20,
   "id": "add127e9",
   "metadata": {},
   "outputs": [
    {
     "data": {
      "text/plain": [
       "{'initial_regions': [(<pydrake.geometry.optimization.HPolyhedron at 0x7d1307a5ce70>,\n",
       "   None,\n",
       "   Rgba(r=0.565, g=0.565, b=0.565, a=0.2)),\n",
       "  (<pydrake.geometry.optimization.HPolyhedron at 0x7d1307a2e270>,\n",
       "   None,\n",
       "   Rgba(r=0.118, g=0.533, b=0.898, a=0.2)),\n",
       "  (<pydrake.geometry.optimization.HPolyhedron at 0x7d1307a5cf70>,\n",
       "   None,\n",
       "   Rgba(r=1.0, g=0.757, b=0.027, a=0.2)),\n",
       "  (<pydrake.geometry.optimization.HPolyhedron at 0x7d1307a5d030>,\n",
       "   None,\n",
       "   Rgba(r=0.0, g=0.549, b=0.024, a=0.2)),\n",
       "  (<pydrake.geometry.optimization.HPolyhedron at 0x7d1307a5d0b0>,\n",
       "   None,\n",
       "   Rgba(r=0.055, g=0.914, b=0.929, a=0.2))],\n",
       " '/uncertified-iris': [(<pydrake.geometry.optimization.HPolyhedron at 0x7d137d7c15f0>,\n",
       "   None,\n",
       "   Rgba(r=0.565, g=0.565, b=0.565, a=0.2)),\n",
       "  (<pydrake.geometry.optimization.HPolyhedron at 0x7d137c1846b0>,\n",
       "   None,\n",
       "   Rgba(r=0.118, g=0.533, b=0.898, a=0.2)),\n",
       "  (<pydrake.geometry.optimization.HPolyhedron at 0x7d1307aa7e30>,\n",
       "   None,\n",
       "   Rgba(r=1.0, g=0.757, b=0.027, a=0.2)),\n",
       "  (<pydrake.geometry.optimization.HPolyhedron at 0x7d13a70bb230>,\n",
       "   None,\n",
       "   Rgba(r=0.0, g=0.549, b=0.024, a=0.2)),\n",
       "  (<pydrake.geometry.optimization.HPolyhedron at 0x7d13a70c6bf0>,\n",
       "   None,\n",
       "   Rgba(r=0.055, g=0.914, b=0.929, a=0.2))],\n",
       " '/certified-iris-bin_seed_point_0': [(<pydrake.geometry.optimization.HPolyhedron at 0x7d1307a673f0>,\n",
       "   <pydrake.geometry.optimization.CspaceFreePolytope.SearchResult at 0x7d1307b25c30>,\n",
       "   Rgba(r=0.565, g=0.565, b=0.565, a=0.2))],\n",
       " '/certified-iris-bin_seed_point_1': [(<pydrake.geometry.optimization.HPolyhedron at 0x7d1307a678f0>,\n",
       "   <pydrake.geometry.optimization.CspaceFreePolytope.SearchResult at 0x7d1307a66cf0>,\n",
       "   Rgba(r=0.118, g=0.533, b=0.898, a=0.2))],\n",
       " '/certified-iris-bin_seed_point_2': [(<pydrake.geometry.optimization.HPolyhedron at 0x7d1307a65cb0>,\n",
       "   <pydrake.geometry.optimization.CspaceFreePolytope.SearchResult at 0x7d1307a65db0>,\n",
       "   Rgba(r=1.0, g=0.757, b=0.027, a=0.2))],\n",
       " '/certified-iris-bin_seed_point_3': [(<pydrake.geometry.optimization.HPolyhedron at 0x7d1307a64df0>,\n",
       "   <pydrake.geometry.optimization.CspaceFreePolytope.SearchResult at 0x7d1307a67830>,\n",
       "   Rgba(r=0.0, g=0.549, b=0.024, a=0.2))],\n",
       " '/certified-iris-bin_seed_point_4': [(<pydrake.geometry.optimization.HPolyhedron at 0x7d1307a65c70>,\n",
       "   <pydrake.geometry.optimization.CspaceFreePolytope.SearchResult at 0x7d1307a66130>,\n",
       "   Rgba(r=0.055, g=0.914, b=0.929, a=0.2))]}"
      ]
     },
     "execution_count": 20,
     "metadata": {},
     "output_type": "execute_result"
    }
   ],
   "source": [
    "visualizer.region_certificate_groups"
   ]
  },
  {
   "cell_type": "code",
   "execution_count": 23,
   "id": "c61bf547",
   "metadata": {},
   "outputs": [
    {
     "data": {
      "text/plain": [
       "[('initial_regions',\n",
       "  [(<pydrake.geometry.optimization.HPolyhedron at 0x7d1307a5ce70>,\n",
       "    None,\n",
       "    Rgba(r=0.565, g=0.565, b=0.565, a=0.2)),\n",
       "   (<pydrake.geometry.optimization.HPolyhedron at 0x7d1307a2e270>,\n",
       "    None,\n",
       "    Rgba(r=0.118, g=0.533, b=0.898, a=0.2)),\n",
       "   (<pydrake.geometry.optimization.HPolyhedron at 0x7d1307a5cf70>,\n",
       "    None,\n",
       "    Rgba(r=1.0, g=0.757, b=0.027, a=0.2)),\n",
       "   (<pydrake.geometry.optimization.HPolyhedron at 0x7d1307a5d030>,\n",
       "    None,\n",
       "    Rgba(r=0.0, g=0.549, b=0.024, a=0.2)),\n",
       "   (<pydrake.geometry.optimization.HPolyhedron at 0x7d1307a5d0b0>,\n",
       "    None,\n",
       "    Rgba(r=0.055, g=0.914, b=0.929, a=0.2))]),\n",
       " ('/uncertified-iris',\n",
       "  [(<pydrake.geometry.optimization.HPolyhedron at 0x7d137d7c15f0>,\n",
       "    None,\n",
       "    Rgba(r=0.565, g=0.565, b=0.565, a=0.2)),\n",
       "   (<pydrake.geometry.optimization.HPolyhedron at 0x7d137c1846b0>,\n",
       "    None,\n",
       "    Rgba(r=0.118, g=0.533, b=0.898, a=0.2)),\n",
       "   (<pydrake.geometry.optimization.HPolyhedron at 0x7d1307aa7e30>,\n",
       "    None,\n",
       "    Rgba(r=1.0, g=0.757, b=0.027, a=0.2)),\n",
       "   (<pydrake.geometry.optimization.HPolyhedron at 0x7d13a70bb230>,\n",
       "    None,\n",
       "    Rgba(r=0.0, g=0.549, b=0.024, a=0.2)),\n",
       "   (<pydrake.geometry.optimization.HPolyhedron at 0x7d13a70c6bf0>,\n",
       "    None,\n",
       "    Rgba(r=0.055, g=0.914, b=0.929, a=0.2))]),\n",
       " ('/certified-iris-bin_seed_point_0',\n",
       "  [(<pydrake.geometry.optimization.HPolyhedron at 0x7d1307a673f0>,\n",
       "    <pydrake.geometry.optimization.CspaceFreePolytope.SearchResult at 0x7d1307b25c30>,\n",
       "    Rgba(r=0.565, g=0.565, b=0.565, a=0.2))]),\n",
       " ('/certified-iris-bin_seed_point_1',\n",
       "  [(<pydrake.geometry.optimization.HPolyhedron at 0x7d1307a678f0>,\n",
       "    <pydrake.geometry.optimization.CspaceFreePolytope.SearchResult at 0x7d1307a66cf0>,\n",
       "    Rgba(r=0.118, g=0.533, b=0.898, a=0.2))]),\n",
       " ('/certified-iris-bin_seed_point_2',\n",
       "  [(<pydrake.geometry.optimization.HPolyhedron at 0x7d1307a65cb0>,\n",
       "    <pydrake.geometry.optimization.CspaceFreePolytope.SearchResult at 0x7d1307a65db0>,\n",
       "    Rgba(r=1.0, g=0.757, b=0.027, a=0.2))]),\n",
       " ('/certified-iris-bin_seed_point_3',\n",
       "  [(<pydrake.geometry.optimization.HPolyhedron at 0x7d1307a64df0>,\n",
       "    <pydrake.geometry.optimization.CspaceFreePolytope.SearchResult at 0x7d1307a67830>,\n",
       "    Rgba(r=0.0, g=0.549, b=0.024, a=0.2))]),\n",
       " ('/certified-iris-bin_seed_point_4',\n",
       "  [(<pydrake.geometry.optimization.HPolyhedron at 0x7d1307a65c70>,\n",
       "    <pydrake.geometry.optimization.CspaceFreePolytope.SearchResult at 0x7d1307a66130>,\n",
       "    Rgba(r=0.055, g=0.914, b=0.929, a=0.2))])]"
      ]
     },
     "execution_count": 23,
     "metadata": {},
     "output_type": "execute_result"
    }
   ],
   "source": [
    "[(group_name, region_and_cert_list) for group_name, region_and_cert_list in visualizer.region_certificate_groups.items()]"
   ]
  },
  {
   "cell_type": "code",
   "execution_count": 22,
   "id": "01827b68",
   "metadata": {},
   "outputs": [],
   "source": [
    "test = []\n",
    "for group_name, region_and_cert_list in visualizer.region_certificate_groups.items():\n",
    "    for i, (region, search_result, color) in enumerate(region_and_cert_list):\n",
    "        test.append(search_result)"
   ]
  },
  {
   "cell_type": "code",
   "execution_count": 49,
   "id": "35066274",
   "metadata": {},
   "outputs": [
    {
     "name": "stdout",
     "output_type": "stream",
     "text": [
      "{Variable('s[0]', Continuous): 0.5859170125984708, Variable('s[1]', Continuous): -0.24471670271446497} {s[0], s[1]}\n"
     ]
    },
    {
     "ename": "RuntimeError",
     "evalue": "Monomial s[1] cannot be evaluated with the given environment which does not provide an entry for variable = s[1].",
     "output_type": "error",
     "traceback": [
      "\u001b[0;31m---------------------------------------------------------------------------\u001b[0m",
      "\u001b[0;31mRuntimeError\u001b[0m                              Traceback (most recent call last)",
      "\u001b[0;32m/tmp/ipykernel_171929/2416495978.py\u001b[0m in \u001b[0;36m<module>\u001b[0;34m\u001b[0m\n\u001b[1;32m      1\u001b[0m \u001b[0menv\u001b[0m \u001b[0;34m=\u001b[0m \u001b[0;34m{\u001b[0m\u001b[0mvar_s\u001b[0m\u001b[0;34m:\u001b[0m \u001b[0mval_s\u001b[0m \u001b[0;32mfor\u001b[0m \u001b[0mvar_s\u001b[0m\u001b[0;34m,\u001b[0m \u001b[0mval_s\u001b[0m \u001b[0;32min\u001b[0m \u001b[0mzip\u001b[0m\u001b[0;34m(\u001b[0m\u001b[0mvisualizer\u001b[0m\u001b[0;34m.\u001b[0m\u001b[0mrational_forward_kin\u001b[0m\u001b[0;34m.\u001b[0m\u001b[0ms\u001b[0m\u001b[0;34m(\u001b[0m\u001b[0;34m)\u001b[0m\u001b[0;34m,\u001b[0m \u001b[0ms\u001b[0m\u001b[0;34m)\u001b[0m\u001b[0;34m}\u001b[0m\u001b[0;34m\u001b[0m\u001b[0;34m\u001b[0m\u001b[0m\n\u001b[1;32m      2\u001b[0m \u001b[0mprint\u001b[0m\u001b[0;34m(\u001b[0m\u001b[0menv\u001b[0m\u001b[0;34m,\u001b[0m \u001b[0mtest\u001b[0m\u001b[0;34m[\u001b[0m\u001b[0;34m-\u001b[0m\u001b[0;36m1\u001b[0m\u001b[0;34m]\u001b[0m\u001b[0;34m.\u001b[0m\u001b[0ma\u001b[0m\u001b[0;34m(\u001b[0m\u001b[0;34m)\u001b[0m\u001b[0;34m[\u001b[0m\u001b[0;36m118\u001b[0m\u001b[0;34m]\u001b[0m\u001b[0;34m[\u001b[0m\u001b[0;36m0\u001b[0m\u001b[0;34m]\u001b[0m\u001b[0;34m.\u001b[0m\u001b[0mindeterminates\u001b[0m\u001b[0;34m(\u001b[0m\u001b[0;34m)\u001b[0m\u001b[0;34m)\u001b[0m\u001b[0;34m\u001b[0m\u001b[0;34m\u001b[0m\u001b[0m\n\u001b[0;32m----> 3\u001b[0;31m \u001b[0mtest\u001b[0m\u001b[0;34m[\u001b[0m\u001b[0;34m-\u001b[0m\u001b[0;36m1\u001b[0m\u001b[0;34m]\u001b[0m\u001b[0;34m.\u001b[0m\u001b[0ma\u001b[0m\u001b[0;34m(\u001b[0m\u001b[0;34m)\u001b[0m\u001b[0;34m[\u001b[0m\u001b[0;36m118\u001b[0m\u001b[0;34m]\u001b[0m\u001b[0;34m[\u001b[0m\u001b[0;36m0\u001b[0m\u001b[0;34m]\u001b[0m\u001b[0;34m.\u001b[0m\u001b[0mEvaluate\u001b[0m\u001b[0;34m(\u001b[0m\u001b[0menv\u001b[0m\u001b[0;34m)\u001b[0m\u001b[0;34m\u001b[0m\u001b[0;34m\u001b[0m\u001b[0m\n\u001b[0m",
      "\u001b[0;31mRuntimeError\u001b[0m: Monomial s[1] cannot be evaluated with the given environment which does not provide an entry for variable = s[1]."
     ]
    }
   ],
   "source": [
    "env = {var_s: val_s for var_s, val_s in zip(visualizer.rational_forward_kin.s(), s)}\n",
    "print(env, test[-1].a()[118][0].indeterminates())\n",
    "test[-1].a()[118][0].Evaluate(env)"
   ]
  },
  {
   "cell_type": "code",
   "execution_count": 50,
   "id": "8c0be8bb",
   "metadata": {},
   "outputs": [
    {
     "name": "stdout",
     "output_type": "stream",
     "text": [
      "<class 'pydrake.symbolic.Variable'>\n",
      "<class 'pydrake.symbolic.Variable'>\n"
     ]
    }
   ],
   "source": [
    "for i in env.keys():\n",
    "    print(type(i))"
   ]
  },
  {
   "cell_type": "code",
   "execution_count": 51,
   "id": "a160de75",
   "metadata": {},
   "outputs": [
    {
     "data": {
      "text/plain": [
       "{(0.0,\n",
       "  0.0): [(<pydrake.geometry.optimization.HPolyhedron at 0x7ca74b156970>,\n",
       "   <pydrake.geometry.optimization.CspaceFreePolytope.SearchResult at 0x7ca74b14f830>,\n",
       "   Rgba(r=0.565, g=0.565, b=0.565, a=0.2))],\n",
       " (0.2027100355086725,\n",
       "  0.2027100355086725): [(<pydrake.geometry.optimization.HPolyhedron at 0x7ca74b154cb0>,\n",
       "   <pydrake.geometry.optimization.CspaceFreePolytope.SearchResult at 0x7ca7ea762ab0>,\n",
       "   Rgba(r=0.118, g=0.533, b=0.898, a=0.2))],\n",
       " (-0.25534192122103627,\n",
       "  0.25534192122103627): [(<pydrake.geometry.optimization.HPolyhedron at 0x7ca7b5b20570>,\n",
       "   <pydrake.geometry.optimization.CspaceFreePolytope.SearchResult at 0x7ca7eb861970>,\n",
       "   Rgba(r=1.0, g=0.757, b=0.027, a=0.2))],\n",
       " (0.25534192122103627,\n",
       "  0.5994296231624898): [(<pydrake.geometry.optimization.HPolyhedron at 0x7ca74b14f530>,\n",
       "   <pydrake.geometry.optimization.CspaceFreePolytope.SearchResult at 0x7ca74b14b0f0>,\n",
       "   Rgba(r=0.0, g=0.549, b=0.024, a=0.2))],\n",
       " (0.5859170125984708,\n",
       "  -0.24471670271446497): [(<pydrake.geometry.optimization.HPolyhedron at 0x7ca74b1484b0>,\n",
       "   <pydrake.geometry.optimization.CspaceFreePolytope.SearchResult at 0x7ca74b1486b0>,\n",
       "   Rgba(r=0.055, g=0.914, b=0.929, a=0.2))]}"
      ]
     },
     "execution_count": 51,
     "metadata": {},
     "output_type": "execute_result"
    }
   ],
   "source": [
    "binary_search_region_certificates_for_iris"
   ]
  },
  {
   "cell_type": "code",
   "execution_count": 53,
   "id": "23f7cec0",
   "metadata": {},
   "outputs": [
    {
     "data": {
      "text/plain": [
       "[(0.0, 0.0),\n",
       " (0.2027100355086725, 0.2027100355086725),\n",
       " (-0.25534192122103627, 0.25534192122103627),\n",
       " (0.25534192122103627, 0.5994296231624898),\n",
       " (0.5859170125984708, -0.24471670271446497)]"
      ]
     },
     "execution_count": 53,
     "metadata": {},
     "output_type": "execute_result"
    }
   ],
   "source": [
    "[tuple(s) for s in seed_points]"
   ]
  },
  {
   "cell_type": "code",
   "execution_count": 54,
   "id": "c2effd16",
   "metadata": {},
   "outputs": [
    {
     "data": {
      "text/plain": [
       "array([[ 0.        ,  0.        ],\n",
       "       [ 0.20271004,  0.20271004],\n",
       "       [-0.25534192,  0.25534192],\n",
       "       [ 0.25534192,  0.59942962],\n",
       "       [ 0.58591701, -0.2447167 ]])"
      ]
     },
     "execution_count": 54,
     "metadata": {},
     "output_type": "execute_result"
    }
   ],
   "source": [
    "seed_points"
   ]
  },
  {
   "cell_type": "code",
   "execution_count": 60,
   "id": "ca1e2791",
   "metadata": {},
   "outputs": [],
   "source": [
    "regions = []\n",
    "for group_name, region_and_cert_list in visualizer.region_certificate_groups.items():\n",
    "    regions.extend([l[0] for l in region_and_cert_list])"
   ]
  },
  {
   "cell_type": "code",
   "execution_count": 61,
   "id": "1a46fd1b",
   "metadata": {},
   "outputs": [
    {
     "data": {
      "text/plain": [
       "[<pydrake.geometry.optimization.HPolyhedron at 0x7ca74b108770>,\n",
       " <pydrake.geometry.optimization.HPolyhedron at 0x7ca74b108830>,\n",
       " <pydrake.geometry.optimization.HPolyhedron at 0x7ca74b1088b0>,\n",
       " <pydrake.geometry.optimization.HPolyhedron at 0x7ca74b108930>,\n",
       " <pydrake.geometry.optimization.HPolyhedron at 0x7ca7c05bb2b0>,\n",
       " <pydrake.geometry.optimization.HPolyhedron at 0x7ca780349330>,\n",
       " <pydrake.geometry.optimization.HPolyhedron at 0x7ca74b110130>,\n",
       " <pydrake.geometry.optimization.HPolyhedron at 0x7ca74b1129b0>,\n",
       " <pydrake.geometry.optimization.HPolyhedron at 0x7ca74b14a2b0>,\n",
       " <pydrake.geometry.optimization.HPolyhedron at 0x7ca74b14b9f0>,\n",
       " <pydrake.geometry.optimization.HPolyhedron at 0x7ca74b156970>,\n",
       " <pydrake.geometry.optimization.HPolyhedron at 0x7ca74b154cb0>,\n",
       " <pydrake.geometry.optimization.HPolyhedron at 0x7ca7b5b20570>,\n",
       " <pydrake.geometry.optimization.HPolyhedron at 0x7ca74b14f530>,\n",
       " <pydrake.geometry.optimization.HPolyhedron at 0x7ca74b1484b0>]"
      ]
     },
     "execution_count": 61,
     "metadata": {},
     "output_type": "execute_result"
    }
   ],
   "source": [
    "regions"
   ]
  },
  {
   "cell_type": "code",
   "execution_count": null,
   "id": "9a435cfb",
   "metadata": {},
   "outputs": [],
   "source": []
  }
 ],
 "metadata": {
  "kernelspec": {
   "display_name": "Python 3 (ipykernel)",
   "language": "python",
   "name": "python3"
  },
  "language_info": {
   "codemirror_mode": {
    "name": "ipython",
    "version": 3
   },
   "file_extension": ".py",
   "mimetype": "text/x-python",
   "name": "python",
   "nbconvert_exporter": "python",
   "pygments_lexer": "ipython3",
   "version": "3.10.12"
  }
 },
 "nbformat": 4,
 "nbformat_minor": 5
}
