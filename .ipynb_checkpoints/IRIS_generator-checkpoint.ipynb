{
 "cells": [
  {
   "cell_type": "code",
   "execution_count": 1,
   "id": "18cfcb19",
   "metadata": {},
   "outputs": [],
   "source": [
    "%load_ext autoreload\n",
    "%autoreload 2"
   ]
  },
  {
   "cell_type": "code",
   "execution_count": 2,
   "id": "06b0535f",
   "metadata": {},
   "outputs": [],
   "source": [
    "from pydrake.multibody.plant import AddMultibodyPlantSceneGraph\n",
    "from pydrake.systems.framework import DiagramBuilder\n",
    "from pydrake.multibody.parsing import Parser\n",
    "import os\n",
    "from pydrake.all import (\n",
    "    LoadModelDirectives, ProcessModelDirectives, RevoluteJoint, \n",
    "    RationalForwardKinematics, CspaceFreePolytope, SeparatingPlaneOrder,\n",
    "    RigidTransform, RotationMatrix, Rgba,\n",
    "    AffineSubspace, MathematicalProgram, Solve,\n",
    "    MeshcatVisualizer, StartMeshcat\n",
    ")\n",
    "import numpy as np\n",
    "# from pydrake.geometry.optimization_dev import (CspaceFreePolytope, SeparatingPlaneOrder)\n",
    "from iris_plant_visualizer import IrisPlantVisualizer\n",
    "from pydrake.geometry import Role\n",
    "from pydrake.geometry.optimization import IrisOptions, HPolyhedron, Hyperellipsoid, IrisInRationalConfigurationSpace\n",
    "from pydrake.solvers import MosekSolver, CommonSolverOption, SolverOptions, ScsSolver\n",
    "import time"
   ]
  },
  {
   "cell_type": "code",
   "execution_count": 3,
   "id": "32bccffa",
   "metadata": {},
   "outputs": [
    {
     "name": "stderr",
     "output_type": "stream",
     "text": [
      "INFO:drake:Meshcat listening for connections at http://localhost:7001\n"
     ]
    }
   ],
   "source": [
    "#construct our robot\n",
    "builder = DiagramBuilder()\n",
    "plant, scene_graph = AddMultibodyPlantSceneGraph(builder, time_step=0.001)\n",
    "parser = Parser(plant)\n",
    "\n",
    "parser.package_map().Add(\"ciris_pgd\", os.path.abspath(''))\n",
    "\n",
    "directives_file = \"/home/sgrg/rlg/SUPERUROP/ciris/models/iiwa14_sphere_collision_complex_scenario.dmd.yaml\"\n",
    "directives = LoadModelDirectives(directives_file)\n",
    "models = ProcessModelDirectives(directives, plant, parser)\n",
    "plant.Finalize()\n",
    "meshcat = StartMeshcat()\n",
    "MeshcatVisualizer.AddToBuilder(builder, scene_graph, meshcat)\n",
    "diagram = builder.Build()\n",
    "q0 = [0.0, 0.0, 0.0, 0.0, 0.0, 0.0, 0.0]\n",
    "context = diagram.CreateDefaultContext()\n",
    "plant_context = plant.GetMyContextFromRoot(context)\n",
    "plant.SetPositions(plant_context, q0)\n",
    "diagram.ForcedPublish(context)"
   ]
  },
  {
   "cell_type": "code",
   "execution_count": 4,
   "id": "dd6df659",
   "metadata": {},
   "outputs": [
    {
     "name": "stdout",
     "output_type": "stream",
     "text": [
      "<RevoluteJoint name='iiwa_joint_1' index=1 model_instance=2>\n",
      "<RevoluteJoint name='iiwa_joint_2' index=2 model_instance=2>\n",
      "<RevoluteJoint name='iiwa_joint_3' index=3 model_instance=2>\n",
      "<RevoluteJoint name='iiwa_joint_4' index=4 model_instance=2>\n",
      "<RevoluteJoint name='iiwa_joint_5' index=5 model_instance=2>\n",
      "<RevoluteJoint name='iiwa_joint_6' index=6 model_instance=2>\n",
      "<RevoluteJoint name='iiwa_joint_7' index=7 model_instance=2>\n"
     ]
    }
   ],
   "source": [
    "q_low = np.array([-2.967060,-2.094395,-2.967060,-2.094395,-2.967060,-2.094395,-3.054326])\n",
    "q_high = np.array([2.967060,2.094395,2.967060,2.094395,2.967060,2.094395,3.054326])\n",
    "idx = 0\n",
    "for joint_index in plant.GetJointIndices():\n",
    "    joint = plant.get_mutable_joint(joint_index)\n",
    "    if isinstance(joint, RevoluteJoint):\n",
    "        joint.set_default_angle(q0[idx])\n",
    "        joint.set_position_limits(lower_limits= np.array([q_low[idx]]), upper_limits= np.array([q_high[idx]]))\n",
    "        print(joint)\n",
    "        idx += 1"
   ]
  },
  {
   "cell_type": "code",
   "execution_count": 5,
   "id": "a2d0fd35",
   "metadata": {},
   "outputs": [],
   "source": [
    "Ratfk = RationalForwardKinematics(plant)\n",
    "\n",
    "# the point about which we will take the stereographic projections\n",
    "# q_star = np.zeros(plant.num_positions())\n",
    "q_star = np.array([0.0,0.0,0.0,0.0,0.0,0.0,0.0])\n",
    "do_viz = True\n",
    "\n",
    "# The object we will use to perform our certification.\n",
    "cspace_free_polytope = CspaceFreePolytope(plant, scene_graph, SeparatingPlaneOrder.kAffine, q_star)"
   ]
  },
  {
   "cell_type": "code",
   "execution_count": 6,
   "id": "641289f9",
   "metadata": {},
   "outputs": [],
   "source": [
    "from util import *\n",
    "def AnimateIris(root_context, plant, visualizer, region, speed, num_moves=np.inf):\n",
    "    \"\"\"\n",
    "    A simple hit-and-run-style idea for visualizing the IRIS regions:\n",
    "    1. Start at the center. Pick a random direction and run to the boundary.\n",
    "    2. Pick a new random direction; project it onto the current boundary, and run along it. Repeat\n",
    "    \"\"\"\n",
    "\n",
    "    plant_context = plant.GetMyContextFromRoot(root_context)\n",
    "    visualizer_context = visualizer.GetMyContextFromRoot(root_context)\n",
    "\n",
    "    q = region.ChebyshevCenter()\n",
    "    plant.SetPositions(plant_context, q)\n",
    "    visualizer.ForcedPublish(visualizer_context)\n",
    "    active_face = None\n",
    "\n",
    "    print(\"Press the 'Stop Animation' button in Meshcat to continue.\")\n",
    "    meshcat.AddButton(\"Stop Animation\", \"Escape\")\n",
    "\n",
    "    rng = np.random.default_rng()\n",
    "    nq = region.A().shape[1]\n",
    "    prog = MathematicalProgram()\n",
    "    qvar = prog.NewContinuousVariables(nq, \"q\")\n",
    "    prog.AddLinearConstraint(\n",
    "        region.A(), 0 * region.b() - np.inf, region.b(), qvar\n",
    "    )\n",
    "    cost = prog.AddLinearCost(np.ones((nq, 1)), qvar)\n",
    "\n",
    "    count = 0\n",
    "    while meshcat.GetButtonClicks(\"Stop Animation\") < 1:\n",
    "        count += 1\n",
    "        if meshcat.GetButtonClicks(\"Stop Animation\") > 0:\n",
    "            break\n",
    "        direction = rng.standard_normal(nq)\n",
    "        cost.evaluator().UpdateCoefficients(direction)\n",
    "\n",
    "        result = Solve(prog)\n",
    "        assert result.is_success()\n",
    "\n",
    "        q_next = result.GetSolution(qvar)\n",
    "\n",
    "        # Animate between q and q_next (at speed):\n",
    "        # TODO: normalize step size to speed... e.g. something like\n",
    "        # 20 * np.linalg.norm(q_next - q) / speed)\n",
    "        for t in np.append(np.arange(0, 1, speed), 1):\n",
    "            qs = t * q_next + (1 - t) * q\n",
    "            plant.SetPositions(plant_context, qs)\n",
    "            if in_collision(plant, scene_graph, visualizer_context, print_collisions=True):\n",
    "                print(\"In collision!\")\n",
    "            visualizer.ForcedPublish(visualizer_context)\n",
    "            time.sleep(0.01)\n",
    "\n",
    "        q = q_next\n",
    "\n",
    "    meshcat.DeleteButton(\"Stop Animation\")"
   ]
  },
  {
   "cell_type": "code",
   "execution_count": null,
   "id": "c502830a",
   "metadata": {},
   "outputs": [],
   "source": []
  }
 ],
 "metadata": {
  "kernelspec": {
   "display_name": "Python 3 (ipykernel)",
   "language": "python",
   "name": "python3"
  },
  "language_info": {
   "codemirror_mode": {
    "name": "ipython",
    "version": 3
   },
   "file_extension": ".py",
   "mimetype": "text/x-python",
   "name": "python",
   "nbconvert_exporter": "python",
   "pygments_lexer": "ipython3",
   "version": "3.10.12"
  }
 },
 "nbformat": 4,
 "nbformat_minor": 5
}
