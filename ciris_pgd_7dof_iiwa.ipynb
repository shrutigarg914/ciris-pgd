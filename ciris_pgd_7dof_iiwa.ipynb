{
 "cells": [
  {
   "cell_type": "code",
   "execution_count": 1,
   "id": "47244e91",
   "metadata": {},
   "outputs": [],
   "source": [
    "%load_ext autoreload\n",
    "%autoreload 2"
   ]
  },
  {
   "cell_type": "code",
   "execution_count": 2,
   "id": "0ae7f6bb",
   "metadata": {},
   "outputs": [],
   "source": [
    "from pydrake.multibody.plant import AddMultibodyPlantSceneGraph\n",
    "from pydrake.systems.framework import DiagramBuilder\n",
    "from pydrake.multibody.parsing import Parser\n",
    "import os\n",
    "from pydrake.all import (\n",
    "    LoadModelDirectives, ProcessModelDirectives, RevoluteJoint, \n",
    "    RationalForwardKinematics, CspaceFreePolytope, SeparatingPlaneOrder,\n",
    "    RigidTransform, RotationMatrix, Rgba,\n",
    "    AffineSubspace, MathematicalProgram, Solve,\n",
    "    MeshcatVisualizer, StartMeshcat\n",
    ")\n",
    "import numpy as np\n",
    "# from pydrake.geometry.optimization_dev import (CspaceFreePolytope, SeparatingPlaneOrder)\n",
    "from iris_plant_visualizer import IrisPlantVisualizer\n",
    "from pydrake.geometry import Role\n",
    "from pydrake.geometry.optimization import IrisOptions, HPolyhedron, Hyperellipsoid, IrisInRationalConfigurationSpace\n",
    "from pydrake.solvers import MosekSolver, CommonSolverOption, SolverOptions, ScsSolver\n",
    "import time"
   ]
  },
  {
   "cell_type": "code",
   "execution_count": 3,
   "id": "fddde847",
   "metadata": {},
   "outputs": [
    {
     "name": "stderr",
     "output_type": "stream",
     "text": [
      "INFO:drake:Meshcat listening for connections at http://localhost:7000\n"
     ]
    }
   ],
   "source": [
    "#construct our robot\n",
    "builder = DiagramBuilder()\n",
    "plant, scene_graph = AddMultibodyPlantSceneGraph(builder, time_step=0.001)\n",
    "parser = Parser(plant)\n",
    "\n",
    "parser.package_map().Add(\"ciris_pgd\", os.path.abspath(''))\n",
    "\n",
    "directives_file = \"/home/sgrg/rlg/SUPERUROP/ciris/models/iiwa14_sphere_collision_complex_scenario.dmd.yaml\"\n",
    "directives = LoadModelDirectives(directives_file)\n",
    "models = ProcessModelDirectives(directives, plant, parser)\n",
    "plant.Finalize()\n",
    "meshcat = StartMeshcat()\n",
    "MeshcatVisualizer.AddToBuilder(builder, scene_graph, meshcat)\n",
    "diagram = builder.Build()\n",
    "q0 = [0.0, 0.0, 0.0, 0.0, 0.0, 0.0, 0.0]\n",
    "context = diagram.CreateDefaultContext()\n",
    "plant_context = plant.GetMyContextFromRoot(context)\n",
    "plant.SetPositions(plant_context, q0)\n",
    "diagram.ForcedPublish(context)"
   ]
  },
  {
   "cell_type": "code",
   "execution_count": 4,
   "id": "bf863013",
   "metadata": {},
   "outputs": [
    {
     "name": "stdout",
     "output_type": "stream",
     "text": [
      "<RevoluteJoint name='iiwa_joint_1' index=1 model_instance=2>\n",
      "<RevoluteJoint name='iiwa_joint_2' index=2 model_instance=2>\n",
      "<RevoluteJoint name='iiwa_joint_3' index=3 model_instance=2>\n",
      "<RevoluteJoint name='iiwa_joint_4' index=4 model_instance=2>\n",
      "<RevoluteJoint name='iiwa_joint_5' index=5 model_instance=2>\n",
      "<RevoluteJoint name='iiwa_joint_6' index=6 model_instance=2>\n",
      "<RevoluteJoint name='iiwa_joint_7' index=7 model_instance=2>\n"
     ]
    }
   ],
   "source": [
    "q_low = np.array([-2.967060,-2.094395,-2.967060,-2.094395,-2.967060,-2.094395,-3.054326])\n",
    "q_high = np.array([2.967060,2.094395,2.967060,2.094395,2.967060,2.094395,3.054326])\n",
    "idx = 0\n",
    "for joint_index in plant.GetJointIndices():\n",
    "    joint = plant.get_mutable_joint(joint_index)\n",
    "    if isinstance(joint, RevoluteJoint):\n",
    "        joint.set_default_angle(q0[idx])\n",
    "        joint.set_position_limits(lower_limits= np.array([q_low[idx]]), upper_limits= np.array([q_high[idx]]))\n",
    "        print(joint)\n",
    "        idx += 1 "
   ]
  },
  {
   "cell_type": "code",
   "execution_count": 5,
   "id": "f6ecc869",
   "metadata": {},
   "outputs": [],
   "source": [
    "Ratfk = RationalForwardKinematics(plant)\n",
    "\n",
    "# the point about which we will take the stereographic projections\n",
    "# q_star = np.zeros(plant.num_positions())\n",
    "q_star = np.array([0.0,0.0,0.0,0.0,0.0,0.0,0.0])\n",
    "do_viz = True\n",
    "\n",
    "# The object we will use to perform our certification.\n",
    "cspace_free_polytope = CspaceFreePolytope(plant, scene_graph, SeparatingPlaneOrder.kAffine, q_star)"
   ]
  },
  {
   "cell_type": "code",
   "execution_count": 6,
   "id": "a7eeb7d8",
   "metadata": {},
   "outputs": [],
   "source": [
    "from util import *\n",
    "def AnimateIris(root_context, plant, visualizer, region, speed, num_moves=np.inf):\n",
    "    \"\"\"\n",
    "    A simple hit-and-run-style idea for visualizing the IRIS regions:\n",
    "    1. Start at the center. Pick a random direction and run to the boundary.\n",
    "    2. Pick a new random direction; project it onto the current boundary, and run along it. Repeat\n",
    "    \"\"\"\n",
    "\n",
    "    plant_context = plant.GetMyContextFromRoot(root_context)\n",
    "    visualizer_context = visualizer.GetMyContextFromRoot(root_context)\n",
    "\n",
    "    q = region.ChebyshevCenter()\n",
    "    plant.SetPositions(plant_context, q)\n",
    "    visualizer.ForcedPublish(visualizer_context)\n",
    "    active_face = None\n",
    "\n",
    "    print(\"Press the 'Stop Animation' button in Meshcat to continue.\")\n",
    "    meshcat.AddButton(\"Stop Animation\", \"Escape\")\n",
    "\n",
    "    rng = np.random.default_rng()\n",
    "    nq = region.A().shape[1]\n",
    "    prog = MathematicalProgram()\n",
    "    qvar = prog.NewContinuousVariables(nq, \"q\")\n",
    "    prog.AddLinearConstraint(\n",
    "        region.A(), 0 * region.b() - np.inf, region.b(), qvar\n",
    "    )\n",
    "    cost = prog.AddLinearCost(np.ones((nq, 1)), qvar)\n",
    "\n",
    "    count = 0\n",
    "    while meshcat.GetButtonClicks(\"Stop Animation\") < 1:\n",
    "        count += 1\n",
    "        if meshcat.GetButtonClicks(\"Stop Animation\") > 0:\n",
    "            break\n",
    "        direction = rng.standard_normal(nq)\n",
    "        cost.evaluator().UpdateCoefficients(direction)\n",
    "\n",
    "        result = Solve(prog)\n",
    "        assert result.is_success()\n",
    "\n",
    "        q_next = result.GetSolution(qvar)\n",
    "\n",
    "        # Animate between q and q_next (at speed):\n",
    "        # TODO: normalize step size to speed... e.g. something like\n",
    "        # 20 * np.linalg.norm(q_next - q) / speed)\n",
    "        for t in np.append(np.arange(0, 1, speed), 1):\n",
    "            qs = t * q_next + (1 - t) * q\n",
    "            plant.SetPositions(plant_context, qs)\n",
    "            if in_collision(plant, scene_graph, visualizer_context, print_collisions=True):\n",
    "                print(\"In collision!\")\n",
    "            visualizer.ForcedPublish(visualizer_context)\n",
    "            time.sleep(0.01)\n",
    "\n",
    "        q = q_next\n",
    "\n",
    "    meshcat.DeleteButton(\"Stop Animation\")"
   ]
  },
  {
   "cell_type": "code",
   "execution_count": 8,
   "id": "3d3a4b21",
   "metadata": {
    "scrolled": true
   },
   "outputs": [
    {
     "data": {
      "application/vnd.jupyter.widget-view+json": {
       "model_id": "aeb38780d1694bf384aaa82476a3661d",
       "version_major": 2,
       "version_minor": 0
      },
      "text/plain": [
       "FloatSlider(value=0.0, description='q0', max=1.7, min=-1.7)"
      ]
     },
     "metadata": {},
     "output_type": "display_data"
    },
    {
     "data": {
      "application/vnd.jupyter.widget-view+json": {
       "model_id": "05cc3c02d2b6457992e2258e89dff326",
       "version_major": 2,
       "version_minor": 0
      },
      "text/plain": [
       "FloatSlider(value=0.0, description='q1', max=1.7, min=-1.7)"
      ]
     },
     "metadata": {},
     "output_type": "display_data"
    }
   ],
   "source": [
    "import ipywidgets as widgets\n",
    "from functools import partial\n",
    "\n",
    "sliders = []\n",
    "sliders.append(widgets.FloatSlider(min=q_low[0], max=q_high[0], value=0, description='q0'))\n",
    "sliders.append(widgets.FloatSlider(min=q_low[1], max=q_high[1], value=0, description='q1'))\n",
    "\n",
    "q = q0.copy()\n",
    "def handle_slider_change(change, idx):\n",
    "    q[idx] = change['new']\n",
    "    visualizer.show_res_q(q)\n",
    "    \n",
    "idx = 0\n",
    "for slider in sliders:\n",
    "    slider.observe(partial(handle_slider_change, idx = idx), names='value')\n",
    "    idx+=1\n",
    "\n",
    "for slider in sliders:\n",
    "    display(slider)\n"
   ]
  },
  {
   "cell_type": "code",
   "execution_count": null,
   "id": "69c0d47a",
   "metadata": {},
   "outputs": [],
   "source": [
    "init_values = np.array([0.65, 0.1, 0.1, -1.57, -1.31, 0, 1, -1.38])\n",
    "xyzrpy = init_values[:6]\n",
    "left_psi = init_values[6]\n",
    "right_psi = init_values[7]\n",
    "\n",
    "q0 = np.zeros(7)\n",
    "q1 = np.zeros(7)\n",
    "visualize_state(q0, q1, plant, diagram, context)\n",
    "\n",
    "full_valid_config_list = []\n",
    "\n",
    "end_effector_sliders(meshcat, init_values=init_values)\n",
    "ik_sliders(meshcat, init_psis=(left_psi, right_psi))\n",
    "\n",
    "first_iter = True\n",
    "\n",
    "num_clicks_iris = 0\n",
    "num_clicks_connectivity = 0\n",
    "\n",
    "meshcat.AddButton(\"Stop\")\n",
    "meshcat.AddButton(\"Toggle Guard\")\n",
    "meshcat.AddButton(\"Grow IRIS Region\")\n",
    "meshcat.AddButton(\"Plot Connectivity\")\n",
    "while meshcat.GetButtonClicks(\"Stop\") < 1:\n",
    "    q0_old = q0.copy()\n",
    "    q1_old = q1.copy()\n",
    "    xyzrpy_old = xyzrpy.copy()\n",
    "    \n",
    "    xyzrpy = np.array([meshcat.GetSliderValue(name)\n",
    "              for name in [\"x\", \"y\", \"z\", \"roll\", \"pitch\", \"yaw\"]])\n",
    "    \n",
    "    xyz = xyzrpy[0:3]\n",
    "    rpy = RollPitchYaw(xyzrpy[3], xyzrpy[4], xyzrpy[5])\n",
    "    left_tf_goal = RigidTransform(rpy, xyz)\n",
    "    \n",
    "    left_GC2 = meshcat.GetSliderValue(\"left_GC2\") * 2 - 1\n",
    "    left_GC4 = meshcat.GetSliderValue(\"left_GC4\") * 2 - 1\n",
    "    left_GC6 = meshcat.GetSliderValue(\"left_GC6\") * 2 - 1\n",
    "    left_psi_old = left_psi\n",
    "    left_psi = meshcat.GetSliderValue(\"left_psi\")\n",
    "    \n",
    "    right_GC2 = meshcat.GetSliderValue(\"right_GC2\") * 2 - 1\n",
    "    right_GC4 = meshcat.GetSliderValue(\"right_GC4\") * 2 - 1\n",
    "    right_GC6 = meshcat.GetSliderValue(\"right_GC6\") * 2 - 1\n",
    "    right_psi_old = right_psi\n",
    "    right_psi = meshcat.GetSliderValue(\"right_psi\")\n",
    "    \n",
    "    if not first_iter:\n",
    "        if meshcat.GetButtonClicks(\"Grow IRIS Region\") > num_clicks_iris:\n",
    "            num_clicks_iris = meshcat.GetButtonClicks(\"Grow IRIS Region\")\n",
    "            region = grow_region(np.hstack((q0, right_psi)))\n",
    "            AnimateIris(context, plant, diagram, region, speed=0.01, num_moves=10)\n",
    "            regions.append(region)\n",
    "\n",
    "        if meshcat.GetButtonClicks(\"Plot Connectivity\") > num_clicks_connectivity:\n",
    "            num_clicks_connectivity = meshcat.GetButtonClicks(\"Plot Connectivity\")\n",
    "            if len(regions) > 0:\n",
    "                notebook_plot_connectivity(regions)\n",
    "                \n",
    "    if first_iter or np.any(xyzrpy != xyzrpy_old) or left_psi != left_psi_old or right_psi != right_psi_old:\n",
    "        q0 = analytic_ik.IK(left_tf_goal.GetAsMatrix4(),\n",
    "                            [left_GC2, left_GC4, left_GC6], left_psi)\n",
    "\n",
    "        right_tf_goal = RigidTransform(FK_fun(q0))\n",
    "\n",
    "        q1 = analytic_ik.IK(right_tf_goal.GetAsMatrix4(),\n",
    "                            [right_GC2, right_GC4, right_GC6], right_psi)\n",
    "\n",
    "        plant_context = plant.GetMyContextFromRoot(context)\n",
    "        plant.SetPositions(plant_context, np.hstack((q0, q1)))\n",
    "\n",
    "        clear_output(wait=True)\n",
    "\n",
    "        print(list(np.hstack((q0, right_psi))))\n",
    "\n",
    "        for count, region in enumerate(regions):\n",
    "            if region.PointInSet(np.hstack((q0, right_psi))):\n",
    "                print(\"Point in region %d\" % count)\n",
    "\n",
    "        for num, q in zip([0,1], [q0,q1]):\n",
    "            for i in range(len(q)):\n",
    "                if q[i] < iiwa_limits_lower[i]:\n",
    "                    print(\"q%d[%d] too low\" % (num, i))\n",
    "                if q[i] > iiwa_limits_upper[i]:\n",
    "                    print(\"q%d[%d] too high\" % (num, i))\n",
    "\n",
    "        if(not_reachable(q0, left_psi, [left_GC2, left_GC4, left_GC6], analytic_ik, FK_fun)):\n",
    "            print(\"Not reachable\")\n",
    "\n",
    "        if(in_collision(plant, scene_graph, context)):\n",
    "            print(\"In collision\")\n",
    "    \n",
    "    first_iter = False\n",
    "    \n",
    "    if meshcat.GetButtonClicks(\"Toggle Guard\") % 2 == 1:\n",
    "        visualize_state(q0, q1, plant, diagram, context)\n",
    "        time.sleep(0.01)\n",
    "        continue\n",
    "    \n",
    "    if np.any(q0 < iiwa_limits_lower) or \\\n",
    "       np.any(q0 > iiwa_limits_upper) or \\\n",
    "       np.any(q1 < iiwa_limits_lower) or \\\n",
    "       np.any(q1 > iiwa_limits_upper) or \\\n",
    "       not_reachable(q0, left_psi, [left_GC2, left_GC4, left_GC6], analytic_ik, FK_fun) or \\\n",
    "       in_collision(plant, scene_graph, context):\n",
    "        xyzrpy = xyzrpy_old.copy()\n",
    "        q0 = q0_old.copy()\n",
    "        q1 = q1_old.copy()\n",
    "        left_psi = left_psi_old\n",
    "        right_psi = right_psi_old\n",
    "        \n",
    "        for slider_name, value in zip(\n",
    "            [\"x\", \"y\", \"z\", \"roll\", \"pitch\", \"yaw\", \"left_psi\", \"right_psi\"],\n",
    "            np.hstack((xyzrpy, [left_psi, right_psi]))):\n",
    "            meshcat.SetSliderValue(slider_name, value)\n",
    "\n",
    "        visualize_state(q0, q1, plant, diagram, context)\n",
    "    elif np.any(q0 != q0_old) or np.any(q1 != q1_old) \\\n",
    "        or left_psi != left_psi_old or right_psi != right_psi_old:\n",
    "        full_valid_config_list.append(np.hstack((q0, left_psi)))\n",
    "        visualize_state(q0, q1, plant, diagram, context)\n",
    "    \n",
    "    time.sleep(0.01)\n",
    "    \n",
    "    break # Can remove to generate new regions\n",
    "\n",
    "meshcat.DeleteAddedControls()"
   ]
  },
  {
   "cell_type": "code",
   "execution_count": null,
   "id": "50b25120",
   "metadata": {},
   "outputs": [],
   "source": []
  },
  {
   "cell_type": "code",
   "execution_count": null,
   "id": "ab5caecb",
   "metadata": {},
   "outputs": [],
   "source": []
  },
  {
   "cell_type": "code",
   "execution_count": 7,
   "id": "30ac4007",
   "metadata": {},
   "outputs": [],
   "source": [
    "# Some seedpoints\n",
    "seed_points_q = np.array([[0.0, 0.0, 0.0, 0.0, 0.0, 0.0, 0.0]])\n",
    "\n",
    "seed_points = np.array([Ratfk.ComputeSValue(seed_points_q[idx], q_star)\\\n",
    "                        for idx in range(seed_points_q.shape[0])])\n",
    "# start = seed_points[0]\n",
    "# end = seed_points[-1]\n",
    "\n",
    "# visualizer.plot_cspace_points(seed_points, \"/iris_seed_points\", radius = 0.02)\n",
    "# visualizer.plot_nontc_points(seed_points_q, \"/iris_seed_points_q\", radius = 0.02)"
   ]
  },
  {
   "cell_type": "code",
   "execution_count": 8,
   "id": "54b50264",
   "metadata": {},
   "outputs": [],
   "source": [
    "default_scale = 1e-2\n",
    "L1_ball = HPolyhedron.MakeL1Ball(7)\n",
    "Linf_ball = HPolyhedron.MakeBox(-np.ones(7), np.ones(7))\n",
    "\n",
    "template_C = np.vstack([L1_ball.A(), Linf_ball.A()])\n",
    "template_d = np.hstack([default_scale*L1_ball.b(), default_scale/np.sqrt(2)*Linf_ball.b()])\n",
    "\n",
    "\n",
    "def make_default_polytope_at_point(seed_point):\n",
    "    return HPolyhedron(template_C, template_d + template_C @ seed_point)\n",
    "\n",
    "\n",
    "# colors to plot the region.\n",
    "default_alpha = 0.2\n",
    "colors_dict = {\n",
    "    0: Rgba(0.565, 0.565, 0.565, default_alpha), # gray\n",
    "    1: Rgba(0.118, 0.533, 0.898, default_alpha), # bluish\n",
    "    2: Rgba(1,     0.757, 0.027, default_alpha), # gold\n",
    "    3: Rgba(0,     0.549, 0.024, default_alpha), # green   \n",
    "    4: Rgba(0.055, 0.914, 0.929, default_alpha), # teal \n",
    "}\n",
    "\n",
    "initial_regions = [(make_default_polytope_at_point(s), colors_dict[i]) for i, s in enumerate(seed_points)]\n",
    "# visualizer.add_group_of_regions_to_visualization(initial_regions, \"initial_regions\",\n",
    "#                             wireframe = False,\n",
    "#                            opacity = default_alpha)\n",
    "# visualizer.show_res_q(q_star)"
   ]
  },
  {
   "cell_type": "code",
   "execution_count": 29,
   "id": "bb389103",
   "metadata": {},
   "outputs": [
    {
     "data": {
      "text/plain": [
       "array([0., 0., 0., 0., 0., 0., 0.])"
      ]
     },
     "execution_count": 29,
     "metadata": {},
     "output_type": "execute_result"
    }
   ],
   "source": [
    "q_star"
   ]
  },
  {
   "cell_type": "code",
   "execution_count": 9,
   "id": "1c1daedb",
   "metadata": {},
   "outputs": [
    {
     "name": "stdout",
     "output_type": "stream",
     "text": [
      "True\n"
     ]
    }
   ],
   "source": [
    "# set up the certifier and the options for different search techniques\n",
    "solver_options = SolverOptions()\n",
    "# set this to 1 if you would like to see the solver output in terminal.\n",
    "solver_options.SetOption(CommonSolverOption.kPrintToConsole, 0)\n",
    "\n",
    "os.environ[\"MOSEKLM_LICENSE_FILE\"] = \"/home/sgrg/mosek.lic\"\n",
    "with open(os.environ[\"MOSEKLM_LICENSE_FILE\"], 'r') as f:\n",
    "    contents = f.read()\n",
    "    mosek_file_not_empty = contents != ''\n",
    "print(mosek_file_not_empty)\n",
    "\n",
    "solver_id = MosekSolver.id() if MosekSolver().available() and mosek_file_not_empty else ScsSolver.id()\n",
    "\n",
    "\n",
    "solver_id = MosekSolver.id() if MosekSolver().available() else ScsSolver.id()"
   ]
  },
  {
   "cell_type": "code",
   "execution_count": 10,
   "id": "0103116c",
   "metadata": {},
   "outputs": [],
   "source": [
    "# The options for when we search for a new polytope given positivity certificates.\n",
    "find_polytope_given_lagrangian_option = CspaceFreePolytope.FindPolytopeGivenLagrangianOptions()\n",
    "find_polytope_given_lagrangian_option.solver_options = solver_options\n",
    "find_polytope_given_lagrangian_option.ellipsoid_margin_cost = CspaceFreePolytope.EllipsoidMarginCost.kGeometricMean\n",
    "find_polytope_given_lagrangian_option.search_s_bounds_lagrangians = True\n",
    "find_polytope_given_lagrangian_option.ellipsoid_margin_epsilon = 1e-8\n",
    "find_polytope_given_lagrangian_option.solver_id = solver_id"
   ]
  },
  {
   "cell_type": "code",
   "execution_count": 11,
   "id": "07f856ba",
   "metadata": {},
   "outputs": [],
   "source": [
    "bilinear_alternation_options = CspaceFreePolytope.BilinearAlternationOptions()\n",
    "bilinear_alternation_options.max_iter = 20 # Setting this to a high number will lead to more fill\n",
    "bilinear_alternation_options.convergence_tol = 1e-3\n",
    "bilinear_alternation_options.find_polytope_options = find_polytope_given_lagrangian_option\n",
    "\n",
    "# The options for when we search for new planes and positivity certificates given the polytopes\n",
    "# find_separation_certificate_given_polytope_options = CspaceFreePolytope.FindSeparationCertificateGivenPolytopeOptions()\n",
    "# find_separation_certificate_given_polytope_options.num_threads = -1\n",
    "# Parallelism \tparallelism {Parallelism::Max()}\n",
    "bilinear_alternation_options.find_lagrangian_options.verbose = True\n",
    "bilinear_alternation_options.find_lagrangian_options.solver_options = solver_options\n",
    "bilinear_alternation_options.find_lagrangian_options.ignore_redundant_C = False\n",
    "bilinear_alternation_options.find_lagrangian_options.solver_id = solver_id"
   ]
  },
  {
   "cell_type": "code",
   "execution_count": 29,
   "id": "d1cf1c80",
   "metadata": {},
   "outputs": [],
   "source": [
    "binary_search_options = CspaceFreePolytope.BinarySearchOptions()\n",
    "binary_search_options.scale_min = 1\n",
    "binary_search_options.scale_max = 50\n",
    "binary_search_options.max_iter = 100\n",
    "binary_search_options.find_lagrangian_options.verbose = True\n",
    "binary_search_options.find_lagrangian_options.solver_options = solver_options\n",
    "binary_search_options.find_lagrangian_options.ignore_redundant_C = False\n",
    "binary_search_options.find_lagrangian_options.solver_id = solver_id\n",
    "# binary_search_options.find_lagrangian_options = find_separation_certificate_given_polytope_options"
   ]
  },
  {
   "cell_type": "code",
   "execution_count": 12,
   "id": "75a248b2",
   "metadata": {},
   "outputs": [
    {
     "name": "stderr",
     "output_type": "stream",
     "text": [
      "INFO:drake:IrisInConfigurationSpace iteration 0\n",
      "INFO:drake:IrisInConfigurationSpace iteration 1\n",
      "INFO:drake:IrisInConfigurationSpace iteration 2\n",
      "INFO:drake:IrisInConfigurationSpace iteration 3\n",
      "INFO:drake:IrisInConfigurationSpace iteration 4\n",
      "INFO:drake:IrisInConfigurationSpace iteration 5\n",
      "INFO:drake:IrisInConfigurationSpace iteration 6\n",
      "INFO:drake:IrisInConfigurationSpace iteration 7\n",
      "INFO:drake:IrisInConfigurationSpace iteration 8\n",
      "INFO:drake:IrisInConfigurationSpace iteration 9\n",
      "INFO:drake:IrisInConfigurationSpace iteration 10\n",
      "INFO:drake:IrisInConfigurationSpace iteration 11\n",
      "INFO:drake:IrisInConfigurationSpace iteration 12\n",
      "INFO:drake:IrisInConfigurationSpace iteration 13\n",
      "INFO:drake:IrisInConfigurationSpace: Terminating because the hyperellipsoid relative volume change 0.00035609548937206545 is below the threshold 0.001.\n"
     ]
    },
    {
     "name": "stdout",
     "output_type": "stream",
     "text": [
      "time taken  878.396675387994\n"
     ]
    }
   ],
   "source": [
    "start = time.perf_counter()\n",
    "iris_regions = []\n",
    "iris_ellipses = []\n",
    "\n",
    "iris_options = IrisOptions()\n",
    "iris_options.require_sample_point_is_contained = True\n",
    "iris_options.configuration_space_margin = 1e-3\n",
    "iris_options.relative_termination_threshold = 0.001\n",
    "\n",
    "context_for_iris = context\n",
    "for i, s in enumerate(seed_points):\n",
    "    q = Ratfk.ComputeQValue(s, q_star)\n",
    "    plant.SetPositions(plant.GetMyMutableContextFromRoot(context_for_iris), q)\n",
    "    r = IrisInRationalConfigurationSpace(plant, \n",
    "                                         plant.GetMyContextFromRoot(context_for_iris),\n",
    "                                         q_star, iris_options)\n",
    "    iris_regions.append((r, colors_dict[i]))\n",
    "    iris_ellipses.append(r.MaximumVolumeInscribedEllipsoid())\n",
    "end = time.perf_counter()\n",
    "print(\"time taken \", end-start)"
   ]
  },
  {
   "cell_type": "code",
   "execution_count": 27,
   "id": "aa5ee19e",
   "metadata": {},
   "outputs": [
    {
     "name": "stdout",
     "output_type": "stream",
     "text": [
      "Press the 'Stop Animation' button in Meshcat to continue.\n"
     ]
    }
   ],
   "source": [
    "region = iris_regions[0][0]\n",
    "AnimateIris(context, plant, diagram, region, 0.01, num_moves=100)"
   ]
  },
  {
   "cell_type": "code",
   "execution_count": null,
   "id": "2d66d676",
   "metadata": {},
   "outputs": [
    {
     "name": "stdout",
     "output_type": "stream",
     "text": [
      "starting seedpoint 1/1\n"
     ]
    }
   ],
   "source": [
    "binary_search_region_certificates_for_iris = dict.fromkeys([tuple(s) for s in seed_points])\n",
    "for i, (s, (initial_region, color)) in enumerate(zip(seed_points, iris_regions)):\n",
    "    print(f\"starting seedpoint {i+1}/{len(iris_regions)}\")\n",
    "    time.sleep(0.2)\n",
    "    cert = cspace_free_polytope.BinarySearch(set(),\n",
    "                                                    initial_region.A(),\n",
    "                                                    initial_region.b(), \n",
    "                                                    initial_region.MaximumVolumeInscribedEllipsoid().center(), \n",
    "                                                    binary_search_options)\n",
    "    binary_search_region_certificates_for_iris[tuple(s)] = [(cert.certified_polytope(), cert, color)]"
   ]
  },
  {
   "cell_type": "code",
   "execution_count": null,
   "id": "95b8dfe2",
   "metadata": {},
   "outputs": [],
   "source": [
    "# for i, result in enumerate(binary_search_region_certificates_for_iris.values()):\n",
    "#     group_name = f\"/certified-iris-bin_seed_point_{i}\"\n",
    "#     visualizer.add_group_of_regions_and_certs_to_visualization(result, group_name, \n",
    "#                                                             wireframe = False, opacity = 0.2)"
   ]
  },
  {
   "cell_type": "code",
   "execution_count": 19,
   "id": "ca1e2791",
   "metadata": {},
   "outputs": [],
   "source": [
    "regions = []\n",
    "# for group_name, region_and_cert_list in visualizer.region_certificate_groups.items():\n",
    "for i, result in enumerate(binary_search_region_certificates_for_iris.values()):\n",
    "#     regions.extend([l[0] for l in region_and_cert_list])\n",
    "    regions.extend(result)"
   ]
  },
  {
   "cell_type": "code",
   "execution_count": 20,
   "id": "c545495e",
   "metadata": {},
   "outputs": [
    {
     "data": {
      "text/plain": [
       "4"
      ]
     },
     "execution_count": 20,
     "metadata": {},
     "output_type": "execute_result"
    }
   ],
   "source": [
    "len(regions)"
   ]
  },
  {
   "cell_type": "code",
   "execution_count": 21,
   "id": "1a46fd1b",
   "metadata": {},
   "outputs": [],
   "source": [
    "regions_visualizer = [(region[0].ReduceInequalities(), region[2]) for region in regions]\n",
    "regions = [(region[0].ReduceInequalities()) for region in regions]"
   ]
  },
  {
   "cell_type": "code",
   "execution_count": null,
   "id": "9a435cfb",
   "metadata": {
    "scrolled": true
   },
   "outputs": [],
   "source": [
    "# visualizer.add_group_of_regions_to_visualization(regions_visualizer, \"initial_regions\",\n",
    "#                             wireframe = True,\n",
    "#                            opacity = default_alpha)"
   ]
  },
  {
   "cell_type": "code",
   "execution_count": 21,
   "id": "562d1a52",
   "metadata": {},
   "outputs": [
    {
     "name": "stdout",
     "output_type": "stream",
     "text": [
      "<pydrake.geometry.optimization.HPolyhedron object at 0x7c409810ffb0>\n"
     ]
    }
   ],
   "source": [
    "import visualization_utils as viz_utils\n",
    "# viz_utils.plot_polytope(regions_visualizer[0][0], visualizer.meshcat_cspace, \"test\", wireframe=False)"
   ]
  },
  {
   "cell_type": "code",
   "execution_count": 22,
   "id": "5aa31fca",
   "metadata": {},
   "outputs": [],
   "source": [
    "from pgd import *\n",
    "def get_step(values, indices, best_path, cost_func, gradient_func, step_size=0.01, backtracking=False, ndim=8):\n",
    "    # R is a delay operator\n",
    "    df_Rk = []\n",
    "    last_common = 0\n",
    "    f_Rk = 0\n",
    "    # values = np.asarray(values)\n",
    "    # t1 = time.perf_counter()\n",
    "    for v in range(len(best_path[1:-1])):\n",
    "        gradients = gradient_func(values[indices[v][0]:indices[v][1]])\n",
    "        f_Rk += cost_func(values[indices[v][0]:indices[v][1]])\n",
    "        if v==0:\n",
    "            df_Rk.extend(gradients)\n",
    "        else:\n",
    "            # df_Rk[last_common-ndim:] += gradients[:ndim]\n",
    "            for i in range(ndim):\n",
    "                df_Rk[last_common-ndim+i] += gradients[i]\n",
    "            df_Rk.extend(gradients[ndim:])\n",
    "        last_common = len(df_Rk)\n",
    "    # t2 = time.perf_counter()\n",
    "    # print(t2-t1)\n",
    "    df_Rk = np.asarray(df_Rk)\n",
    "\n",
    "#     print(len(df_Rk))\n",
    "    f_k = 0\n",
    "    t1 = 0\n",
    "    t2 = 0\n",
    "    L_norm = 0\n",
    "    t = 0\n",
    "    \n",
    "    beta = 0.5\n",
    "    # https://www.cs.cmu.edu/~ggordon/10725-F12/scribes/10725_Lecture5.pdf\n",
    "    if backtracking:\n",
    "        # print('b', end='')\n",
    "        t = 0.1\n",
    "        t1 = time.perf_counter()\n",
    "        x_k = values - t * df_Rk\n",
    "        f_k = 0 # TODO: FIX THIS\n",
    "        for v in range(len(best_path[1:-1])):\n",
    "            f_k += cost_func(x_k[indices[v][0]:indices[v][1]])\n",
    "        L_norm = df_Rk.dot(df_Rk)\n",
    "        while f_k > (f_Rk - 0.5*t*(L_norm)):\n",
    "            t = beta * t\n",
    "            x_k = values - t * df_Rk\n",
    "            f_k = 0\n",
    "            for v in range(len(best_path[1:-1])):\n",
    "                f_k += cost_func(x_k[indices[v][0]:indices[v][1]])\n",
    "            # print(f_k, f_Rk, df_Rk.dot(df_Rk))\n",
    "\n",
    "            t2 = time.perf_counter()\n",
    "        # print(t2-t1)\n",
    "\n",
    "        return x_k, f_k, t2-t1, t, L_norm\n",
    "    else:\n",
    "        return df_Rk*step_size*-1, f_k, t2-t1, t, L_norm"
   ]
  },
  {
   "cell_type": "code",
   "execution_count": 23,
   "id": "02baf46c",
   "metadata": {},
   "outputs": [
    {
     "name": "stderr",
     "output_type": "stream",
     "text": [
      "INFO:drake:Solved GCS shortest path using Mosek with convex_relaxation=true and preprocessing=true and rounding.\n",
      "INFO:drake:Finished 1000 rounding trials with Mosek.\n"
     ]
    },
    {
     "name": "stdout",
     "output_type": "stream",
     "text": [
      "Start vertex is  <pydrake.geometry.optimization.GraphOfConvexSets.Vertex object at 0x71ee4012ec30>   and end vertex is  <pydrake.geometry.optimization.GraphOfConvexSets.Vertex object at 0x71ee402a0eb0>\n",
      "pruned\n",
      "Cost for best path found   2.140282439151793\n"
     ]
    }
   ],
   "source": [
    "order = 3\n",
    "start = Ratfk.ComputeSValue(np.array([-0.4, 0.1]), q_star)\n",
    "goal = Ratfk.ComputeSValue(np.array([1.1, 1.0]), q_star)\n",
    "\n",
    "ORDER = order\n",
    "gcs, flows_result = generate_flows(start, goal, ORDER, regions, dim=2)\n",
    "start_vertex, end_vertex = prune(gcs, flows_result, epsilon=0.00001)\n",
    "print(\"pruned\")\n",
    "best_path, best_rounded_result = run_dfs(flows_result, gcs, start_vertex, end_vertex, iterations=5)\n",
    "# ###############################"
   ]
  },
  {
   "cell_type": "code",
   "execution_count": 24,
   "id": "2c751715",
   "metadata": {},
   "outputs": [],
   "source": [
    "# # setup for PGD\n",
    "variables, indices, h_list = generate_variable_list(best_path, ndim=2)\n",
    "init_values = [best_rounded_result.GetSolution(x) for x in variables]\n",
    "init_values.extend([best_rounded_result.GetSolution(h) for h in h_list])\n",
    "init_values = np.asarray(init_values)\n",
    "\n",
    "import numpy.linalg as la\n",
    "# # iterate until infeasible.\n",
    "# # get constraints and put into HPolyhedron - should be the same as \n",
    "prog, _ = prog_with_constraints(variables, best_path, start, goal, indices, 2, h_list)"
   ]
  },
  {
   "cell_type": "code",
   "execution_count": 25,
   "id": "61c4ae41",
   "metadata": {},
   "outputs": [
    {
     "name": "stdout",
     "output_type": "stream",
     "text": [
      "program set\n"
     ]
    }
   ],
   "source": [
    "print(\"program set\")\n",
    "hpoly = HPolyhedron(prog)\n",
    "# is A necessary?\n",
    "A = hpoly.A()\n",
    "b = hpoly.b()\n",
    "# create affine subspace\n",
    "A_eq, b_eq = get_equality_matrices(prog)\n",
    "U, S, V = la.svd(A_eq)\n",
    "\n",
    "# nullspace is spanned by the last n-r columns of V\n",
    "# rank is almost zero entries along the diagonal of S\n",
    "r = (S>0.00001).sum()\n",
    "basis = V[r:]\n",
    "translation = la.pinv(A_eq).dot(b_eq)\n",
    "\n",
    "affine_sub = AffineSubspace(basis.T, translation)"
   ]
  },
  {
   "cell_type": "code",
   "execution_count": 26,
   "id": "b44ab603",
   "metadata": {},
   "outputs": [
    {
     "name": "stderr",
     "output_type": "stream",
     "text": [
      "INFO:drake:Solved GCS shortest path using Mosek with convex_relaxation=true and preprocessing=true and rounding.\n",
      "INFO:drake:Finished 1000 rounding trials with Mosek.\n"
     ]
    }
   ],
   "source": [
    "gcs, flows_result = generate_flows(start, goal, ORDER, regions, dim=2)"
   ]
  },
  {
   "cell_type": "code",
   "execution_count": 27,
   "id": "3eccea34",
   "metadata": {},
   "outputs": [
    {
     "name": "stderr",
     "output_type": "stream",
     "text": [
      "INFO:drake:Solved GCS shortest path using Mosek with convex_relaxation=true and preprocessing=true and rounding.\n",
      "INFO:drake:Finished 1000 rounding trials with Mosek.\n"
     ]
    },
    {
     "data": {
      "text/plain": [
       "array([[-0.84228838],\n",
       "       [-0.48305507]])"
      ]
     },
     "execution_count": 27,
     "metadata": {},
     "output_type": "execute_result"
    }
   ],
   "source": [
    "# start = seed_points_q[0]\n",
    "from pydrake.all import GcsTrajectoryOptimization, Point, GraphOfConvexSetsOptions\n",
    "order = 3\n",
    "gcs = GcsTrajectoryOptimization(2)\n",
    "main_graph = gcs.AddRegions(regions, order, h_min=0.1, h_max=100, name=\"\")\n",
    "start_graph = gcs.AddRegions([Point(start)], 0)\n",
    "goal_graph = gcs.AddRegions([Point(goal)], 0)\n",
    "gcs.AddEdges(start_graph, main_graph)\n",
    "gcs.AddEdges(main_graph, goal_graph)\n",
    "\n",
    "# gcs.AddTimeCost(1000)\n",
    "gcs.AddPathLengthCost()\n",
    "gcs.AddPathContinuityConstraints(2)\n",
    "\n",
    "options = GraphOfConvexSetsOptions()\n",
    "options.max_rounding_trials = 1000\n",
    "options.max_rounded_paths = 100\n",
    "options.convex_relaxation = True\n",
    "\n",
    "traj, _ = gcs.SolvePath(start_graph, goal_graph, options)\n",
    "traj.value(0)"
   ]
  },
  {
   "cell_type": "markdown",
   "id": "eda8e2d9",
   "metadata": {},
   "source": [
    "## Running PGD"
   ]
  },
  {
   "cell_type": "code",
   "execution_count": 92,
   "id": "246e5889",
   "metadata": {},
   "outputs": [
    {
     "name": "stdout",
     "output_type": "stream",
     "text": [
      "setup\n"
     ]
    }
   ],
   "source": [
    "t1_start = perf_counter() \n",
    "init_values = [best_rounded_result.GetSolution(x) for x in variables]\n",
    "init_values.extend([best_rounded_result.GetSolution(h) for h in h_list])\n",
    "init_values = np.asarray(init_values)\n",
    " \n",
    "iters = 50\n",
    "eps = 1e-7\n",
    "qps_solved = 0\n",
    "iter_costs = []\n",
    "x_axis = []\n",
    "times = []\n",
    "t_grads = []\n",
    "t_bt = []\n",
    "t_qp = []\n",
    "bt_costs = []\n",
    "time_steps = []\n",
    "lnorms = []\n",
    "running_qp_project = []\n",
    "termin = []\n",
    "total_ts = []\n",
    "costs_ts = []\n",
    "qp, _ = prog_with_constraints(variables, best_path, start, goal, indices, 2, h_list)\n",
    "init_values, qp_c = run_qp_proj(variables, init_values, best_path, start, goal, indices, h_list, qp)\n",
    "print('setup')"
   ]
  },
  {
   "cell_type": "code",
   "execution_count": 93,
   "id": "a7a7ec94",
   "metadata": {},
   "outputs": [
    {
     "name": "stdout",
     "output_type": "stream",
     "text": [
      "warm start costfn took  0.7016762330022175\n"
     ]
    }
   ],
   "source": [
    "from jax import grad\n",
    "import jax\n",
    "# define costfn\n",
    "jax.clear_caches()\n",
    "costfn = jax.jit(distance_for_vertex, backend=\"cpu\")\n",
    "t1 = perf_counter()\n",
    "costfn(init_values[indices[0][0]:indices[0][1]])\n",
    "t2 = perf_counter()\n",
    "print(\"warm start costfn took \", t2 - t1)"
   ]
  },
  {
   "cell_type": "code",
   "execution_count": 94,
   "id": "bdadd717",
   "metadata": {},
   "outputs": [
    {
     "data": {
      "text/plain": [
       "1.8280335789968376"
      ]
     },
     "execution_count": 94,
     "metadata": {},
     "output_type": "execute_result"
    }
   ],
   "source": [
    "grad_cost = grad(distance_for_vertex)\n",
    "grad_jit = jax.jit(grad_cost, backend='cpu')\n",
    "t1 = perf_counter()\n",
    "grad_jit(init_values[indices[1][0]:indices[1][1]])#.block_until_ready()\n",
    "t2 = perf_counter()\n",
    "t2 - t1"
   ]
  },
  {
   "cell_type": "code",
   "execution_count": 95,
   "id": "7454d378",
   "metadata": {},
   "outputs": [
    {
     "name": "stdout",
     "output_type": "stream",
     "text": [
      "     \n",
      "......Solve time: 4.003890148997016 QPs run 6 iteration_costs [Array(3.3618877, dtype=float32), Array(3.365778, dtype=float32), Array(3.3663993, dtype=float32), Array(3.366781, dtype=float32), Array(3.366707, dtype=float32), Array(3.3661795, dtype=float32), Array(3.3661795, dtype=float32)]\n"
     ]
    }
   ],
   "source": [
    "investigative_trajs = []\n",
    "exp_avg = 0\n",
    "moving_avg = 0\n",
    "diff_termin = []\n",
    "window = 5\n",
    "i = 0\n",
    "# for i in range(1):\n",
    "while (len(diff_termin)==0 or abs(diff_termin[-1])>0.005) and i < 70:\n",
    "    total_start = perf_counter()\n",
    "    grad_time = perf_counter()\n",
    "#     print('.')\n",
    "#     bt_cost, bt_time, ts, l_norm = 0, 0, 0, 0\n",
    "    init_values[:len(variables)], bt_cost, bt_time, ts, l_norm = get_step(init_values[:len(variables)], indices, best_path, costfn, grad_jit, step_size=0.01, backtracking=True, ndim=2)\n",
    "#     init_values[:len(variables)] = get_step(init_values[:len(variables)], indices, best_path, costfn, grad_jit, step_size=0.005, backtracking=False)\n",
    "    grad_time_stop = perf_counter()\n",
    "#     print(grad_time_stop - grad_time)\n",
    "    #### NOT TIMED #####\n",
    "    t_grads.append(grad_time_stop - grad_time)\n",
    "    t_bt.append(bt_time)\n",
    "    bt_costs.append(bt_cost)\n",
    "    time_steps.append(ts)\n",
    "    lnorms.append(l_norm)\n",
    "    ## NOT TIMED FIN ##\n",
    "    qp_time = perf_counter()\n",
    "    cheap_proj = affine_sub.Projection(init_values)[1].T[0] # DOUBLE CHECK THE SHAPE OF THIS\n",
    "    if not hpoly.PointInSet(cheap_proj):\n",
    "        init_values, qp_c = run_qp_proj(variables, cheap_proj, best_path, start, goal, indices, h_list, qp, qp_c)\n",
    "        qps_solved += 1\n",
    "        running_qp_project.append(True)\n",
    "    else:\n",
    "        init_values = cheap_proj\n",
    "        running_qp_project.append(False)\n",
    "    qp_time_stop = perf_counter()\n",
    "    #### NOT TIMED #####\n",
    "    t_qp.append(qp_time_stop - qp_time)\n",
    "    cost = 0\n",
    "    cost_calc_start = perf_counter()\n",
    "    for v in range(len(best_path[1:-1])):\n",
    "        cost += costfn(init_values[indices[v][0]:indices[v][1]])\n",
    "        if cost!=cost:\n",
    "            print(v, i)\n",
    "    iter_costs.append(cost)\n",
    "    if len(iter_costs) >= window:\n",
    "        moving_avg_new = sum(iter_costs[-window:])/window\n",
    "        termin.append(moving_avg_new)\n",
    "        if moving_avg != 0:\n",
    "            diff_termin.append((moving_avg_new - moving_avg)/moving_avg)\n",
    "        moving_avg = moving_avg_new\n",
    "#     exp_avg_new = alpha * cost + (1-alpha) * exp_avg\n",
    "#     exp_avg = exp_avg_new\n",
    "#     if len(iter_costs) > 4:\n",
    "#         moving_avg_new = sum(iter_costs[-5:])/5\n",
    "#         termin.append(moving_avg_new)\n",
    "#         diff_termin.append((moving_avg_new - moving_avg)/moving_avg)\n",
    "#         moving_avg = moving_avg_new\n",
    "    cost_calc_stop = perf_counter()\n",
    "    costs_ts.append(cost_calc_stop-cost_calc_start)\n",
    "    x_axis.append(i)\n",
    "    times.append(perf_counter()-t1_start)\n",
    "    if i % 10 == 0:\n",
    "#         qp, _ = prog_with_constraints(variables, best_path, start, goal, indices, h_list)\n",
    "        print(\"     \")\n",
    "    print('.', end='')\n",
    "    ## NOT TIMED FIN ##\n",
    "    total_end = perf_counter()\n",
    "    total_ts.append(total_end-total_start)\n",
    "    i += 1\n",
    "#     if i>70:\n",
    "#         investigative_trajs.append(trajectorify_given_vars(best_path, init_values, indices))\n",
    "#     else if i==79:\n",
    "        \n",
    "t1_stop = perf_counter() \n",
    "cost = 0\n",
    "for v in range(len(best_path[1:-1])):\n",
    "    cost += costfn(init_values[indices[v][0]:indices[v][1]])\n",
    "times.append(perf_counter()-t1_start)\n",
    "iter_costs.append(cost)\n",
    "x_axis.append(i)\n",
    "\n",
    "print(\"Solve time:\", t1_stop - t1_start, \"QPs run\", qps_solved, \"iteration_costs\", iter_costs)"
   ]
  },
  {
   "cell_type": "code",
   "execution_count": 96,
   "id": "24eb5664",
   "metadata": {},
   "outputs": [],
   "source": [
    "traj_pgd = trajectorify_given_vars(best_path, init_values, indices, ndim=2)\n",
    "traj_og = trajectorify_given_vars(best_path, [best_rounded_result.GetSolution(x) for x in variables], indices, ndim=2)"
   ]
  },
  {
   "cell_type": "code",
   "execution_count": 97,
   "id": "ec66e8e0",
   "metadata": {},
   "outputs": [
    {
     "data": {
      "text/plain": [
       "[<matplotlib.lines.Line2D at 0x71ed283631c0>]"
      ]
     },
     "execution_count": 97,
     "metadata": {},
     "output_type": "execute_result"
    },
    {
     "data": {
      "image/png": "[encoded data removed]",
      "text/plain": [
       "<Figure size 432x288 with 1 Axes>"
      ]
     },
     "metadata": {
      "needs_background": "light"
     },
     "output_type": "display_data"
    }
   ],
   "source": [
    "import matplotlib.pyplot as plt\n",
    "plt.plot(times, iter_costs)"
   ]
  },
  {
   "cell_type": "code",
   "execution_count": null,
   "id": "4b6230ee",
   "metadata": {},
   "outputs": [],
   "source": [
    "traj_pgd.end_time()"
   ]
  },
  {
   "cell_type": "code",
   "execution_count": null,
   "id": "0401808b",
   "metadata": {},
   "outputs": [],
   "source": [
    "len(init_values)\n",
    "ndim"
   ]
  },
  {
   "cell_type": "code",
   "execution_count": null,
   "id": "66b6338b",
   "metadata": {},
   "outputs": [],
   "source": []
  },
  {
   "cell_type": "code",
   "execution_count": null,
   "id": "a2d1bf85",
   "metadata": {},
   "outputs": [],
   "source": [
    "len(best_path)"
   ]
  },
  {
   "cell_type": "code",
   "execution_count": null,
   "id": "750e847d",
   "metadata": {},
   "outputs": [],
   "source": [
    "# dumb init\n",
    "pts = np.squeeze(np.array([np.arctan(traj.value(it * traj.end_time() / 100)) for it in range(100)]))"
   ]
  },
  {
   "cell_type": "code",
   "execution_count": null,
   "id": "0041d941",
   "metadata": {},
   "outputs": [],
   "source": [
    "# np.hstack([pts, 0 * np.ones((pts.shape[0], 3 - pts.shape[1]))]).T\n",
    "pts.shape"
   ]
  },
  {
   "cell_type": "code",
   "execution_count": 98,
   "id": "4bacd7c5",
   "metadata": {},
   "outputs": [],
   "source": [
    "# # visualize path given trajectory\n",
    "import visualization_utils as viz_utils\n",
    "# viz_utils.draw_traj(visualizer.meshcat_cspace, traj, 100)\n",
    "# viz_utils.draw_nontc_traj(visualizer.meshcat_nontc, traj, 100, q_star=q_star)\n",
    "# visualizer.animate_traj_s(traj, 100, 100)\n",
    "viz_utils.draw_traj(visualizer.meshcat_cspace, traj_og, 100)\n",
    "viz_utils.draw_nontc_traj(visualizer.meshcat_nontc, traj_og, 100, q_star=q_star)\n",
    "visualizer.animate_traj_s(traj_og, 100, 100)\n",
    "viz_utils.draw_traj(visualizer.meshcat_cspace, traj_pgd, 100)\n",
    "viz_utils.draw_nontc_traj(visualizer.meshcat_nontc, traj_pgd, 100, q_star=q_star)\n",
    "visualizer.animate_traj_s(traj_pgd, 100, 100)"
   ]
  },
  {
   "cell_type": "markdown",
   "id": "f111c2bb",
   "metadata": {},
   "source": [
    "## Validating Paths?"
   ]
  },
  {
   "cell_type": "code",
   "execution_count": 100,
   "id": "d6a0076e",
   "metadata": {},
   "outputs": [
    {
     "name": "stdout",
     "output_type": "stream",
     "text": [
      "4.377200667606015 4.387048193241586\n"
     ]
    }
   ],
   "source": [
    "# take a path\n",
    "# calculate the q value at each point along the trajectory\n",
    "# Sum all of them\n",
    "def length_of_traj(traj):\n",
    "    q_prev = np.array([0.3, 1.0])\n",
    "    dist = 0\n",
    "    for i in range(50):\n",
    "        s = traj.value(traj.end_time()*i/50)\n",
    "        q = Ratfk.ComputeQValue(s, q_star)\n",
    "        dist += ((q - q_prev).dot(q - q_prev))**0.5\n",
    "        q_prev = q\n",
    "    return dist\n",
    "new_len = length_of_traj(traj_pgd)\n",
    "og_len = length_of_traj(traj_og)\n",
    "print(new_len, og_len)"
   ]
  },
  {
   "cell_type": "code",
   "execution_count": 101,
   "id": "cc8177b9",
   "metadata": {},
   "outputs": [
    {
     "data": {
      "text/plain": [
       "0.0022446814353992545"
      ]
     },
     "execution_count": 101,
     "metadata": {},
     "output_type": "execute_result"
    }
   ],
   "source": [
    "(og_len - new_len) / og_len"
   ]
  },
  {
   "cell_type": "code",
   "execution_count": 42,
   "id": "f1f2617b",
   "metadata": {},
   "outputs": [
    {
     "data": {
      "text/plain": [
       "array([1., 1.])"
      ]
     },
     "execution_count": 42,
     "metadata": {},
     "output_type": "execute_result"
    }
   ],
   "source": [
    "q_star"
   ]
  },
  {
   "cell_type": "code",
   "execution_count": 49,
   "id": "40e6c7ea",
   "metadata": {},
   "outputs": [
    {
     "data": {
      "text/plain": [
       "3.0"
      ]
     },
     "execution_count": 49,
     "metadata": {},
     "output_type": "execute_result"
    }
   ],
   "source": [
    "traj_og.end_time()"
   ]
  },
  {
   "cell_type": "code",
   "execution_count": 50,
   "id": "29d0238d",
   "metadata": {},
   "outputs": [
    {
     "data": {
      "text/plain": [
       "3.0"
      ]
     },
     "execution_count": 50,
     "metadata": {},
     "output_type": "execute_result"
    }
   ],
   "source": [
    "traj_pgd.end_time()"
   ]
  },
  {
   "cell_type": "code",
   "execution_count": 56,
   "id": "b9e62178",
   "metadata": {},
   "outputs": [],
   "source": [
    "iter_dist = 0\n",
    "values = init_values\n",
    "for v in range(len(best_path[1:-1])):\n",
    "    iter_dist += distance_for_vertex(values[indices[v][0]:indices[v][1]])"
   ]
  },
  {
   "cell_type": "code",
   "execution_count": 57,
   "id": "405ef217",
   "metadata": {},
   "outputs": [
    {
     "data": {
      "text/plain": [
       "Array(3.3586519, dtype=float32)"
      ]
     },
     "execution_count": 57,
     "metadata": {},
     "output_type": "execute_result"
    }
   ],
   "source": [
    "iter_dist"
   ]
  },
  {
   "cell_type": "code",
   "execution_count": 58,
   "id": "a1183fdc",
   "metadata": {},
   "outputs": [],
   "source": [
    "iter_dist = 0\n",
    "values = [best_rounded_result.GetSolution(x) for x in variables]\n",
    "for v in range(len(best_path[1:-1])):\n",
    "    iter_dist += distance_for_vertex(values[indices[v][0]:indices[v][1]])"
   ]
  },
  {
   "cell_type": "code",
   "execution_count": 59,
   "id": "8b7721ec",
   "metadata": {},
   "outputs": [
    {
     "data": {
      "text/plain": [
       "Array(3.3597455, dtype=float32)"
      ]
     },
     "execution_count": 59,
     "metadata": {},
     "output_type": "execute_result"
    }
   ],
   "source": [
    "iter_dist"
   ]
  },
  {
   "cell_type": "code",
   "execution_count": 99,
   "id": "910c39e7",
   "metadata": {},
   "outputs": [
    {
     "data": {
      "text/plain": [
       "array([1., 1.])"
      ]
     },
     "execution_count": 99,
     "metadata": {},
     "output_type": "execute_result"
    }
   ],
   "source": [
    "q_star"
   ]
  },
  {
   "cell_type": "markdown",
   "id": "c52a00d2",
   "metadata": {},
   "source": [
    "## 7 DOF IIWA"
   ]
  },
  {
   "cell_type": "code",
   "execution_count": 5,
   "id": "929fec7b",
   "metadata": {},
   "outputs": [],
   "source": [
    "#construct our robot\n",
    "builder = DiagramBuilder()\n",
    "plant, scene_graph = AddMultibodyPlantSceneGraph(builder, time_step=0.001)\n",
    "parser = Parser(plant)\n",
    "\n",
    "parser.package_map().Add(\"ciris_pgd\", os.path.abspath(''))\n",
    "\n",
    "directives_file = \"/home/sgrg/rlg/SUPERUROP/ciris/models/iiwa14_sphere_collision_complex_scenario.dmd.yaml\"\n",
    "directives = LoadModelDirectives(directives_file)\n",
    "models = ProcessModelDirectives(directives, plant, parser)\n",
    "\n",
    "\n",
    "# oneDOF_iiwa_file = \"/home/sgrg/rlg/SUPERUROP/ciris/assets/oneDOF_iiwa7_with_box_collision.sdf\"\n",
    "# with open(one|DOF_iiwa_file, 'r') as f:\n",
    "#     oneDOF_iiwa_string = f.read()\n",
    "# box_asset_file = \"/home/sgrg/rlg/SUPERUROP/ciris/assets/box_small.urdf\"\n",
    "# with open(box_asset_file, 'r') as f:\n",
    "#     box_asset_string = f.read()"
   ]
  },
  {
   "cell_type": "code",
   "execution_count": null,
   "id": "69731f7f",
   "metadata": {},
   "outputs": [],
   "source": []
  }
 ],
 "metadata": {
  "kernelspec": {
   "display_name": "Python 3 (ipykernel)",
   "language": "python",
   "name": "python3"
  },
  "language_info": {
   "codemirror_mode": {
    "name": "ipython",
    "version": 3
   },
   "file_extension": ".py",
   "mimetype": "text/x-python",
   "name": "python",
   "nbconvert_exporter": "python",
   "pygments_lexer": "ipython3",
   "version": "3.10.12"
  }
 },
 "nbformat": 4,
 "nbformat_minor": 5
}
