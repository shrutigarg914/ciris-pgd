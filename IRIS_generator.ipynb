{
 "cells": [
  {
   "cell_type": "code",
   "execution_count": 1,
   "id": "18cfcb19",
   "metadata": {},
   "outputs": [],
   "source": [
    "%load_ext autoreload\n",
    "%autoreload 2"
   ]
  },
  {
   "cell_type": "code",
   "execution_count": 2,
   "id": "06b0535f",
   "metadata": {},
   "outputs": [],
   "source": [
    "from pydrake.multibody.plant import AddMultibodyPlantSceneGraph\n",
    "from pydrake.systems.framework import DiagramBuilder\n",
    "from pydrake.multibody.parsing import Parser\n",
    "import os\n",
    "from pydrake.all import (\n",
    "    LoadModelDirectives, ProcessModelDirectives, RevoluteJoint, \n",
    "    RationalForwardKinematics, CspaceFreePolytope, SeparatingPlaneOrder,\n",
    "    RigidTransform, RotationMatrix, Rgba,\n",
    "    AffineSubspace, MathematicalProgram, Solve,\n",
    "    MeshcatVisualizer, StartMeshcat\n",
    ")\n",
    "import numpy as np\n",
    "# from pydrake.geometry.optimization_dev import (CspaceFreePolytope, SeparatingPlaneOrder)\n",
    "from iris_plant_visualizer import IrisPlantVisualizer\n",
    "from pydrake.geometry import Role\n",
    "from pydrake.geometry.optimization import IrisOptions, HPolyhedron, Hyperellipsoid, IrisInRationalConfigurationSpace, LoadIrisRegionsYamlFile, SaveIrisRegionsYamlFile\n",
    "from pydrake.solvers import MosekSolver, CommonSolverOption, SolverOptions, ScsSolver\n",
    "import time\n",
    "from pydrake.all import ModelVisualizer"
   ]
  },
  {
   "cell_type": "code",
   "execution_count": 11,
   "id": "09da2d96",
   "metadata": {},
   "outputs": [
    {
     "name": "stderr",
     "output_type": "stream",
     "text": [
      "INFO:drake:Meshcat listening for connections at http://localhost:7006\n",
      "INFO:drake:Click 'Stop Running' or press Esc to quit\n",
      "INFO:drake:Reload was successful\n",
      "INFO:drake:Reload was successful\n",
      "INFO:drake:Reload was successful\n",
      "INFO:drake:Reload was successful\n",
      "INFO:drake:Reload was successful\n",
      "INFO:drake:Reload was successful\n",
      "INFO:drake:Reload was successful\n",
      "INFO:drake:Reload was successful\n",
      "INFO:drake:Reload was successful\n",
      "INFO:drake:Reload was successful\n",
      "INFO:drake:Reload was successful\n",
      "INFO:drake:Reload was successful\n",
      "INFO:drake:Reload was successful\n",
      "INFO:drake:Reload was successful\n",
      "INFO:drake:Reload was successful\n",
      "INFO:drake:Reload was successful\n",
      "INFO:drake:Reload was successful\n",
      "INFO:drake:Reload was successful\n",
      "INFO:drake:Reload was successful\n",
      "INFO:drake:Reload was successful\n",
      "INFO:drake:Reload was successful\n"
     ]
    }
   ],
   "source": [
    "vv = ModelVisualizer(browser_new=True)\n",
    "vv.AddModels(\"/home/sgrg/rlg/SUPERUROP/ciris/models/iiwa14_primitive_collision.urdf\")\n",
    "vv.Run()"
   ]
  },
  {
   "cell_type": "code",
   "execution_count": 4,
   "id": "32bccffa",
   "metadata": {},
   "outputs": [
    {
     "name": "stderr",
     "output_type": "stream",
     "text": [
      "INFO:drake:Meshcat listening for connections at http://localhost:7006\n"
     ]
    }
   ],
   "source": [
    "#construct our robot\n",
    "builder = DiagramBuilder()\n",
    "plant, scene_graph = AddMultibodyPlantSceneGraph(builder, time_step=0.001)\n",
    "parser = Parser(plant)\n",
    "\n",
    "parser.package_map().Add(\"ciris_pgd\", os.path.abspath(''))\n",
    "\n",
    "directives_file = \"/home/sgrg/rlg/SUPERUROP/ciris/models/iiwa14_sphere_collision_complex_scenario.dmd.yaml\"\n",
    "directives = LoadModelDirectives(directives_file)\n",
    "models = ProcessModelDirectives(directives, plant, parser)\n",
    "plant.Finalize()\n",
    "meshcat = StartMeshcat()\n",
    "MeshcatVisualizer.AddToBuilder(builder, scene_graph, meshcat)\n",
    "diagram = builder.Build()\n",
    "q0 = [0.0, 0.0, 0.0, 0.0, 0.0, 0.0, 0.0]\n",
    "context = diagram.CreateDefaultContext()\n",
    "plant_context = plant.GetMyContextFromRoot(context)\n",
    "plant.SetPositions(plant_context, q0)\n",
    "diagram.ForcedPublish(context)"
   ]
  },
  {
   "cell_type": "code",
   "execution_count": 5,
   "id": "dd6df659",
   "metadata": {},
   "outputs": [
    {
     "name": "stdout",
     "output_type": "stream",
     "text": [
      "<RevoluteJoint name='iiwa_joint_1' index=1 model_instance=2>\n",
      "<RevoluteJoint name='iiwa_joint_2' index=2 model_instance=2>\n",
      "<RevoluteJoint name='iiwa_joint_3' index=3 model_instance=2>\n",
      "<RevoluteJoint name='iiwa_joint_4' index=4 model_instance=2>\n",
      "<RevoluteJoint name='iiwa_joint_5' index=5 model_instance=2>\n",
      "<RevoluteJoint name='iiwa_joint_6' index=6 model_instance=2>\n",
      "<RevoluteJoint name='iiwa_joint_7' index=7 model_instance=2>\n"
     ]
    }
   ],
   "source": [
    "q_low = np.array([-2.967060,-2.094395,-2.967060,-2.094395,-2.967060,-2.094395,-3.054326])\n",
    "q_high = np.array([2.967060,2.094395,2.967060,2.094395,2.967060,2.094395,3.054326])\n",
    "idx = 0\n",
    "for joint_index in plant.GetJointIndices():\n",
    "    joint = plant.get_mutable_joint(joint_index)\n",
    "    if isinstance(joint, RevoluteJoint):\n",
    "        joint.set_default_angle(q0[idx])\n",
    "        joint.set_position_limits(lower_limits= np.array([q_low[idx]]), upper_limits= np.array([q_high[idx]]))\n",
    "        print(joint)\n",
    "        idx += 1"
   ]
  },
  {
   "cell_type": "code",
   "execution_count": 6,
   "id": "a2d0fd35",
   "metadata": {},
   "outputs": [],
   "source": [
    "Ratfk = RationalForwardKinematics(plant)\n",
    "\n",
    "# the point about which we will take the stereographic projections\n",
    "# q_star = np.zeros(plant.num_positions())\n",
    "q_star = np.array([0.0,0.0,0.0,0.0,0.0,0.0,0.0])\n",
    "do_viz = True\n",
    "\n",
    "# The object we will use to perform our certification.\n",
    "cspace_free_polytope = CspaceFreePolytope(plant, scene_graph, SeparatingPlaneOrder.kAffine, q_star)"
   ]
  },
  {
   "cell_type": "code",
   "execution_count": null,
   "id": "cc8c2bbf",
   "metadata": {},
   "outputs": [],
   "source": [
    "from util import *\n",
    "def AnimateIris(root_context, plant, visualizer, region, speed, num_moves=np.inf):\n",
    "    \"\"\"\n",
    "    A simple hit-and-run-style idea for visualizing the IRIS regions:\n",
    "    1. Start at the center. Pick a random direction and run to the boundary.\n",
    "    2. Pick a new random direction; project it onto the current boundary, and run along it. Repeat\n",
    "    \"\"\"\n",
    "\n",
    "    plant_context = plant.GetMyContextFromRoot(root_context)\n",
    "    visualizer_context = visualizer.GetMyContextFromRoot(root_context)\n",
    "\n",
    "    q = region.ChebyshevCenter()\n",
    "    plant.SetPositions(plant_context, q)\n",
    "    visualizer.ForcedPublish(visualizer_context)\n",
    "    active_face = None\n",
    "\n",
    "    print(\"Press the 'Stop Animation' button in Meshcat to continue.\")\n",
    "    meshcat.AddButton(\"Stop Animation\", \"Escape\")\n",
    "\n",
    "    rng = np.random.default_rng()\n",
    "    nq = region.A().shape[1]\n",
    "    prog = MathematicalProgram()\n",
    "    qvar = prog.NewContinuousVariables(nq, \"q\")\n",
    "    prog.AddLinearConstraint(\n",
    "        region.A(), 0 * region.b() - np.inf, region.b(), qvar\n",
    "    )\n",
    "    cost = prog.AddLinearCost(np.ones((nq, 1)), qvar)\n",
    "\n",
    "    count = 0\n",
    "    while meshcat.GetButtonClicks(\"Stop Animation\") < 1:\n",
    "        count += 1\n",
    "        if meshcat.GetButtonClicks(\"Stop Animation\") > 0:\n",
    "            break\n",
    "        direction = rng.standard_normal(nq)\n",
    "        cost.evaluator().UpdateCoefficients(direction)\n",
    "\n",
    "        result = Solve(prog)\n",
    "        assert result.is_success()\n",
    "\n",
    "        q_next = result.GetSolution(qvar)\n",
    "\n",
    "        # Animate between q and q_next (at speed):\n",
    "        # TODO: normalize step size to speed... e.g. something like\n",
    "        # 20 * np.linalg.norm(q_next - q) / speed)\n",
    "        for t in np.append(np.arange(0, 1, speed), 1):\n",
    "            qs = t * q_next + (1 - t) * q\n",
    "            plant.SetPositions(plant_context, qs)\n",
    "            if in_collision(plant, scene_graph, visualizer_context, print_collisions=True):\n",
    "                print(\"In collision!\")\n",
    "            visualizer.ForcedPublish(visualizer_context)\n",
    "            time.sleep(0.01)\n",
    "\n",
    "        q = q_next\n",
    "\n",
    "    meshcat.DeleteButton(\"Stop Animation\")"
   ]
  },
  {
   "cell_type": "code",
   "execution_count": null,
   "id": "9367f8ac",
   "metadata": {},
   "outputs": [],
   "source": [
    "# load Savva's regions\n",
    "iris_regions = LoadIrisRegionsYamlFile(\"/home/sgrg/rlg/SUPERUROP/ciris/ComplexScenarioRegions.yaml\")\n",
    "del iris_regions[\"RightShelf-Front2\"] # crashes with inscribed ellipse\n",
    "iris_regions"
   ]
  },
  {
   "cell_type": "code",
   "execution_count": 9,
   "id": "b71a21e9",
   "metadata": {
    "scrolled": true
   },
   "outputs": [
    {
     "data": {
      "image/png": "[encoded data removed]",
      "text/plain": [
       "<IPython.core.display.Image object>"
      ]
     },
     "metadata": {},
     "output_type": "display_data"
    },
    {
     "data": {
      "image/png": "[encoded data removed]",
      "text/plain": [
       "<Figure size 432x288 with 1 Axes>"
      ]
     },
     "metadata": {
      "needs_background": "light"
     },
     "output_type": "display_data"
    },
    {
     "name": "stdout",
     "output_type": "stream",
     "text": [
      "Graph has 3 connected components.\n"
     ]
    }
   ],
   "source": [
    "# AnimateIris(context, plant, diagram, iris_regions['AboveEverything'], 0.01, num_moves=100)\n",
    "list_regions = list(iris_regions.values())\n",
    "notebook_plot_connectivity(list_regions, plot_dot=True, plot_adj_mat=True)"
   ]
  },
  {
   "cell_type": "code",
   "execution_count": 10,
   "id": "c05f9a86",
   "metadata": {},
   "outputs": [
    {
     "ename": "IndexError",
     "evalue": "list index out of range",
     "output_type": "error",
     "traceback": [
      "\u001b[0;31m---------------------------------------------------------------------------\u001b[0m",
      "\u001b[0;31mIndexError\u001b[0m                                Traceback (most recent call last)",
      "\u001b[0;32m/tmp/ipykernel_88516/346504481.py\u001b[0m in \u001b[0;36m<module>\u001b[0;34m\u001b[0m\n\u001b[1;32m      4\u001b[0m \u001b[0;31m# 18 - > RightShelf-Front3\u001b[0m\u001b[0;34m\u001b[0m\u001b[0;34m\u001b[0m\u001b[0m\n\u001b[1;32m      5\u001b[0m \u001b[0;31m# 19 -> RightShelf-Middle1\u001b[0m\u001b[0;34m\u001b[0m\u001b[0;34m\u001b[0m\u001b[0m\n\u001b[0;32m----> 6\u001b[0;31m \u001b[0mlist_regions\u001b[0m\u001b[0;34m[\u001b[0m\u001b[0;36m22\u001b[0m\u001b[0;34m]\u001b[0m\u001b[0;34m\u001b[0m\u001b[0;34m\u001b[0m\u001b[0m\n\u001b[0m\u001b[1;32m      7\u001b[0m \u001b[0mdisplay_iris\u001b[0m\u001b[0;34m(\u001b[0m\u001b[0mbuild_env\u001b[0m\u001b[0;34m,\u001b[0m \u001b[0mmeshcat\u001b[0m\u001b[0;34m,\u001b[0m \u001b[0mdirectives_file\u001b[0m\u001b[0;34m,\u001b[0m \u001b[0miris_regions\u001b[0m\u001b[0;34m[\u001b[0m\u001b[0;34m'RightShelf-Middle1'\u001b[0m\u001b[0;34m]\u001b[0m\u001b[0;34m)\u001b[0m\u001b[0;34m\u001b[0m\u001b[0;34m\u001b[0m\u001b[0m\n",
      "\u001b[0;31mIndexError\u001b[0m: list index out of range"
     ]
    }
   ],
   "source": [
    "# get the centers of a few regions and try to grow new regions from them\n",
    "# 0 -> AboveEverything\n",
    "# 13 -> RightBin-Above\n",
    "# 18 - > RightShelf-Front3\n",
    "# 19 -> RightShelf-Middle1\n",
    "list_regions[22]\n",
    "display_iris(build_env, meshcat, directives_file, iris_regions['RightShelf-Middle1'])"
   ]
  },
  {
   "cell_type": "code",
   "execution_count": 11,
   "id": "faa832ba",
   "metadata": {},
   "outputs": [
    {
     "name": "stdout",
     "output_type": "stream",
     "text": [
      "AboveEverything\n",
      "FrontBin\n",
      "FrontBin-Above\n",
      "LeftBin\n",
      "LeftBin-Above\n",
      "LeftShelf-Bottom1\n",
      "LeftShelf-Bottom2\n",
      "LeftShelf-Front1\n",
      "LeftShelf-Middle1\n",
      "LeftShelf-Middle2\n",
      "LeftShelf-Top1\n",
      "LeftShelf-Top2\n",
      "RightBin\n",
      "RightBin-Above\n",
      "RightShelf-Bottom1\n",
      "RightShelf-Bottom2\n",
      "RightShelf-Front1\n",
      "RightShelf-Front3\n",
      "RightShelf-Middle1\n",
      "RightShelf-Middle2\n",
      "RightShelf-Top1\n",
      "RightShelf-Top2\n"
     ]
    },
    {
     "data": {
      "text/plain": [
       "(array([[ 0.00000000e+00,  0.00000000e+00,  0.00000000e+00,\n",
       "          0.00000000e+00,  0.00000000e+00,  0.00000000e+00,\n",
       "          0.00000000e+00],\n",
       "        [-5.19710347e-02, -2.82786056e-01, -9.84140624e-02,\n",
       "         -1.23877356e-01, -1.82063434e-12,  3.55610816e-12,\n",
       "         -3.29795420e-12],\n",
       "        [ 3.57779540e-01,  1.08306299e+00, -8.64100229e-01,\n",
       "         -1.00305213e+00, -2.10492847e+00, -1.14415570e+00,\n",
       "         -4.89070541e-01],\n",
       "        [-1.88157876e-01,  2.08670733e-02, -3.65120452e-01,\n",
       "          3.39563214e-01, -1.96121320e+00,  2.21854852e-10,\n",
       "         -5.60191186e-11],\n",
       "        [ 1.99969873e+00,  9.42123122e-01,  3.22854522e-01,\n",
       "         -1.25570002e+00, -1.06487720e-01,  6.93767339e-01,\n",
       "         -2.10241847e+00],\n",
       "        [ 1.63380942e+00,  3.45164053e-02,  1.54775538e+00,\n",
       "         -7.50250447e-01, -8.78300105e-02,  2.82801687e-11,\n",
       "         -2.19262305e-02],\n",
       "        [ 8.12010617e-01,  1.14696984e+00,  6.40910428e-02,\n",
       "         -1.69610536e+00, -4.61479980e-01, -1.17945093e+00,\n",
       "         -1.44922941e+00],\n",
       "        [ 1.33835461e+00,  1.24435326e+00, -4.72346181e-01,\n",
       "         -1.70817148e+00,  3.97599646e-02, -1.20366601e+00,\n",
       "         -1.07865646e+00],\n",
       "        [ 1.85079213e+00,  4.97954983e-01, -6.03219148e-01,\n",
       "         -1.98663239e+00, -7.19334405e-02,  5.40723646e-01,\n",
       "         -6.79374327e-01],\n",
       "        [ 7.53898911e-01,  5.83578844e-01,  1.66090618e-01,\n",
       "         -1.75607041e+00, -5.81602019e-01, -6.52182898e-01,\n",
       "         -1.10689714e+00],\n",
       "        [ 1.52270182e+00,  7.84382098e-01, -7.10543517e-01,\n",
       "         -1.71047875e+00,  2.48811673e-01, -6.27231865e-01,\n",
       "         -1.23166437e+00],\n",
       "        [ 7.79774438e-01,  2.33294116e-01,  1.61534377e-01,\n",
       "         -1.59088906e+00, -8.44747192e-01, -3.70861693e-01,\n",
       "         -6.80578213e-01],\n",
       "        [ 1.03231570e+00,  3.92548072e-01,  1.69427531e-01,\n",
       "         -1.29536209e+00, -1.39968746e+00,  5.85938057e-01,\n",
       "         -1.76387447e-01],\n",
       "        [-1.65126722e+00,  1.03603785e+00, -7.93318890e-01,\n",
       "         -1.25541819e+00,  2.29186545e-01,  8.95714573e-01,\n",
       "          2.56729778e-01],\n",
       "        [-1.48723817e+00, -1.95765949e-01, -1.14690515e+00,\n",
       "         -5.60177373e-01, -9.32583121e-10,  1.45468698e-01,\n",
       "         -4.85344450e-10],\n",
       "        [-6.37764220e-01,  1.26645739e+00, -6.72768631e-01,\n",
       "         -1.67633489e+00, -2.96394970e-01, -1.22074449e+00,\n",
       "         -7.84750890e-01],\n",
       "        [-1.07789700e+00,  1.15373995e+00, -3.39159830e-01,\n",
       "         -1.59040827e+00, -1.04364701e+00, -1.38779179e+00,\n",
       "         -9.82219660e-01],\n",
       "        [-6.76435379e-01,  5.17105214e-01, -5.19798439e-01,\n",
       "         -1.98424296e+00, -1.64056158e-01,  3.66405974e-01,\n",
       "         -1.64198800e+00],\n",
       "        [-1.59901385e+00,  2.83567665e-01, -1.04466065e+00,\n",
       "         -1.74577784e+00, -2.29149445e+00, -1.55045802e+00,\n",
       "          2.50469162e-10],\n",
       "        [-1.01559089e+00,  6.99858230e-01, -4.13219270e-01,\n",
       "         -1.67499657e+00, -1.12521769e+00, -1.35831090e+00,\n",
       "         -6.53845359e-01],\n",
       "        [-8.01755644e-01,  6.75640668e-01, -5.04018945e-01,\n",
       "         -1.67266100e+00, -7.96198315e-01, -9.28477117e-01,\n",
       "         -7.30608369e-01],\n",
       "        [-4.31201792e-01,  2.10859045e-02, -5.89335061e-01,\n",
       "         -1.48118775e+00, -1.39968190e-01,  4.75084218e-01,\n",
       "         -1.25210718e+00],\n",
       "        [-6.95763588e-01,  4.91109144e-01, -4.80630051e-01,\n",
       "         -1.28264859e+00, -1.00490068e+00, -3.29741085e-01,\n",
       "         -4.12271530e-01]]),\n",
       " array([[ 0.00000000e+00,  0.00000000e+00,  0.00000000e+00,\n",
       "          0.00000000e+00,  0.00000000e+00,  0.00000000e+00,\n",
       "          0.00000000e+00],\n",
       "        [-2.59913678e-02, -1.42342867e-01, -4.92467852e-02,\n",
       "         -6.20180070e-02, -9.10317170e-13,  1.77805408e-12,\n",
       "         -1.64897710e-12],\n",
       "        [ 1.80822767e-01,  6.01513325e-01, -4.61104684e-01,\n",
       "         -5.48285658e-01, -1.75331169e+00, -6.43903978e-01,\n",
       "         -2.49528947e-01],\n",
       "        [-9.43574838e-02,  1.04339153e-02, -1.84615770e-01,\n",
       "          1.71432003e-01, -1.49291508e+00,  1.10927426e-10,\n",
       "         -2.80095593e-11],\n",
       "        [ 1.55689185e+00,  5.09302093e-01,  1.62844231e-01,\n",
       "         -7.25826938e-01, -5.32942310e-02,  3.61500928e-01,\n",
       "         -1.74820992e+00],\n",
       "        [ 1.06508524e+00,  1.72599163e-02,  9.77220481e-01,\n",
       "         -3.93771209e-01, -4.39432575e-02,  1.41400843e-11,\n",
       "         -1.09635545e-02],\n",
       "        [ 4.29890105e-01,  6.45896249e-01,  3.20564952e-02,\n",
       "         -1.13387194e+00, -2.34924056e-01, -6.69158107e-01,\n",
       "         -8.85265695e-01],\n",
       "        [ 7.90915971e-01,  7.17200111e-01, -2.40664389e-01,\n",
       "         -1.14775664e+00,  1.98826016e-02, -6.86831119e-01,\n",
       "         -5.98516844e-01],\n",
       "        [ 1.32807122e+00,  2.54253029e-01, -3.11100722e-01,\n",
       "         -1.53474777e+00, -3.59822372e-02,  2.77147712e-01,\n",
       "         -3.53384936e-01],\n",
       "        [ 3.95879816e-01,  3.00362600e-01,  8.32367450e-02,\n",
       "         -1.20483574e+00, -2.99285335e-01, -3.38163569e-01,\n",
       "         -6.17860167e-01],\n",
       "        [ 9.53026036e-01,  4.13618490e-01, -3.71014267e-01,\n",
       "         -1.15043356e+00,  1.25051637e-01, -3.24319108e-01,\n",
       "         -7.07635631e-01],\n",
       "        [ 4.10923084e-01,  1.17179008e-01,  8.09432717e-02,\n",
       "         -1.02029733e+00, -4.49422528e-01, -1.87585812e-01,\n",
       "         -3.54062194e-01],\n",
       "        [ 5.67471294e-01,  1.98833876e-01,  8.49169959e-02,\n",
       "         -7.56551729e-01, -8.42021276e-01,  3.01649085e-01,\n",
       "         -8.84230978e-02],\n",
       "        [-1.08389159e+00,  5.69934284e-01, -4.18861065e-01,\n",
       "         -7.25611808e-01,  1.15097520e-01,  4.80415095e-01,\n",
       "          1.29074613e-01],\n",
       "        [-9.19748001e-01, -9.81967852e-02, -6.45850405e-01,\n",
       "         -2.87650348e-01, -4.66291560e-10,  7.28628830e-02,\n",
       "         -2.42672225e-10],\n",
       "        [-3.30149209e-01,  7.34071513e-01, -3.49673943e-01,\n",
       "         -1.11152732e+00, -1.49292030e-01, -6.99473091e-01,\n",
       "         -4.13834449e-01],\n",
       "        [-5.98001200e-01,  6.50704015e-01, -1.71224390e-01,\n",
       "         -1.01980681e+00, -5.74985660e-01, -8.31906963e-01,\n",
       "         -5.34814571e-01],\n",
       "        [-3.51732809e-01,  2.64472316e-01, -2.65913632e-01,\n",
       "         -1.53074629e+00, -8.22125535e-02,  1.85280517e-01,\n",
       "         -1.07385168e+00],\n",
       "        [-1.02862326e+00,  1.42741612e-01, -5.75660238e-01,\n",
       "         -1.19229660e+00, -2.20924994e+00, -9.79865747e-01,\n",
       "          1.25234581e-10],\n",
       "        [-5.56467953e-01,  3.64948167e-01, -2.09600602e-01,\n",
       "         -1.11003253e+00, -6.30589787e-01, -8.07265501e-01,\n",
       "         -3.39090115e-01],\n",
       "        [-4.23828339e-01,  3.51286357e-01, -2.57483512e-01,\n",
       "         -1.10742920e+00, -4.20554389e-01, -5.00738906e-01,\n",
       "         -3.82470700e-01],\n",
       "        [-2.19004847e-01,  1.05433429e-02, -3.03503089e-01,\n",
       "         -9.14179133e-01, -7.00985748e-02,  2.42113178e-01,\n",
       "         -7.23087685e-01],\n",
       "        [-3.62629898e-01,  2.50611991e-01, -2.45050620e-01,\n",
       "         -7.46604267e-01, -5.49488394e-01, -1.66380819e-01,\n",
       "         -2.09105963e-01]]))"
      ]
     },
     "execution_count": 11,
     "metadata": {},
     "output_type": "execute_result"
    }
   ],
   "source": [
    "# Some seedpoints\n",
    "seed_points_q = np.array([[0.0, 0.0, 0.0, 0.0, 0.0, 0.0, 0.0]])\n",
    "regions_to_sample = [13, 12, 16, 22]\n",
    "names_regions = list(iris_regions.keys())\n",
    "# for reg_idx in regions_to_sample:\n",
    "for reg_idx in range(len(list_regions)):\n",
    "    if names_regions[reg_idx] == \"RightShelf-Front2\":\n",
    "        continue\n",
    "    seed_q = list_regions[reg_idx].MaximumVolumeInscribedEllipsoid().center()\n",
    "    visualize_state(seed_q, plant, diagram, context)\n",
    "#     meshcat.AddButton(\"Stop Animation\", \"Escape\")\n",
    "    print(names_regions[reg_idx])\n",
    "#     while meshcat.GetButtonClicks(\"Stop Animation\") < 1:\n",
    "#         time.sleep(0.01)\n",
    "#     meshcat.DeleteButton(\"Stop Animation\")\n",
    "    seed_points_q = np.append(seed_points_q, [seed_q], axis=0)\n",
    "\n",
    "seed_points = np.array([Ratfk.ComputeSValue(seed_points_q[idx], q_star)\\\n",
    "                        for idx in range(seed_points_q.shape[0])])\n",
    "\n",
    "seed_points_q, seed_points"
   ]
  },
  {
   "cell_type": "code",
   "execution_count": 11,
   "id": "22018f99",
   "metadata": {},
   "outputs": [],
   "source": [
    "# # generate C-IRIS regions with these seedpoints\n",
    "# default_scale = 1e-2\n",
    "# L1_ball = HPolyhedron.MakeL1Ball(7)\n",
    "# Linf_ball = HPolyhedron.MakeBox(-np.ones(7), np.ones(7))\n",
    "\n",
    "# template_C = np.vstack([L1_ball.A(), Linf_ball.A()])\n",
    "# template_d = np.hstack([default_scale*L1_ball.b(), default_scale/np.sqrt(2)*Linf_ball.b()])\n",
    "\n",
    "\n",
    "# def make_default_polytope_at_point(seed_point):\n",
    "#     return HPolyhedron(template_C, template_d + template_C @ seed_point)\n",
    "\n",
    "\n",
    "# # colors to plot the region.\n",
    "# default_alpha = 0.2\n",
    "# colors_dict = {\n",
    "#     0: Rgba(0.565, 0.565, 0.565, default_alpha), # gray\n",
    "#     1: Rgba(0.118, 0.533, 0.898, default_alpha), # bluish\n",
    "#     2: Rgba(1,     0.757, 0.027, default_alpha), # gold\n",
    "#     3: Rgba(0,     0.549, 0.024, default_alpha), # green   \n",
    "#     4: Rgba(0.055, 0.914, 0.929, default_alpha), # teal \n",
    "# }\n",
    "\n",
    "# initial_regions = [(make_default_polytope_at_point(s), colors_dict[i]) for i, s in enumerate(seed_points)]"
   ]
  },
  {
   "cell_type": "code",
   "execution_count": 12,
   "id": "407fe020",
   "metadata": {},
   "outputs": [
    {
     "name": "stdout",
     "output_type": "stream",
     "text": [
      "True\n"
     ]
    }
   ],
   "source": [
    "# set up the certifier and the options for different search techniques\n",
    "solver_options = SolverOptions()\n",
    "# set this to 1 if you would like to see the solver output in terminal.\n",
    "solver_options.SetOption(CommonSolverOption.kPrintToConsole, 0)\n",
    "\n",
    "os.environ[\"MOSEKLM_LICENSE_FILE\"] = \"/home/sgrg/mosek.lic\"\n",
    "with open(os.environ[\"MOSEKLM_LICENSE_FILE\"], 'r') as f:\n",
    "    contents = f.read()\n",
    "    mosek_file_not_empty = contents != ''\n",
    "print(mosek_file_not_empty)\n",
    "\n",
    "solver_id = MosekSolver.id() if MosekSolver().available() and mosek_file_not_empty else ScsSolver.id()\n",
    "\n",
    "\n",
    "solver_id = MosekSolver.id() if MosekSolver().available() else ScsSolver.id()"
   ]
  },
  {
   "cell_type": "code",
   "execution_count": 13,
   "id": "7461718a",
   "metadata": {},
   "outputs": [],
   "source": [
    "# The options for when we search for a new polytope given positivity certificates.\n",
    "find_polytope_given_lagrangian_option = CspaceFreePolytope.FindPolytopeGivenLagrangianOptions()\n",
    "find_polytope_given_lagrangian_option.solver_options = solver_options\n",
    "find_polytope_given_lagrangian_option.ellipsoid_margin_cost = CspaceFreePolytope.EllipsoidMarginCost.kGeometricMean\n",
    "find_polytope_given_lagrangian_option.search_s_bounds_lagrangians = True\n",
    "find_polytope_given_lagrangian_option.ellipsoid_margin_epsilon = 1e-4\n",
    "find_polytope_given_lagrangian_option.solver_id = solver_id\n",
    "\n",
    "bilinear_alternation_options = CspaceFreePolytope.BilinearAlternationOptions()\n",
    "bilinear_alternation_options.max_iter = 5 # Setting this to a high number will lead to more fill\n",
    "bilinear_alternation_options.convergence_tol = 1e-3\n",
    "bilinear_alternation_options.find_polytope_options = find_polytope_given_lagrangian_option\n",
    "\n",
    "# The options for when we search for new planes and positivity certificates given the polytopes\n",
    "# find_separation_certificate_given_polytope_options = CspaceFreePolytope.FindSeparationCertificateGivenPolytopeOptions()\n",
    "# find_separation_certificate_given_polytope_options.num_threads = -1\n",
    "# Parallelism \tparallelism {Parallelism::Max()}\n",
    "bilinear_alternation_options.find_lagrangian_options.verbose = True\n",
    "bilinear_alternation_options.find_lagrangian_options.solver_options = solver_options\n",
    "bilinear_alternation_options.find_lagrangian_options.ignore_redundant_C = False\n",
    "bilinear_alternation_options.find_lagrangian_options.solver_id = solver_id\n",
    "\n",
    "binary_search_options = CspaceFreePolytope.BinarySearchOptions()\n",
    "binary_search_options.scale_min = 1e-3\n",
    "binary_search_options.scale_max = 1.0\n",
    "binary_search_options.max_iter = 5\n",
    "binary_search_options.find_lagrangian_options.verbose = True\n",
    "binary_search_options.find_lagrangian_options.solver_options = solver_options\n",
    "binary_search_options.find_lagrangian_options.ignore_redundant_C = False\n",
    "binary_search_options.find_lagrangian_options.solver_id = solver_id\n",
    "# binary_search_options.find_lagrangian_options = find_separation_certificate_given_polytope_options"
   ]
  },
  {
   "cell_type": "code",
   "execution_count": 15,
   "id": "5b6f4d2a",
   "metadata": {},
   "outputs": [
    {
     "name": "stderr",
     "output_type": "stream",
     "text": [
      "INFO:drake:IrisInConfigurationSpace iteration 0\n",
      "INFO:drake:IrisInConfigurationSpace iteration 1\n"
     ]
    },
    {
     "name": "stdout",
     "output_type": "stream",
     "text": [
      "seed point  0  started\n"
     ]
    },
    {
     "name": "stderr",
     "output_type": "stream",
     "text": [
      "INFO:drake:IrisInConfigurationSpace iteration 2\n",
      "INFO:drake:IrisInConfigurationSpace iteration 3\n",
      "INFO:drake:IrisInConfigurationSpace iteration 4\n",
      "INFO:drake:IrisInConfigurationSpace iteration 5\n",
      "INFO:drake:IrisInConfigurationSpace iteration 6\n",
      "INFO:drake:IrisInConfigurationSpace iteration 7\n",
      "INFO:drake:IrisInConfigurationSpace iteration 8\n",
      "INFO:drake:IrisInConfigurationSpace iteration 9\n",
      "INFO:drake:IrisInConfigurationSpace iteration 10\n",
      "INFO:drake:IrisInConfigurationSpace iteration 11\n",
      "INFO:drake:IrisInConfigurationSpace iteration 12\n",
      "INFO:drake:IrisInConfigurationSpace iteration 13\n",
      "INFO:drake:IrisInConfigurationSpace: Terminating because the hyperellipsoid relative volume change 0.00035609548937206545 is below the threshold 0.001.\n"
     ]
    },
    {
     "ename": "NameError",
     "evalue": "name 'names_region' is not defined",
     "output_type": "error",
     "traceback": [
      "\u001b[0;31m---------------------------------------------------------------------------\u001b[0m",
      "\u001b[0;31mNameError\u001b[0m                                 Traceback (most recent call last)",
      "\u001b[0;32m/tmp/ipykernel_88516/1270016746.py\u001b[0m in \u001b[0;36m<module>\u001b[0;34m\u001b[0m\n\u001b[1;32m     16\u001b[0m                                          \u001b[0mplant\u001b[0m\u001b[0;34m.\u001b[0m\u001b[0mGetMyContextFromRoot\u001b[0m\u001b[0;34m(\u001b[0m\u001b[0mcontext_for_iris\u001b[0m\u001b[0;34m)\u001b[0m\u001b[0;34m,\u001b[0m\u001b[0;34m\u001b[0m\u001b[0;34m\u001b[0m\u001b[0m\n\u001b[1;32m     17\u001b[0m                                          q_star, iris_options)\n\u001b[0;32m---> 18\u001b[0;31m     \u001b[0mname\u001b[0m \u001b[0;34m=\u001b[0m \u001b[0mnames_region\u001b[0m\u001b[0;34m[\u001b[0m\u001b[0mi\u001b[0m\u001b[0;34m]\u001b[0m\u001b[0;34m\u001b[0m\u001b[0;34m\u001b[0m\u001b[0m\n\u001b[0m\u001b[1;32m     19\u001b[0m     \u001b[0;32mif\u001b[0m \u001b[0mr\u001b[0m \u001b[0;32mis\u001b[0m \u001b[0;32mnot\u001b[0m \u001b[0;32mNone\u001b[0m\u001b[0;34m:\u001b[0m\u001b[0;34m\u001b[0m\u001b[0;34m\u001b[0m\u001b[0m\n\u001b[1;32m     20\u001b[0m         \u001b[0mSaveIrisRegionsYamlFile\u001b[0m\u001b[0;34m(\u001b[0m\u001b[0;34mf\"/home/sgrg/rlg/SUPERUROP/ciris/regions/simple_{name}.yaml\"\u001b[0m\u001b[0;34m,\u001b[0m \u001b[0;34m{\u001b[0m\u001b[0mname\u001b[0m\u001b[0;34m:\u001b[0m \u001b[0mr\u001b[0m\u001b[0;34m}\u001b[0m\u001b[0;34m)\u001b[0m\u001b[0;34m\u001b[0m\u001b[0;34m\u001b[0m\u001b[0m\n",
      "\u001b[0;31mNameError\u001b[0m: name 'names_region' is not defined"
     ]
    }
   ],
   "source": [
    "ciris_regions = dict()\n",
    "ciris_ellipses = []\n",
    "\n",
    "iris_options = IrisOptions()\n",
    "iris_options.require_sample_point_is_contained = True\n",
    "iris_options.configuration_space_margin = 1e-3\n",
    "iris_options.relative_termination_threshold = 0.001\n",
    "\n",
    "context_for_iris = context\n",
    "for i, s in enumerate(seed_points):\n",
    "    start = time.perf_counter()\n",
    "    print(\"seed point \", i, \" started\")\n",
    "    q = Ratfk.ComputeQValue(s, q_star)\n",
    "    plant.SetPositions(plant.GetMyMutableContextFromRoot(context_for_iris), q)\n",
    "    r = IrisInRationalConfigurationSpace(plant, \n",
    "                                         plant.GetMyContextFromRoot(context_for_iris),\n",
    "                                         q_star, iris_options)\n",
    "    name = names_regions[i]\n",
    "    if r is not None:\n",
    "        SaveIrisRegionsYamlFile(f\"/home/sgrg/rlg/SUPERUROP/ciris/regions/simple_{name}.yaml\", {name: r})\n",
    "    end = time.perf_counter()\n",
    "    print(\"time taken \", end-start)\n",
    "    #     ciris_regions[names_regions[i]] = r\n"
   ]
  },
  {
   "cell_type": "code",
   "execution_count": null,
   "id": "b7f5ceb5",
   "metadata": {},
   "outputs": [
    {
     "name": "stdout",
     "output_type": "stream",
     "text": [
      "starting seedpoint 1/5\n"
     ]
    }
   ],
   "source": [
    "binary_search_region_certificates_for_iris = dict.fromkeys([tuple(s) for s in seed_points])\n",
    "for i, (s, (initial_region, color)) in enumerate(zip(seed_points, ciris_regions)):\n",
    "    print(f\"starting seedpoint {i+1}/{len(ciris_regions)}\")\n",
    "    time.sleep(0.2)    \n",
    "    cert = cspace_free_polytope.BinarySearch(set(),\n",
    "                                                    initial_region.A(),\n",
    "                                                    initial_region.b(), \n",
    "                                                    initial_region.MaximumVolumeInscribedEllipsoid().center(), \n",
    "                                                    binary_search_options)\n",
    "    binary_search_region_certificates_for_iris[tuple(s)] = [(cert.certified_polytope(), cert, color)]"
   ]
  },
  {
   "cell_type": "code",
   "execution_count": 16,
   "id": "efbcd21e",
   "metadata": {},
   "outputs": [],
   "source": []
  },
  {
   "cell_type": "code",
   "execution_count": 38,
   "id": "b3f6a3ad",
   "metadata": {},
   "outputs": [],
   "source": [
    "ciris_regions_proc = [elem[0] for elem in ciris_regions]\n",
    "ciris_regions_proc_names = [\"Origin\", \"AboveEverything\", \"RightBin-Above\", \"RightShelf-Front3\", \"RightShelf-Middle1\"]\n",
    "regions_dict = dict()\n",
    "for n, r in zip(ciris_regions_proc_names, ciris_regions_proc):\n",
    "    regions_dict[n] = r"
   ]
  },
  {
   "cell_type": "code",
   "execution_count": 18,
   "id": "4172dee0",
   "metadata": {},
   "outputs": [
    {
     "data": {
      "image/png": "[encoded data removed]",
      "text/plain": [
       "<IPython.core.display.Image object>"
      ]
     },
     "metadata": {},
     "output_type": "display_data"
    },
    {
     "data": {
      "image/png": "[encoded data removed]",
      "text/plain": [
       "<Figure size 432x288 with 1 Axes>"
      ]
     },
     "metadata": {
      "needs_background": "light"
     },
     "output_type": "display_data"
    },
    {
     "name": "stdout",
     "output_type": "stream",
     "text": [
      "Graph has 1 connected components.\n"
     ]
    }
   ],
   "source": [
    "notebook_plot_connectivity(ciris_regions_proc, plot_dot=True, plot_adj_mat=True)"
   ]
  },
  {
   "cell_type": "code",
   "execution_count": 32,
   "id": "659762d1",
   "metadata": {},
   "outputs": [],
   "source": [
    "SaveIrisRegionsYamlFile(\"/home/sgrg/rlg/SUPERUROP/ciris/cirisregions.yaml\", regions_dict)"
   ]
  },
  {
   "cell_type": "code",
   "execution_count": 66,
   "id": "d2ee8adf",
   "metadata": {},
   "outputs": [
    {
     "data": {
      "text/plain": [
       "([<pydrake.systems.framework.Diagram at 0x7ccdac33b5f0>,\n",
       "  <pydrake.systems.framework.Diagram at 0x7ccdac33b170>,\n",
       "  <pydrake.systems.framework.Diagram at 0x7ccdac318230>,\n",
       "  <pydrake.systems.framework.Diagram at 0x7ccdac35a630>,\n",
       "  <pydrake.systems.framework.Diagram at 0x7ccdac31a330>,\n",
       "  <pydrake.systems.framework.Diagram at 0x7ccdac317130>,\n",
       "  <pydrake.systems.framework.Diagram at 0x7ccdac3397b0>,\n",
       "  <pydrake.systems.framework.Diagram at 0x7ccdac316930>,\n",
       "  <pydrake.systems.framework.Diagram at 0x7ccdac31aab0>,\n",
       "  <pydrake.systems.framework.Diagram at 0x7ccdb4160eb0>],\n",
       " [<pydrake.multibody.plant.MultibodyPlant at 0x7ccdac32d670>,\n",
       "  <pydrake.multibody.plant.MultibodyPlant at 0x7ccdb4abae30>,\n",
       "  <pydrake.multibody.plant.MultibodyPlant at 0x7ccdac32d070>,\n",
       "  <pydrake.multibody.plant.MultibodyPlant at 0x7ccdb4cc8bb0>,\n",
       "  <pydrake.multibody.plant.MultibodyPlant at 0x7ccdac358d30>,\n",
       "  <pydrake.multibody.plant.MultibodyPlant at 0x7ccdac33b670>,\n",
       "  <pydrake.multibody.plant.MultibodyPlant at 0x7ccdac358330>,\n",
       "  <pydrake.multibody.plant.MultibodyPlant at 0x7ccdb4ce68b0>,\n",
       "  <pydrake.multibody.plant.MultibodyPlant at 0x7ccdb4cb00f0>,\n",
       "  <pydrake.multibody.plant.MultibodyPlant at 0x7ccdb5cdb2f0>])"
      ]
     },
     "execution_count": 66,
     "metadata": {},
     "output_type": "execute_result"
    }
   ],
   "source": [
    "display_iris(build_env, meshcat, directives_file, regions_dict['RightShelf-Middle1'], undistort=True, q_star=q_star)"
   ]
  },
  {
   "cell_type": "code",
   "execution_count": 65,
   "id": "6465feba",
   "metadata": {},
   "outputs": [
    {
     "data": {
      "text/plain": [
       "([<pydrake.systems.framework.Diagram at 0x7ccdac31aeb0>,\n",
       "  <pydrake.systems.framework.Diagram at 0x7ccdac33a270>,\n",
       "  <pydrake.systems.framework.Diagram at 0x7ccdac314ff0>,\n",
       "  <pydrake.systems.framework.Diagram at 0x7ccdac314b30>,\n",
       "  <pydrake.systems.framework.Diagram at 0x7ccdac33a3b0>,\n",
       "  <pydrake.systems.framework.Diagram at 0x7ccdac33bcf0>,\n",
       "  <pydrake.systems.framework.Diagram at 0x7ccdac33b030>,\n",
       "  <pydrake.systems.framework.Diagram at 0x7ccdac3250b0>,\n",
       "  <pydrake.systems.framework.Diagram at 0x7ccdac31bab0>,\n",
       "  <pydrake.systems.framework.Diagram at 0x7ccdac338970>],\n",
       " [<pydrake.multibody.plant.MultibodyPlant at 0x7ccdac324bf0>,\n",
       "  <pydrake.multibody.plant.MultibodyPlant at 0x7ccdb4cdfb30>,\n",
       "  <pydrake.multibody.plant.MultibodyPlant at 0x7ccdac325970>,\n",
       "  <pydrake.multibody.plant.MultibodyPlant at 0x7ccdb41238f0>,\n",
       "  <pydrake.multibody.plant.MultibodyPlant at 0x7ccdac314630>,\n",
       "  <pydrake.multibody.plant.MultibodyPlant at 0x7ccdb416b1f0>,\n",
       "  <pydrake.multibody.plant.MultibodyPlant at 0x7ccdac317f30>,\n",
       "  <pydrake.multibody.plant.MultibodyPlant at 0x7ccdac3174b0>,\n",
       "  <pydrake.multibody.plant.MultibodyPlant at 0x7ccdac3255f0>,\n",
       "  <pydrake.multibody.plant.MultibodyPlant at 0x7ccdb4b174b0>])"
      ]
     },
     "execution_count": 65,
     "metadata": {},
     "output_type": "execute_result"
    }
   ],
   "source": [
    "display_iris(build_env, meshcat, directives_file, iris_regions['RightShelf-Middle1'])"
   ]
  },
  {
   "cell_type": "code",
   "execution_count": 43,
   "id": "f4d33bf7",
   "metadata": {},
   "outputs": [
    {
     "name": "stdout",
     "output_type": "stream",
     "text": [
      "{'Origin': <pydrake.geometry.optimization.HPolyhedron object at 0x7cce55531330>, 'AboveEverything': <pydrake.geometry.optimization.HPolyhedron object at 0x7ccdb4b64ef0>, 'RightBin-Above': <pydrake.geometry.optimization.HPolyhedron object at 0x7ccdb4abb870>, 'RightShelf-Front3': <pydrake.geometry.optimization.HPolyhedron object at 0x7ccdb41015f0>, 'RightShelf-Middle1': <pydrake.geometry.optimization.HPolyhedron object at 0x7ccdb410d370>}\n"
     ]
    }
   ],
   "source": [
    "print(regions_dict)"
   ]
  },
  {
   "cell_type": "markdown",
   "id": "8b244a98",
   "metadata": {},
   "source": [
    "## Certifying Regions"
   ]
  },
  {
   "cell_type": "code",
   "execution_count": 7,
   "id": "98458055",
   "metadata": {},
   "outputs": [
    {
     "data": {
      "text/plain": [
       "{'AboveEverything': <pydrake.geometry.optimization.HPolyhedron at 0x7dcf68b8e7b0>,\n",
       " 'Origin': <pydrake.geometry.optimization.HPolyhedron at 0x7dcec96ac9f0>,\n",
       " 'RightBin-AboveRightShelf-Front3': <pydrake.geometry.optimization.HPolyhedron at 0x7dcf3c35eab0>,\n",
       " 'RightShelf-Middle1': <pydrake.geometry.optimization.HPolyhedron at 0x7dcec96ad830>}"
      ]
     },
     "execution_count": 7,
     "metadata": {},
     "output_type": "execute_result"
    }
   ],
   "source": [
    "ciris_regions = LoadIrisRegionsYamlFile(\"/home/sgrg/rlg/SUPERUROP/ciris/cirisregions.yaml\")\n",
    "ciris_regions"
   ]
  },
  {
   "cell_type": "code",
   "execution_count": null,
   "id": "0541f6b6",
   "metadata": {},
   "outputs": [
    {
     "name": "stdout",
     "output_type": "stream",
     "text": [
      "starting seedpoint 1/4\n"
     ]
    }
   ],
   "source": [
    "binary_search_region_certificates_for_iris = dict.fromkeys([tuple(name) for name in ciris_regions.keys()])\n",
    "for i, initial_region in enumerate(ciris_regions.values()):\n",
    "    print(f\"starting seedpoint {i+1}/{len(ciris_regions)}\")\n",
    "    time.sleep(0.2)    \n",
    "    cert = cspace_free_polytope.BinarySearch(set(),\n",
    "                                                    initial_region.A(),\n",
    "                                                    initial_region.b(), \n",
    "                                                    initial_region.MaximumVolumeInscribedEllipsoid().center(), \n",
    "                                                    binary_search_options)\n",
    "    binary_search_region_certificates_for_iris[tuple(s)] = [(cert.certified_polytope(), cert, color)]"
   ]
  },
  {
   "cell_type": "markdown",
   "id": "c47a542a",
   "metadata": {},
   "source": [
    "## Exploring Created Regions"
   ]
  },
  {
   "cell_type": "code",
   "execution_count": 12,
   "id": "8c6f855e",
   "metadata": {},
   "outputs": [
    {
     "name": "stdout",
     "output_type": "stream",
     "text": [
      "{'AboveEverything': <pydrake.geometry.optimization.HPolyhedron object at 0x7586403334f0>, 'Origin': <pydrake.geometry.optimization.HPolyhedron object at 0x7586401de4f0>, 'RightBin-Above': <pydrake.geometry.optimization.HPolyhedron object at 0x75864033ef30>, 'RightShelf-Front3': <pydrake.geometry.optimization.HPolyhedron object at 0x758641d14130>, 'RightShelf-Middle1': <pydrake.geometry.optimization.HPolyhedron object at 0x758641d170b0>}\n",
      "AboveEverything\n",
      "Origin\n",
      "RightBin-Above\n",
      "RightShelf-Front3\n",
      "RightShelf-Middle1\n"
     ]
    }
   ],
   "source": [
    "regions_file = \"/home/sgrg/rlg/SUPERUROP/ciris/cirisregions_simplercoll.yaml\"\n",
    "regions = LoadIrisRegionsYamlFile(regions_file)\n",
    "print(regions)\n",
    "for name in regions:\n",
    "    print(name)\n",
    "    display_iris(build_env, meshcat, directives_file, regions[name])\n",
    "    meshcat.AddButton(\"Stop Animation\", \"Escape\")\n",
    "    while meshcat.GetButtonClicks(\"Stop Animation\") < 1:\n",
    "        time.sleep(0.01)\n",
    "    meshcat.DeleteButton(\"Stop Animation\")"
   ]
  },
  {
   "cell_type": "code",
   "execution_count": 10,
   "id": "33bfbc4b",
   "metadata": {},
   "outputs": [
    {
     "name": "stdout",
     "output_type": "stream",
     "text": [
      "AboveEverything\n",
      "Origin\n",
      "RightBin-Above\n",
      "RightShelf-Front3\n",
      "RightShelf-Middle1\n"
     ]
    }
   ],
   "source": [
    "for x in regions:\n",
    "    print(x)"
   ]
  },
  {
   "cell_type": "code",
   "execution_count": 22,
   "id": "b5f22434",
   "metadata": {},
   "outputs": [
    {
     "data": {
      "text/plain": [
       "([<pydrake.systems.framework.Diagram at 0x74340a18dfb0>,\n",
       "  <pydrake.systems.framework.Diagram at 0x7434097d73b0>,\n",
       "  <pydrake.systems.framework.Diagram at 0x743408d9eaf0>,\n",
       "  <pydrake.systems.framework.Diagram at 0x74340a16ff70>,\n",
       "  <pydrake.systems.framework.Diagram at 0x743408da6e30>,\n",
       "  <pydrake.systems.framework.Diagram at 0x743408da6530>,\n",
       "  <pydrake.systems.framework.Diagram at 0x743408da58f0>,\n",
       "  <pydrake.systems.framework.Diagram at 0x7434097aee70>,\n",
       "  <pydrake.systems.framework.Diagram at 0x743408d9e5b0>,\n",
       "  <pydrake.systems.framework.Diagram at 0x7434097d7870>],\n",
       " [<pydrake.multibody.plant.MultibodyPlant at 0x74340ab44030>,\n",
       "  <pydrake.multibody.plant.MultibodyPlant at 0x74340ab28cf0>,\n",
       "  <pydrake.multibody.plant.MultibodyPlant at 0x74340a13b770>,\n",
       "  <pydrake.multibody.plant.MultibodyPlant at 0x7434097aed70>,\n",
       "  <pydrake.multibody.plant.MultibodyPlant at 0x74340b5f02f0>,\n",
       "  <pydrake.multibody.plant.MultibodyPlant at 0x7434140cae30>,\n",
       "  <pydrake.multibody.plant.MultibodyPlant at 0x7434097ae730>,\n",
       "  <pydrake.multibody.plant.MultibodyPlant at 0x74340abfaa30>,\n",
       "  <pydrake.multibody.plant.MultibodyPlant at 0x74340a1f41b0>,\n",
       "  <pydrake.multibody.plant.MultibodyPlant at 0x74340abfb0b0>])"
      ]
     },
     "execution_count": 22,
     "metadata": {},
     "output_type": "execute_result"
    }
   ],
   "source": [
    "simple_region = LoadIrisRegionsYamlFile(\"/home/sgrg/rlg/SUPERUROP/ciris/simple_AboveEverything.yaml\")\n",
    "display_iris(build_env, meshcat, directives_file, simple_region['AboveEverything'])"
   ]
  },
  {
   "cell_type": "code",
   "execution_count": 20,
   "id": "3b60eb4c",
   "metadata": {},
   "outputs": [],
   "source": [
    "visualize_state(simple_region['AboveEverything'].ChebyshevCenter(), plant, diagram, context)"
   ]
  },
  {
   "cell_type": "code",
   "execution_count": 23,
   "id": "f66dfa53",
   "metadata": {},
   "outputs": [],
   "source": []
  },
  {
   "cell_type": "code",
   "execution_count": null,
   "id": "054fb6b3",
   "metadata": {},
   "outputs": [],
   "source": []
  }
 ],
 "metadata": {
  "kernelspec": {
   "display_name": "Python 3 (ipykernel)",
   "language": "python",
   "name": "python3"
  },
  "language_info": {
   "codemirror_mode": {
    "name": "ipython",
    "version": 3
   },
   "file_extension": ".py",
   "mimetype": "text/x-python",
   "name": "python",
   "nbconvert_exporter": "python",
   "pygments_lexer": "ipython3",
   "version": "3.10.12"
  }
 },
 "nbformat": 4,
 "nbformat_minor": 5
}
